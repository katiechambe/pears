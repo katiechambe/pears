{
 "cells": [
  {
   "cell_type": "code",
   "execution_count": 1,
   "metadata": {},
   "outputs": [
    {
     "name": "stdout",
     "output_type": "stream",
     "text": [
      "imported h5py...\n",
      "modules seem to have loaded?\n"
     ]
    }
   ],
   "source": [
    "import sys\n",
    "import h5py\n",
    "import copy\n",
    "import pandas as pd\n",
    "import numpy as np\n",
    "from utils.get_groups import GetGroups\n",
    "from utils.paths import SetupPaths\n",
    "from utils.vectorCorrection import vectorCorrection as vector\n",
    "from utils.abundance_matching import AbundanceMatching\n",
    "\n",
    "paths = SetupPaths()"
   ]
  },
  {
   "cell_type": "code",
   "execution_count": 61,
   "metadata": {},
   "outputs": [],
   "source": [
    "pair_data.close()"
   ]
  },
  {
   "cell_type": "code",
   "execution_count": 62,
   "metadata": {},
   "outputs": [],
   "source": [
    "# start with ill 135  \n",
    "    \n",
    "snapnum = 56\n",
    "sim = \"Illustris\"\n",
    "pair_path = f\"{sim}_{snapnum}_10.hdf5\"\n",
    "pair_data = h5py.File(f\"{paths.path_pairs}{pair_path}\", \"r\")\n",
    "# realarray = np.unique(np.array(pair_data['pairs']['dark']['Realization']))"
   ]
  },
  {
   "cell_type": "code",
   "execution_count": 64,
   "metadata": {},
   "outputs": [
    {
     "data": {
      "text/plain": [
       "3.7087742646422353"
      ]
     },
     "execution_count": 64,
     "metadata": {},
     "output_type": "execute_result"
    }
   ],
   "source": [
    "pair_data['Header'].attrs['Redshift']"
   ]
  },
  {
   "cell_type": "code",
   "execution_count": 60,
   "metadata": {
    "code_folding": [
     0
    ],
    "scrolled": true
   },
   "outputs": [
    {
     "name": "stdout",
     "output_type": "stream",
     "text": [
      "70308\n",
      "70308\n",
      "70308\n",
      "70308\n",
      "70308\n",
      "70308\n",
      "70308\n",
      "70308\n",
      "70308\n",
      "70308\n",
      "70308\n",
      "70308\n",
      "70308\n",
      "70308\n",
      "70308\n",
      "70308\n",
      "70308\n",
      "70308\n",
      "70308\n",
      "70308\n",
      "70308\n",
      "70308\n",
      "70308\n",
      "70308\n",
      "70308\n",
      "70308\n",
      "70308\n",
      "70308\n",
      "70308\n",
      "70308\n",
      "70308\n",
      "0\n",
      "0\n",
      "0\n",
      "0\n",
      "0\n",
      "0\n",
      "0\n",
      "0\n",
      "0\n",
      "0\n",
      "0\n",
      "0\n",
      "0\n",
      "0\n",
      "0\n",
      "0\n",
      "0\n",
      "0\n",
      "0\n",
      "0\n",
      "0\n",
      "0\n",
      "0\n",
      "0\n",
      "0\n",
      "0\n",
      "0\n",
      "0\n",
      "0\n",
      "0\n",
      "0\n"
     ]
    }
   ],
   "source": [
    "for key in pair_data['pairs']['dark'].keys():\n",
    "    print(len(pair_data['pairs']['dark'][key]))\n",
    "for key in pair_data['pairs']['hydro'].keys():\n",
    "    print(len(pair_data['pairs']['hydro'][key]))"
   ]
  },
  {
   "cell_type": "code",
   "execution_count": 52,
   "metadata": {},
   "outputs": [
    {
     "data": {
      "text/plain": [
       "True"
      ]
     },
     "execution_count": 52,
     "metadata": {},
     "output_type": "execute_result"
    }
   ],
   "source": [
    "len(pair_data['pairs']['dark']['Group ID']) == 0"
   ]
  },
  {
   "cell_type": "markdown",
   "metadata": {},
   "source": [
    "pair_data: \"Header\", \"pairs\", \"unpaired\"\n",
    "\n",
    "pair_data['pairs']: \"dark\", \"hydro\"\n",
    "pair_data['unpaired']: \"dark\", \"hydro\"\n",
    "\n",
    "**keys for unpaired:** *'Group ID', 'Group Mass', 'Group Nsubs', 'Group Radius', 'Sub1 BHMass', 'Sub1 BHMdot', 'Sub1 GasMetallicity', 'Sub1 ID', 'Sub1 Mass', 'Sub1 MassType', 'Sub1 Pos', 'Sub1 SFR', 'Sub1 SFRinRad', 'Sub1 Stellar Mass', 'Sub1 Vel'*\n",
    "\n",
    "**keys for paired:** *'Group ID', 'Group Mass', 'Group Nsubs', 'Group Radius', 'Realization', 'RelVel', 'Separation', 'Stellar Mass Ratio', 'Sub1 BHMass', 'Sub1 BHMdot', 'Sub1 GasMetallicity', 'Sub1 ID', 'Sub1 Mass', 'Sub1 MassType', 'Sub1 Pos', 'Sub1 SFR', 'Sub1 SFRinRad', 'Sub1 Stellar Mass', 'Sub1 Vel', 'Sub2 BHMass', 'Sub2 BHMdot', 'Sub2 GasMetallicity', 'Sub2 ID', 'Sub2 Mass', 'Sub2 MassType', 'Sub2 Pos', 'Sub2 SFR', 'Sub2 SFRinRad', 'Sub2 Stellar Mass', 'Sub2 Vel', 'TripleFlag'*"
   ]
  },
  {
   "cell_type": "code",
   "execution_count": 27,
   "metadata": {},
   "outputs": [
    {
     "name": "stdout",
     "output_type": "stream",
     "text": [
      "total number of dwarf prims in real -1 is: 11573\n",
      "total number of dwarf prims in real 0 is: 11440\n",
      "total number of dwarf prims in real 1 is: 11449\n",
      "total number of dwarf prims in real 2 is: 11401\n",
      "total number of dwarf prims in real 3 is: 11400\n",
      "total number of dwarf prims in real 4 is: 11509\n",
      "total number of dwarf prims in real 5 is: 11413\n",
      "total number of dwarf prims in real 6 is: 11450\n",
      "total number of dwarf prims in real 7 is: 11423\n",
      "total number of dwarf prims in real 8 is: 11415\n",
      "total number of dwarf prims in real 9 is: 11497\n",
      "total number of dwarf prims in real 10 is: 11409\n",
      "[11573, 11440, 11449, 11401, 11400, 11509, 11413, 11450, 11423, 11415, 11497, 11409]\n"
     ]
    }
   ],
   "source": [
    "num_prims_per_real = []\n",
    "for realization in realarray:\n",
    "    # find num of unpaired prims:\n",
    "    unpaired_stells = np.array(pair_data['unpaired']['dark']['Sub1 Stellar Mass'])\n",
    "    unpaired_realization = np.array(pair_data['unpaired']['dark']['Realization'])\n",
    "    \n",
    "    mask_prims = (unpaired_stells > 0.01) & (unpaired_stells < 0.5)\n",
    "    mask_real = unpaired_realization == realization\n",
    "\n",
    "    num_unpairedprims = np.count_nonzero(mask_real & mask_prims)\n",
    "    \n",
    "    \n",
    "    # find num of paired prims:\n",
    "    paired_stells = np.array(pair_data['pairs']['dark']['Sub1 Stellar Mass'])\n",
    "    paired_realization = np.array(pair_data['pairs']['dark']['Realization'])\n",
    "    \n",
    "    mask_prims = (paired_stells > 0.01) & (paired_stells < 0.5)\n",
    "    mask_real = paired_realization == realization\n",
    "    \n",
    "    num_pairedprims = np.count_nonzero(mask_real & mask_prims)\n",
    "\n",
    "    tot_numprims = num_unpairedprims + num_pairedprims\n",
    "    \n",
    "    print(f\"total number of dwarf prims in real {realization} is: {tot_numprims}\")\n",
    "    num_prims_per_real.append(tot_numprims)\n",
    "    \n",
    "print(num_prims_per_real)"
   ]
  },
  {
   "cell_type": "code",
   "execution_count": 42,
   "metadata": {},
   "outputs": [
    {
     "name": "stdout",
     "output_type": "stream",
     "text": [
      "11431.5 [11407.08 11499.88]\n"
     ]
    }
   ],
   "source": [
    "quart = np.percentile(num_prims_per_real,[16,84])\n",
    "print(np.median(num_prims_per_real), quart)"
   ]
  },
  {
   "cell_type": "code",
   "execution_count": 63,
   "metadata": {},
   "outputs": [
    {
     "data": {
      "text/plain": [
       "<KeysViewHDF5 ['Header', 'pairs']>"
      ]
     },
     "execution_count": 63,
     "metadata": {},
     "output_type": "execute_result"
    }
   ],
   "source": [
    "pair_data.keys()"
   ]
  },
  {
   "cell_type": "code",
   "execution_count": 6,
   "metadata": {},
   "outputs": [
    {
     "data": {
      "text/plain": [
       "<KeysViewHDF5 ['Group ID', 'Group Mass', 'Group Nsubs', 'Group Radius', 'Realization', 'RelVel', 'Separation', 'Stellar Mass Ratio', 'Sub1 BHMass', 'Sub1 BHMdot', 'Sub1 GasMetallicity', 'Sub1 ID', 'Sub1 Mass', 'Sub1 MassType', 'Sub1 Pos', 'Sub1 SFR', 'Sub1 SFRinRad', 'Sub1 Stellar Mass', 'Sub1 Vel', 'Sub2 BHMass', 'Sub2 BHMdot', 'Sub2 GasMetallicity', 'Sub2 ID', 'Sub2 Mass', 'Sub2 MassType', 'Sub2 Pos', 'Sub2 SFR', 'Sub2 SFRinRad', 'Sub2 Stellar Mass', 'Sub2 Vel', 'TripleFlag']>"
      ]
     },
     "execution_count": 6,
     "metadata": {},
     "output_type": "execute_result"
    }
   ],
   "source": [
    "pair_data['pairs']['dark'].keys()"
   ]
  },
  {
   "cell_type": "code",
   "execution_count": 7,
   "metadata": {},
   "outputs": [
    {
     "data": {
      "text/plain": [
       "array([-1,  0,  1,  2,  3,  4,  5,  6,  7,  8,  9, 10])"
      ]
     },
     "execution_count": 7,
     "metadata": {},
     "output_type": "execute_result"
    }
   ],
   "source": [
    "np.unique(np.array(pair_data['pairs']['dark']['Realization']))"
   ]
  },
  {
   "cell_type": "code",
   "execution_count": 14,
   "metadata": {},
   "outputs": [
    {
     "name": "stdout",
     "output_type": "stream",
     "text": [
      "Number of pairs: 183168\n",
      "Number of realization 0 pairs: 15264\n",
      "Number of realization 0 dwarf primaries: 8427\n"
     ]
    }
   ],
   "source": [
    "# number of pairs (number of primaries w a companion)\n",
    "mask = np.array(pair_data['pairs']['dark']['Realization']) == 0 # realization 0\n",
    "primstar_real = pair_data['pairs']['dark']['Sub1 Stellar Mass'][mask] # realization 0 primaries\n",
    "mask_prim_dwarfs = (primstar_real > 0.01) & (primstar_real < 0.5) # realization 0 dwarf primaries\n",
    "print(\"Number of pairs:\",len(np.array(pair_data['pairs']['dark']['Group ID'])))\n",
    "print(\"Number of realization 0 pairs:\",sum(mask))\n",
    "print(\"Number of realization 0 dwarf primaries:\",sum(mask_prim_dwarfs))"
   ]
  },
  {
   "cell_type": "code",
   "execution_count": 15,
   "metadata": {
    "code_folding": [],
    "scrolled": true
   },
   "outputs": [
    {
     "name": "stdout",
     "output_type": "stream",
     "text": [
      "Number of : 39792\n",
      "Number of : 3316\n",
      "Number of : 3013\n"
     ]
    }
   ],
   "source": [
    "# number of unpaired primary dwarfs\n",
    "mask = np.array(pair_data['unpaired']['dark']['Realization']) == 0\n",
    "primstar_real = pair_data['unpaired']['dark']['Sub1 Stellar Mass'][mask]\n",
    "mask_prim_dwarfs = (primstar_real > 0.01) & (primstar_real < 0.5) \n",
    "print(\"Number of :\",len(np.array(pair_data['unpaired']['dark']['Group ID'])))\n",
    "print(\"Number of :\",sum(mask))\n",
    "print(\"Number of :\",sum(mask_prim_dwarfs))"
   ]
  },
  {
   "cell_type": "code",
   "execution_count": 61,
   "metadata": {},
   "outputs": [
    {
     "name": "stdout",
     "output_type": "stream",
     "text": [
      "15264\n",
      "--- sum() 0.017501115798950195 seconds ---\n",
      "15264\n",
      "--- count_nonzero(): 0.0004572868347167969 seconds ---\n",
      "[167904  15264]\n",
      "--- bincount(): 0.0009844303131103516 seconds ---\n"
     ]
    }
   ],
   "source": [
    "import time\n",
    "\n",
    "start_time = time.time()\n",
    "print(sum(mask))\n",
    "print(\"--- sum() %s seconds ---\" % (time.time() - start_time))\n",
    "\n",
    "start_time = time.time()\n",
    "print(np.count_nonzero(mask))\n",
    "print(\"--- count_nonzero(): %s seconds ---\" % (time.time() - start_time))\n",
    "\n",
    "start_time = time.time()\n",
    "print(np.bincount(mask))\n",
    "print(\"--- bincount(): %s seconds ---\" % (time.time() - start_time))\n"
   ]
  },
  {
   "cell_type": "code",
   "execution_count": null,
   "metadata": {},
   "outputs": [],
   "source": [
    "count_nonzero(sum(mask_prim_dwarfs))"
   ]
  },
  {
   "cell_type": "code",
   "execution_count": null,
   "metadata": {},
   "outputs": [],
   "source": [
    "num_prims_per_real = []\n",
    "for realization in realarray:\n",
    "    # find num of unpaired prims:\n",
    "    unpaired_stells = pair_data['unpaired']['dark']['Sub1 Stellar Mass']\n",
    "    unpaired_realization = pair_data['unpaired']['dark']['Realization']\n",
    "    \n",
    "    mask_prims = (unpaired_stells > 0.01) & (unpaired_stells < 0.5)\n",
    "    mask_real = unpaired_realization == realization\n",
    "\n",
    "    num_unpairedprims = np.count_nonzero(mask_real & mask_prims)\n",
    "    \n",
    "    \n",
    "    # find num of paired prims:\n",
    "    paired_stells = pair_data['pairs']['dark']['Sub1 Stellar Mass']\n",
    "    paired_realization = pair_data['pairs']['dark']['Realization']\n",
    "    \n",
    "    mask_prims = (paired_stells > 0.01) & (paired_stells < 0.5)\n",
    "    mask_real = paired_realization == realization\n",
    "    \n",
    "    num_pairedprims = np.count_nonzero(mask_real & mask_prims)\n",
    "\n",
    "    tot_numprims = num_unpairedprims + num_pairedprims\n",
    "    \n",
    "    print(f\"total number of dwarf prims in real {realization} is: {tot_numprims}\")\n",
    "    num_prims_per_real.append(tot_numprims)\n",
    "    \n",
    "print(num_prims_per_real)"
   ]
  },
  {
   "cell_type": "code",
   "execution_count": null,
   "metadata": {},
   "outputs": [],
   "source": [
    "sum(mask_prim_dwarfs) + sum(unpaired dwarfs in realization 0)"
   ]
  },
  {
   "cell_type": "code",
   "execution_count": 51,
   "metadata": {},
   "outputs": [],
   "source": [
    "pair_data.close()"
   ]
  },
  {
   "cell_type": "code",
   "execution_count": null,
   "metadata": {},
   "outputs": [],
   "source": []
  },
  {
   "cell_type": "code",
   "execution_count": 45,
   "metadata": {},
   "outputs": [],
   "source": [
    "# start with ill 135  \n",
    "    \n",
    "snapnum = 135\n",
    "sim = \"Illustris\"\n",
    "pair_path = f\"{sim}_{snapnum}_10.hdf5\"\n",
    "pair_data = h5py.File(f\"{paths.path_pairs}{pair_path}\", \"a\")"
   ]
  },
  {
   "cell_type": "code",
   "execution_count": 46,
   "metadata": {},
   "outputs": [],
   "source": [
    "pair_data.__delitem__('/unpaired/')"
   ]
  },
  {
   "cell_type": "code",
   "execution_count": 47,
   "metadata": {},
   "outputs": [
    {
     "data": {
      "text/plain": [
       "<KeysViewHDF5 ['Header', 'pairs']>"
      ]
     },
     "execution_count": 47,
     "metadata": {},
     "output_type": "execute_result"
    }
   ],
   "source": [
    "pair_data['pairs'].keys()"
   ]
  },
  {
   "cell_type": "code",
   "execution_count": 17,
   "metadata": {
    "code_folding": [
     0,
     4,
     7
    ]
   },
   "outputs": [
    {
     "ename": "NameError",
     "evalue": "name 'self' is not defined",
     "output_type": "error",
     "traceback": [
      "\u001b[0;31m---------------------------------------------------------------------------\u001b[0m",
      "\u001b[0;31mNameError\u001b[0m                                 Traceback (most recent call last)",
      "Cell \u001b[0;32mIn [17], line 2\u001b[0m\n\u001b[1;32m      1\u001b[0m \u001b[38;5;28;01mtry\u001b[39;00m:\n\u001b[0;32m----> 2\u001b[0m     data \u001b[38;5;241m=\u001b[39m pair_data[\u001b[38;5;28;43mself\u001b[39;49m\u001b[38;5;241m.\u001b[39mphys]\n\u001b[1;32m      3\u001b[0m     red_coor \u001b[38;5;241m=\u001b[39m pair_data[\u001b[38;5;124m'\u001b[39m\u001b[38;5;124mHeader\u001b[39m\u001b[38;5;124m'\u001b[39m]\u001b[38;5;241m.\u001b[39mattrs[\u001b[38;5;124m'\u001b[39m\u001b[38;5;124mRedshift\u001b[39m\u001b[38;5;124m'\u001b[39m]\n\u001b[1;32m      5\u001b[0m \u001b[38;5;28;01mexcept\u001b[39;00m \u001b[38;5;167;01mKeyError\u001b[39;00m:\n",
      "\u001b[0;31mNameError\u001b[0m: name 'self' is not defined"
     ]
    }
   ],
   "source": [
    "try:\n",
    "    data = pair_data[self.phys]\n",
    "    red_coor = pair_data['Header'].attrs['Redshift']\n",
    "\n",
    "except KeyError:\n",
    "    print(f\"snapshot {snapshot}: data does not exist - try another snapshot\")\n",
    "\n",
    "else:\n",
    "    med_mask = np.array(data[\"Realization\"]) == -1\n",
    "\n",
    "    \n",
    "    primary_stell = np.array(data[\"Sub1 Stellar Mass\"])\n",
    "\n",
    "    # primary stellar mass will be different for dwarf and massive pairs!~\n",
    "    if self.size == \"dwarf\":\n",
    "        primary_analog = (primary_stell > 0.01) & (primary_stell < 0.5)\n",
    "    elif self.size == \"massive\":\n",
    "        primary_analog = (primary_stell > 0.5) & (primary_stell < 10) # this doesn't matter, can be changed! \n",
    "\n",
    "    # get major pairs only  \n",
    "    majors = np.array(data[\"Stellar Mass Ratio\"]) > 1/4\n",
    "    minors = (np.array(data[\"Stellar Mass Ratio\"]) < 1/4) & (np.array(data[\"Stellar Mass Ratio\"]) > 1/10)\n",
    "    pair = majors+minors\n",
    "\n",
    "    minsep = np.array(data[\"Separation\"]) >10\n",
    "    lowsep = np.array(data[\"Separation\"]) < 50\n",
    "    highsep = np.array(data[\"Separation\"]) > 50\n",
    "\n",
    "    lowvel = np.array(data[\"RelVel\"]) < 100\n",
    "    highvel = np.array(data[\"RelVel\"]) > 100\n",
    "\n",
    "    countarray = []\n",
    "\n",
    "    for i in np.arange(-1,10):\n",
    "        realmask = np.array(data[\"Realization\"]) == i\n",
    "        counts = np.sum(lowsep & primary_analog & pair & minsep & realmask)\n",
    "        numprims = np.sum(primary_analog & realmask)\n",
    "        countarray.append(counts/numprims)\n",
    "\n",
    "    masks = {\"primaries\":primary_analog,\n",
    "             \"allpairs\":primary_analog & minsep,\n",
    "             \"median\": primary_analog & med_mask,\n",
    "             \"major\":majors & primary_analog & minsep, \n",
    "             \"minor\":minors & primary_analog & minsep,\n",
    "             \"majormed\":majors & med_mask & primary_analog & minsep,\n",
    "             \"minormed\":minors & med_mask & primary_analog & minsep,\n",
    "             \"lowsep\":lowsep & primary_analog & pair & minsep,\n",
    "             \"highsep\":highsep & primary_analog & pair & minsep,\n",
    "             \"lowsepmajor\":lowsep & primary_analog & pair & minsep & majors,\n",
    "             \"highsepmajor\":highsep & primary_analog & pair & minsep & majors,\n",
    "             \"lowvel\":lowvel & primary_analog & pair & minsep,\n",
    "             \"highvel\":highvel & primary_analog & pair & minsep,\n",
    "             \"lowvelmajor\":lowvel & primary_analog & pair & minsep & majors,\n",
    "             \"highvelmajor\":highvel & primary_analog & pair & minsep & majors}\n",
    "\n",
    "    use_mask = masks[self.subset]\n",
    "    num_pairs = np.sum(use_mask)\n",
    "    num_primaries = np.sum(primary_analog)\n",
    "    ratio_pairs = num_pairs/num_primaries\n",
    "\n",
    "    if all(use_mask == False):\n",
    "        print(f\"{snapshot} {self.phys} {self.size} no pairs in subset {self.subset}\")\n",
    "\n",
    "    # dictionary  of subhalos in group\n",
    "    sublist = {\"Snapshot\":snapnum,\n",
    "               \"Redshift\":red_coor,\n",
    "               \"Simulation\":self.sim,\n",
    "               \"Number Pairs\":np.sum(use_mask),\n",
    "               \"Number Primaries\":np.sum(primary_analog),\n",
    "               \"Number Tertiaries\":np.sum(primary_analog),\n",
    "               \"Ratio Pairs\": num_pairs/num_primaries}\n",
    "\n",
    "    for key, val in data.items():\n",
    "        sublist[key] = np.array(val)[use_mask]"
   ]
  },
  {
   "cell_type": "code",
   "execution_count": null,
   "metadata": {},
   "outputs": [],
   "source": []
  },
  {
   "cell_type": "code",
   "execution_count": null,
   "metadata": {},
   "outputs": [],
   "source": []
  },
  {
   "cell_type": "markdown",
   "metadata": {},
   "source": []
  },
  {
   "cell_type": "markdown",
   "metadata": {},
   "source": []
  },
  {
   "cell_type": "markdown",
   "metadata": {},
   "source": []
  },
  {
   "cell_type": "code",
   "execution_count": 65,
   "metadata": {},
   "outputs": [
    {
     "data": {
      "text/plain": [
       "'/xdisk/gbesla/katiechambe/pears/data/pairs/'"
      ]
     },
     "execution_count": 65,
     "metadata": {},
     "output_type": "execute_result"
    }
   ],
   "source": [
    "paths.path_pairs"
   ]
  },
  {
   "cell_type": "code",
   "execution_count": null,
   "metadata": {},
   "outputs": [],
   "source": [
    "h5py.close(f\"/xdisk/gbesla/katiechambe/pears/data/pairs/Illustris_97_10.hdf5\")\n",
    "for i in np.arange(0,136):\n",
    "    sim = \"Illustris\"\n",
    "    pair_path = f\"{sim}_{i}_10.hdf5\"\n",
    "    try:\n",
    "        pair_data = h5py.File(f\"{paths.path_pairs}{pair_path}\", \"r+\")\n",
    "        dat = pair_data['unpaired']\n",
    "        dat[0]\n",
    "    except OSError:\n",
    "        print(\"snap 97 open for some reason\")\n",
    "    except:\n",
    "        print(f'dne in snap{i}')\n",
    "    pair_data.close()"
   ]
  },
  {
   "cell_type": "code",
   "execution_count": 8,
   "metadata": {},
   "outputs": [],
   "source": [
    "# pairs = {}\n",
    "# for it_key1 in pair_data.keys()[1:]: #skip header\n",
    "#     pairs[it_key1] = {}\n",
    "#     for it_key2 in pair_data[itkey1].keys():\n",
    "#         pairs[it_key1][it_key2]"
   ]
  }
 ],
 "metadata": {
  "kernelspec": {
   "display_name": "tart",
   "language": "python",
   "name": "tart"
  },
  "language_info": {
   "codemirror_mode": {
    "name": "ipython",
    "version": 3
   },
   "file_extension": ".py",
   "mimetype": "text/x-python",
   "name": "python",
   "nbconvert_exporter": "python",
   "pygments_lexer": "ipython3",
   "version": "3.8.13"
  },
  "toc": {
   "base_numbering": 1,
   "nav_menu": {},
   "number_sections": true,
   "sideBar": true,
   "skip_h1_title": false,
   "title_cell": "Table of Contents",
   "title_sidebar": "Contents",
   "toc_cell": false,
   "toc_position": {},
   "toc_section_display": true,
   "toc_window_display": false
  }
 },
 "nbformat": 4,
 "nbformat_minor": 4
}
