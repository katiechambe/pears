{
 "cells": [
  {
   "cell_type": "code",
   "execution_count": 53,
   "metadata": {},
   "outputs": [],
   "source": [
    "import sys\n",
    "import h5py\n",
    "import numpy as np\n",
    "from utils.get_groups import GetGroups\n",
    "from utils.paths import SetupPaths\n",
    "from utils.vectorCorrection import vectorCorrection as vector\n",
    "from utils.abundance_matching import AbundanceMatching\n",
    "import matplotlib.pyplot as plt\n",
    "import pandas as pd\n",
    "\n",
    "paths = SetupPaths()"
   ]
  },
  {
   "cell_type": "markdown",
   "metadata": {},
   "source": [
    "# Groups\n",
    "run make_groups.py"
   ]
  },
  {
   "cell_type": "code",
   "execution_count": 2,
   "metadata": {},
   "outputs": [],
   "source": [
    "group_data_ill = h5py.File(f\"{paths.path_groups}Illustris_135.hdf5\", \"r\")\n",
    "group_data_tng = h5py.File(f\"{paths.path_groups}TNG_99.hdf5\", \"r\")"
   ]
  },
  {
   "cell_type": "markdown",
   "metadata": {},
   "source": [
    "keys: \n",
    "- dark, hydro\n",
    "    - dwarf, massive\n",
    "        - 'Group Mass', 'Group Number', 'Group Radius', 'Nsubs'"
   ]
  },
  {
   "cell_type": "code",
   "execution_count": 3,
   "metadata": {},
   "outputs": [
    {
     "name": "stdout",
     "output_type": "stream",
     "text": [
      "Illustris\n",
      "_______________________\n",
      "dark \n",
      "      -  dwarf 15357\n",
      "      -  massive 1566\n",
      "hydro \n",
      "      -  dwarf 16812\n",
      "      -  massive 1429\n",
      "\n",
      "\n",
      "TNG\n",
      "_______________________\n",
      "dark \n",
      "      -  dwarf 17860\n",
      "      -  massive 1883\n",
      "hydro \n",
      "      -  dwarf 16231\n",
      "      -  massive 1854\n",
      "\n",
      "\n"
     ]
    }
   ],
   "source": [
    "for sim in [\"Illustris\", \"TNG\"]:\n",
    "    print(sim)\n",
    "    print(\"_______________________\")\n",
    "    \n",
    "    for phys in [\"dark\", \"hydro\"]:\n",
    "        print(phys,\"\")\n",
    "\n",
    "        for size in [\"dwarf\", \"massive\"]:\n",
    "            if sim == \"Illustris\":\n",
    "                data = group_data_ill\n",
    "            else:\n",
    "                data = group_data_tng\n",
    "            print(\"      - \",size, len(np.array(data[phys][size]['Group Mass'])))\n",
    "    \n",
    "    print()\n",
    "    print()"
   ]
  },
  {
   "cell_type": "markdown",
   "metadata": {},
   "source": [
    "# Max masses\n",
    "run make_max_mass_file.slurm"
   ]
  },
  {
   "cell_type": "code",
   "execution_count": 4,
   "metadata": {},
   "outputs": [],
   "source": [
    "max_data_ill = h5py.File(f\"{paths.path_maxmass}Illustris_dark_135.hdf5\", \"r\")\n",
    "max_data_illh = h5py.File(f\"{paths.path_maxmass}Illustris_hydro_135.hdf5\", \"r\")\n",
    "max_data_tng = h5py.File(f\"{paths.path_maxmass}TNG_dark_99.hdf5\", \"r\")\n",
    "max_data_tngh = h5py.File(f\"{paths.path_maxmass}TNG_hydro_99.hdf5\", \"r\")"
   ]
  },
  {
   "cell_type": "code",
   "execution_count": 5,
   "metadata": {},
   "outputs": [
    {
     "name": "stdout",
     "output_type": "stream",
     "text": [
      "Illustris\n",
      "_______________________\n",
      "dark \n",
      "     all -  110640\n",
      "     non-zero -  110640\n",
      "hydro \n",
      "     all -  80909\n",
      "     non-zero -  80794\n",
      "\n",
      "\n",
      "TNG\n",
      "_______________________\n",
      "dark \n",
      "     all -  135063\n",
      "     non-zero -  135063\n",
      "hydro \n",
      "     all -  96732\n",
      "     non-zero -  96283\n",
      "\n",
      "\n"
     ]
    }
   ],
   "source": [
    "for sim in [\"Illustris\", \"TNG\"]:\n",
    "    print(sim)\n",
    "    print(\"_______________________\")\n",
    "    \n",
    "    for phys in [\"dark\", \"hydro\"]:\n",
    "        print(phys,\"\")\n",
    "\n",
    "        if sim == \"Illustris\":\n",
    "            data = max_data_ill\n",
    "            \n",
    "            if phys == \"hydro\":\n",
    "                data = max_data_illh\n",
    "            \n",
    "        else:\n",
    "            data = max_data_tng\n",
    "            \n",
    "            if phys == \"hydro\":\n",
    "                data=max_data_tngh\n",
    "            \n",
    "            \n",
    "        print(\"     all - \", len(np.array(data['Subhalo ID'])))\n",
    "        print(\"     non-zero - \", np.sum( np.array(data['Max Mass']) != 0 ) )\n",
    "\n",
    "    print()\n",
    "    print()"
   ]
  },
  {
   "cell_type": "markdown",
   "metadata": {},
   "source": [
    "# Abundance Matching"
   ]
  },
  {
   "cell_type": "code",
   "execution_count": 6,
   "metadata": {},
   "outputs": [],
   "source": [
    "am_data_ill = h5py.File(f\"{paths.path_am_mass}Illustris_dark_135.hdf5\", \"r\")\n",
    "am_data_illh = h5py.File(f\"{paths.path_am_mass}Illustris_hydro_135.hdf5\", \"r\")\n",
    "am_data_tng = h5py.File(f\"{paths.path_am_mass}TNG_dark_99.hdf5\", \"r\")\n",
    "am_data_tngh = h5py.File(f\"{paths.path_am_mass}TNG_hydro_99.hdf5\", \"r\")"
   ]
  },
  {
   "cell_type": "code",
   "execution_count": 7,
   "metadata": {},
   "outputs": [
    {
     "name": "stdout",
     "output_type": "stream",
     "text": [
      "Illustris\n",
      "_______________________\n",
      "dark \n",
      "     all -  110640\n",
      "hydro \n",
      "     all -  80909\n",
      "\n",
      "\n",
      "TNG\n",
      "_______________________\n",
      "dark \n",
      "     all -  135063\n",
      "hydro \n",
      "     all -  96732\n",
      "\n",
      "\n"
     ]
    }
   ],
   "source": [
    "for sim in [\"Illustris\", \"TNG\"]:\n",
    "    print(sim)\n",
    "    print(\"_______________________\")\n",
    "    \n",
    "    for phys in [\"dark\", \"hydro\"]:\n",
    "        print(phys,\"\")\n",
    "\n",
    "        if sim == \"Illustris\":\n",
    "            data = am_data_ill\n",
    "            \n",
    "            if phys == \"hydro\":\n",
    "                data = am_data_illh\n",
    "            \n",
    "        else:\n",
    "            data = am_data_tng\n",
    "            \n",
    "            if phys == \"hydro\":\n",
    "                data=am_data_tngh\n",
    "            \n",
    "            \n",
    "        print(\"     all - \", len(np.array(data['Subhalo ID'])))\n",
    "#         print(\"     non-zero - \", np.sum( np.array(data['Max Mass']) != 0 ) )\n",
    "\n",
    "    print()\n",
    "    print()"
   ]
  },
  {
   "cell_type": "code",
   "execution_count": 8,
   "metadata": {},
   "outputs": [
    {
     "data": {
      "image/png": "[encoded data removed]",
      "text/plain": [
       "<Figure size 1440x1440 with 9 Axes>"
      ]
     },
     "metadata": {
      "needs_background": "light"
     },
     "output_type": "display_data"
    }
   ],
   "source": [
    "val = 3\n",
    "fig,ax = plt.subplots(val,val, figsize=(20,20),sharey=True)\n",
    "fig.subplots_adjust(hspace=0.1,wspace=0)\n",
    "for i in range(val**2):\n",
    "    row = i//val\n",
    "    col = i%val\n",
    "    ax[row][col].hist( np.array(am_data_ill['Stellar Masses'])[i+1000] , bins=20, alpha=0.5)\n",
    "    ax[row][col].axvline( am_data_ill['Median Stellar Mass'][i+1000])\n",
    "plt.show()"
   ]
  },
  {
   "cell_type": "markdown",
   "metadata": {},
   "source": [
    "# Subhalos"
   ]
  },
  {
   "cell_type": "code",
   "execution_count": 9,
   "metadata": {},
   "outputs": [],
   "source": [
    "sub_data_ill = h5py.File(f\"{paths.path_subhalos}Illustris_135.hdf5\", \"r\")\n",
    "sub_data_tng = h5py.File(f\"{paths.path_subhalos}TNG_99.hdf5\", \"r\")"
   ]
  },
  {
   "cell_type": "code",
   "execution_count": 10,
   "metadata": {},
   "outputs": [
    {
     "name": "stdout",
     "output_type": "stream",
     "text": [
      "Illustris\n",
      "_______________________\n",
      "dark \n",
      "     all -  110640\n",
      "hydro \n",
      "     all -  80909\n",
      "\n",
      "\n",
      "TNG\n",
      "_______________________\n",
      "dark \n",
      "     all -  135063\n",
      "hydro \n",
      "     all -  96732\n",
      "\n",
      "\n"
     ]
    }
   ],
   "source": [
    "for sim in [\"Illustris\", \"TNG\"]:\n",
    "\n",
    "    print(sim)\n",
    "    print(\"_______________________\")\n",
    "    \n",
    "    for phys in [\"dark\", \"hydro\"]:\n",
    "        print(phys,\"\")\n",
    "\n",
    "        if sim == \"Illustris\":\n",
    "            data = sub_data_ill\n",
    "            \n",
    "        else:\n",
    "            data = sub_data_tng\n",
    "            \n",
    "        print(\"     all - \", len(np.array(data[phys]['Subhalo ID'])))\n",
    "\n",
    "    print()\n",
    "    print()"
   ]
  },
  {
   "cell_type": "code",
   "execution_count": null,
   "metadata": {},
   "outputs": [],
   "source": [
    "sub_data_ill"
   ]
  },
  {
   "cell_type": "markdown",
   "metadata": {},
   "source": [
    "# Pairs\n",
    "keys:\n",
    "'Group ID', 'Group Mass', 'Group Nsubs', 'Group Radius', 'Realization', 'RelVel', 'Separation', 'Stellar Mass Ratio', 'Sub1 BHMass', 'Sub1 BHMdot', 'Sub1 GasMetallicity', 'Sub1 ID', 'Sub1 Mass', 'Sub1 MassType', 'Sub1 Pos', 'Sub1 SFR', 'Sub1 SFRinRad', 'Sub1 Stellar Mass', 'Sub1 Vel', 'Sub2 BHMass', 'Sub2 BHMdot', 'Sub2 GasMetallicity', 'Sub2 ID', 'Sub2 Mass', 'Sub2 MassType', 'Sub2 Pos', 'Sub2 SFR', 'Sub2 SFRinRad', 'Sub2 Stellar Mass', 'Sub2 Vel', 'TripleFlag'"
   ]
  },
  {
   "cell_type": "code",
   "execution_count": 64,
   "metadata": {},
   "outputs": [],
   "source": [
    "pair_data_ill = h5py.File(f\"{paths.path_pairs}Illustris_135_10.hdf5\", \"r\")\n",
    "pair_data_tng = h5py.File(f\"{paths.path_pairs}TNG_99_10.hdf5\", \"r\")"
   ]
  },
  {
   "cell_type": "code",
   "execution_count": 65,
   "metadata": {},
   "outputs": [
    {
     "name": "stdout",
     "output_type": "stream",
     "text": [
      "Group ID\n",
      "Group Mass\n",
      "Group Nsubs\n",
      "Group Radius\n",
      "Realization\n",
      "RelVel\n",
      "Separation\n",
      "Stellar Mass Ratio\n",
      "Sub1 BHMass\n",
      "Sub1 BHMdot\n",
      "Sub1 GasMetallicity\n",
      "Sub1 ID\n",
      "Sub1 Mass\n",
      "Sub1 MassType\n",
      "Sub1 Pos\n",
      "Sub1 SFR\n",
      "Sub1 SFRinRad\n",
      "Sub1 Stellar Mass\n",
      "Sub1 Vel\n",
      "Sub2 BHMass\n",
      "Sub2 BHMdot\n",
      "Sub2 GasMetallicity\n",
      "Sub2 ID\n",
      "Sub2 Mass\n",
      "Sub2 MassType\n",
      "Sub2 Pos\n",
      "Sub2 SFR\n",
      "Sub2 SFRinRad\n",
      "Sub2 Stellar Mass\n",
      "Sub2 Vel\n",
      "TripleFlag\n"
     ]
    }
   ],
   "source": [
    "for key in pair_data_ill['dark'].keys():\n",
    "    print(key)#,len(sub_data_ill['dark']) )"
   ]
  },
  {
   "cell_type": "code",
   "execution_count": 66,
   "metadata": {},
   "outputs": [
    {
     "name": "stdout",
     "output_type": "stream",
     "text": [
      "[0 0 0 0 0 0 0 0 0 0]\n",
      "[0.03000956 0.03858007 0.03000956 0.03858007 0.03000956 0.03858007\n",
      " 0.03000956 0.03858007 0.03858007 0.03858007]\n",
      "[0 0 0 0 0 0 0 0 0 0]\n",
      "[0.02217029 0.02217029 0.02374595 0.02217029 0.02217029 0.02217029\n",
      " 0.02217029 0.02217029 0.02374595 0.02217029]\n"
     ]
    }
   ],
   "source": [
    "print(np.array(pair_data_ill['dark'][\"Sub1 BHMass\"])[0:10])\n",
    "print(np.array(pair_data_ill['hydro'][\"Sub1 BHMass\"])[0:10])\n",
    "print(np.array(pair_data_tng['dark'][\"Sub1 BHMass\"])[0:10])\n",
    "print(np.array(pair_data_tng['hydro'][\"Sub1 BHMass\"])[0:10])"
   ]
  },
  {
   "cell_type": "code",
   "execution_count": 70,
   "metadata": {},
   "outputs": [],
   "source": [
    "datt = pd.DataFrame([[key,np.array(pair_data_ill['hydro'][key])] for key in pair_data_ill['hydro'].keys()])"
   ]
  },
  {
   "cell_type": "code",
   "execution_count": 71,
   "metadata": {},
   "outputs": [
    {
     "data": {
      "text/html": [
       "<div>\n",
       "<style scoped>\n",
       "    .dataframe tbody tr th:only-of-type {\n",
       "        vertical-align: middle;\n",
       "    }\n",
       "\n",
       "    .dataframe tbody tr th {\n",
       "        vertical-align: top;\n",
       "    }\n",
       "\n",
       "    .dataframe thead th {\n",
       "        text-align: right;\n",
       "    }\n",
       "</style>\n",
       "<table border=\"1\" class=\"dataframe\">\n",
       "  <thead>\n",
       "    <tr style=\"text-align: right;\">\n",
       "      <th></th>\n",
       "      <th>0</th>\n",
       "      <th>1</th>\n",
       "    </tr>\n",
       "  </thead>\n",
       "  <tbody>\n",
       "    <tr>\n",
       "      <th>0</th>\n",
       "      <td>Group ID</td>\n",
       "      <td>[137, 137, 137, 137, 137, 137, 137, 137, 137, ...</td>\n",
       "    </tr>\n",
       "    <tr>\n",
       "      <th>1</th>\n",
       "      <td>Group Mass</td>\n",
       "      <td>[614.1055714000355, 614.1055714000355, 614.105...</td>\n",
       "    </tr>\n",
       "    <tr>\n",
       "      <th>2</th>\n",
       "      <td>Group Nsubs</td>\n",
       "      <td>[91, 91, 91, 91, 91, 91, 91, 91, 91, 91, 91, 9...</td>\n",
       "    </tr>\n",
       "    <tr>\n",
       "      <th>3</th>\n",
       "      <td>Group Radius</td>\n",
       "      <td>[478.3946817571466, 478.3946817571466, 478.394...</td>\n",
       "    </tr>\n",
       "    <tr>\n",
       "      <th>4</th>\n",
       "      <td>Realization</td>\n",
       "      <td>[-1, 0, 1, 2, 3, 4, 5, 6, 7, 8, 9, 10, -1, 0, ...</td>\n",
       "    </tr>\n",
       "    <tr>\n",
       "      <th>5</th>\n",
       "      <td>RelVel</td>\n",
       "      <td>[245.31878150542886, 245.31878150542886, 245.3...</td>\n",
       "    </tr>\n",
       "    <tr>\n",
       "      <th>6</th>\n",
       "      <td>Separation</td>\n",
       "      <td>[722.0080067913458, 722.0080067913458, 722.008...</td>\n",
       "    </tr>\n",
       "    <tr>\n",
       "      <th>7</th>\n",
       "      <td>Stellar Mass Ratio</td>\n",
       "      <td>[0.8570834518569364, 0.8144875581039269, 0.534...</td>\n",
       "    </tr>\n",
       "    <tr>\n",
       "      <th>8</th>\n",
       "      <td>Sub1 BHMass</td>\n",
       "      <td>[0.03000955753536387, 0.038580069403079426, 0....</td>\n",
       "    </tr>\n",
       "    <tr>\n",
       "      <th>9</th>\n",
       "      <td>Sub1 BHMdot</td>\n",
       "      <td>[0.003080167341977358, 0.00037405380862765014,...</td>\n",
       "    </tr>\n",
       "    <tr>\n",
       "      <th>10</th>\n",
       "      <td>Sub1 GasMetallicity</td>\n",
       "      <td>[0.04301463067531586, 0.049080364406108856, 0....</td>\n",
       "    </tr>\n",
       "    <tr>\n",
       "      <th>11</th>\n",
       "      <td>Sub1 ID</td>\n",
       "      <td>[259713, 259714, 259713, 259714, 259713, 25971...</td>\n",
       "    </tr>\n",
       "    <tr>\n",
       "      <th>12</th>\n",
       "      <td>Sub1 Mass</td>\n",
       "      <td>[641.3385651328348, 382.110595703125, 641.3385...</td>\n",
       "    </tr>\n",
       "    <tr>\n",
       "      <th>13</th>\n",
       "      <td>Sub1 MassType</td>\n",
       "      <td>[[3.297668289054524, 605.5676286870784, 0.0, 0...</td>\n",
       "    </tr>\n",
       "    <tr>\n",
       "      <th>14</th>\n",
       "      <td>Sub1 Pos</td>\n",
       "      <td>[[41780.92817826704, 55444.052956321015, 75797...</td>\n",
       "    </tr>\n",
       "    <tr>\n",
       "      <th>15</th>\n",
       "      <td>Sub1 SFR</td>\n",
       "      <td>[1.923675298690796, 0.649864137172699, 1.92367...</td>\n",
       "    </tr>\n",
       "    <tr>\n",
       "      <th>16</th>\n",
       "      <td>Sub1 SFRinRad</td>\n",
       "      <td>[1.923181176185608, 0.649864137172699, 1.92318...</td>\n",
       "    </tr>\n",
       "    <tr>\n",
       "      <th>17</th>\n",
       "      <td>Sub1 Stellar Mass</td>\n",
       "      <td>[8.22867632955968, 7.016824072584948, 10.32554...</td>\n",
       "    </tr>\n",
       "    <tr>\n",
       "      <th>18</th>\n",
       "      <td>Sub1 Vel</td>\n",
       "      <td>[[-316.65234375, 205.78514099121094, -117.1135...</td>\n",
       "    </tr>\n",
       "    <tr>\n",
       "      <th>19</th>\n",
       "      <td>Sub2 BHMass</td>\n",
       "      <td>[0.038580069403079426, 0.03000955753536387, 0....</td>\n",
       "    </tr>\n",
       "    <tr>\n",
       "      <th>20</th>\n",
       "      <td>Sub2 BHMdot</td>\n",
       "      <td>[0.00037405380862765014, 0.003080167341977358,...</td>\n",
       "    </tr>\n",
       "    <tr>\n",
       "      <th>21</th>\n",
       "      <td>Sub2 GasMetallicity</td>\n",
       "      <td>[0.049080364406108856, 0.04301463067531586, 0....</td>\n",
       "    </tr>\n",
       "    <tr>\n",
       "      <th>22</th>\n",
       "      <td>Sub2 ID</td>\n",
       "      <td>[259714, 259713, 259714, 259713, 259714, 25971...</td>\n",
       "    </tr>\n",
       "    <tr>\n",
       "      <th>23</th>\n",
       "      <td>Sub2 Mass</td>\n",
       "      <td>[382.110595703125, 641.3385651328348, 382.1105...</td>\n",
       "    </tr>\n",
       "    <tr>\n",
       "      <th>24</th>\n",
       "      <td>Sub2 MassType</td>\n",
       "      <td>[[0.9695725854147564, 357.2921536185525, 0.0, ...</td>\n",
       "    </tr>\n",
       "    <tr>\n",
       "      <th>25</th>\n",
       "      <td>Sub2 Pos</td>\n",
       "      <td>[[41874.242609197434, 55415.19997336647, 75081...</td>\n",
       "    </tr>\n",
       "    <tr>\n",
       "      <th>26</th>\n",
       "      <td>Sub2 SFR</td>\n",
       "      <td>[0.649864137172699, 1.923675298690796, 0.64986...</td>\n",
       "    </tr>\n",
       "    <tr>\n",
       "      <th>27</th>\n",
       "      <td>Sub2 SFRinRad</td>\n",
       "      <td>[0.649864137172699, 1.923181176185608, 0.64986...</td>\n",
       "    </tr>\n",
       "    <tr>\n",
       "      <th>28</th>\n",
       "      <td>Sub2 Stellar Mass</td>\n",
       "      <td>[7.052662312752475, 5.715115904524565, 5.51895...</td>\n",
       "    </tr>\n",
       "    <tr>\n",
       "      <th>29</th>\n",
       "      <td>Sub2 Vel</td>\n",
       "      <td>[[-366.2693786621094, 407.4483337402344, 13.46...</td>\n",
       "    </tr>\n",
       "    <tr>\n",
       "      <th>30</th>\n",
       "      <td>TripleFlag</td>\n",
       "      <td>[1, 1, 1, 1, 1, 1, 1, 1, 1, 1, 0, 1, 1, 1, 1, ...</td>\n",
       "    </tr>\n",
       "  </tbody>\n",
       "</table>\n",
       "</div>"
      ],
      "text/plain": [
       "                      0                                                  1\n",
       "0              Group ID  [137, 137, 137, 137, 137, 137, 137, 137, 137, ...\n",
       "1            Group Mass  [614.1055714000355, 614.1055714000355, 614.105...\n",
       "2           Group Nsubs  [91, 91, 91, 91, 91, 91, 91, 91, 91, 91, 91, 9...\n",
       "3          Group Radius  [478.3946817571466, 478.3946817571466, 478.394...\n",
       "4           Realization  [-1, 0, 1, 2, 3, 4, 5, 6, 7, 8, 9, 10, -1, 0, ...\n",
       "5                RelVel  [245.31878150542886, 245.31878150542886, 245.3...\n",
       "6            Separation  [722.0080067913458, 722.0080067913458, 722.008...\n",
       "7    Stellar Mass Ratio  [0.8570834518569364, 0.8144875581039269, 0.534...\n",
       "8           Sub1 BHMass  [0.03000955753536387, 0.038580069403079426, 0....\n",
       "9           Sub1 BHMdot  [0.003080167341977358, 0.00037405380862765014,...\n",
       "10  Sub1 GasMetallicity  [0.04301463067531586, 0.049080364406108856, 0....\n",
       "11              Sub1 ID  [259713, 259714, 259713, 259714, 259713, 25971...\n",
       "12            Sub1 Mass  [641.3385651328348, 382.110595703125, 641.3385...\n",
       "13        Sub1 MassType  [[3.297668289054524, 605.5676286870784, 0.0, 0...\n",
       "14             Sub1 Pos  [[41780.92817826704, 55444.052956321015, 75797...\n",
       "15             Sub1 SFR  [1.923675298690796, 0.649864137172699, 1.92367...\n",
       "16        Sub1 SFRinRad  [1.923181176185608, 0.649864137172699, 1.92318...\n",
       "17    Sub1 Stellar Mass  [8.22867632955968, 7.016824072584948, 10.32554...\n",
       "18             Sub1 Vel  [[-316.65234375, 205.78514099121094, -117.1135...\n",
       "19          Sub2 BHMass  [0.038580069403079426, 0.03000955753536387, 0....\n",
       "20          Sub2 BHMdot  [0.00037405380862765014, 0.003080167341977358,...\n",
       "21  Sub2 GasMetallicity  [0.049080364406108856, 0.04301463067531586, 0....\n",
       "22              Sub2 ID  [259714, 259713, 259714, 259713, 259714, 25971...\n",
       "23            Sub2 Mass  [382.110595703125, 641.3385651328348, 382.1105...\n",
       "24        Sub2 MassType  [[0.9695725854147564, 357.2921536185525, 0.0, ...\n",
       "25             Sub2 Pos  [[41874.242609197434, 55415.19997336647, 75081...\n",
       "26             Sub2 SFR  [0.649864137172699, 1.923675298690796, 0.64986...\n",
       "27        Sub2 SFRinRad  [0.649864137172699, 1.923181176185608, 0.64986...\n",
       "28    Sub2 Stellar Mass  [7.052662312752475, 5.715115904524565, 5.51895...\n",
       "29             Sub2 Vel  [[-366.2693786621094, 407.4483337402344, 13.46...\n",
       "30           TripleFlag  [1, 1, 1, 1, 1, 1, 1, 1, 1, 1, 0, 1, 1, 1, 1, ..."
      ]
     },
     "execution_count": 71,
     "metadata": {},
     "output_type": "execute_result"
    }
   ],
   "source": [
    "datt"
   ]
  },
  {
   "cell_type": "code",
   "execution_count": null,
   "metadata": {},
   "outputs": [],
   "source": []
  },
  {
   "cell_type": "code",
   "execution_count": null,
   "metadata": {},
   "outputs": [],
   "source": []
  },
  {
   "cell_type": "code",
   "execution_count": 2,
   "metadata": {},
   "outputs": [],
   "source": [
    "sim = \"TNG\"\n",
    "snapshot=99"
   ]
  },
  {
   "cell_type": "code",
   "execution_count": null,
   "metadata": {},
   "outputs": [],
   "source": []
  },
  {
   "cell_type": "code",
   "execution_count": null,
   "metadata": {},
   "outputs": [],
   "source": []
  },
  {
   "cell_type": "code",
   "execution_count": 3,
   "metadata": {},
   "outputs": [],
   "source": [
    "pair_path = f\"{sim}_{snapshot}_10.hdf5\"\n",
    "pair_data = h5py.File(f\"{paths.path_pairs}{pair_path}\", \"r\")"
   ]
  },
  {
   "cell_type": "code",
   "execution_count": 7,
   "metadata": {},
   "outputs": [
    {
     "data": {
      "text/plain": [
       "<KeysViewHDF5 ['Group ID', 'Group Mass', 'Group Nsubs', 'Group Radius', 'Realization', 'RelVel', 'Separation', 'Stellar Mass Ratio', 'Sub1 ID', 'Sub1 Mass', 'Sub1 Pos', 'Sub1 Stellar Mass', 'Sub1 Vel', 'Sub2 ID', 'Sub2 Mass', 'Sub2 Pos', 'Sub2 Stellar Mass', 'Sub2 Vel']>"
      ]
     },
     "execution_count": 7,
     "metadata": {},
     "output_type": "execute_result"
    }
   ],
   "source": [
    "pair_data['dark']['massive'].keys()"
   ]
  },
  {
   "cell_type": "code",
   "execution_count": 162,
   "metadata": {},
   "outputs": [
    {
     "data": {
      "text/plain": [
       "array([0, 0, 0, 0, 0, 0, 0, 0, 0, 0, 0, 0, 0, 0, 0, 0, 0, 0, 0, 0, 0, 0,\n",
       "       0, 0, 0, 0, 0, 0, 0, 0, 0, 0, 3, 3, 3, 3, 3, 3, 3, 3, 3, 3, 3, 3,\n",
       "       3, 3, 3, 3, 3, 3, 3, 3, 3, 3, 3, 3, 3, 3, 3, 3, 7, 7, 7, 7, 7, 7,\n",
       "       7, 7, 7, 7, 7, 7, 7, 7, 7, 7, 7, 7, 7, 7, 9, 9, 9, 9, 9, 9, 9, 9,\n",
       "       9, 9, 9, 9, 9, 9, 9, 9, 9, 9, 9, 9, 9, 9, 9, 9, 9, 9, 9],\n",
       "      dtype=int32)"
      ]
     },
     "execution_count": 162,
     "metadata": {},
     "output_type": "execute_result"
    }
   ],
   "source": [
    "np.array(subhalo_data['dark']['massive']['Group ID'])"
   ]
  },
  {
   "cell_type": "code",
   "execution_count": null,
   "metadata": {},
   "outputs": [],
   "source": [
    "paths.path"
   ]
  },
  {
   "cell_type": "code",
   "execution_count": 3,
   "metadata": {},
   "outputs": [],
   "source": [
    "sim = \"Illustris\"\n",
    "snapshot=85\n",
    "\n",
    "path = f\"{sim}_{snapshot}.hdf5\"\n",
    "data = h5py.File(f\"{paths.path_subhalos}{path}\", \"r\")"
   ]
  },
  {
   "cell_type": "code",
   "execution_count": 8,
   "metadata": {},
   "outputs": [],
   "source": [
    "data.close()"
   ]
  },
  {
   "cell_type": "code",
   "execution_count": 7,
   "metadata": {},
   "outputs": [
    {
     "data": {
      "text/plain": [
       "<KeysViewHDF5 ['Group ID', 'Group Mass', 'Group Radius', 'Nsubs', 'Subhalo ID', 'Subhalo Mass', 'Subhalo Max Mass', 'Subhalo Max Mass Snap', 'Subhalo Med Stellar Mass', 'Subhalo Pos', 'Subhalo Stellar Masses', 'Subhalo Vel']>"
      ]
     },
     "execution_count": 7,
     "metadata": {},
     "output_type": "execute_result"
    }
   ],
   "source": [
    "data['dark']['dwarf'].keys()"
   ]
  },
  {
   "cell_type": "code",
   "execution_count": 171,
   "metadata": {},
   "outputs": [],
   "source": [
    "sim = \"TNG\"\n",
    "snapshot=15\n",
    "\n",
    "am_path = f\"{sim}_dark_{snapshot}.hdf5\"\n",
    "am_data = h5py.File(f\"{paths.path_am_mass}{am_path}\", \"r\")"
   ]
  },
  {
   "cell_type": "code",
   "execution_count": 172,
   "metadata": {},
   "outputs": [],
   "source": [
    "mask = np.array(am_data['Group ID'])==2649"
   ]
  },
  {
   "cell_type": "code",
   "execution_count": 173,
   "metadata": {},
   "outputs": [
    {
     "name": "stdout",
     "output_type": "stream",
     "text": [
      "Current Snap Mass\n",
      "[0.04679757 0.04379773]\n",
      "Group ID\n",
      "[2649 2649]\n",
      "Max Mass\n",
      "[0.13196836 0.13196836]\n",
      "Max Mass Snap\n",
      "[14 12]\n",
      "Median Stellar Mass\n",
      "[1.6520189e-05 1.6520189e-05]\n",
      "Stellar Masses\n"
     ]
    },
    {
     "ename": "TypeError",
     "evalue": "Boolean indexing array has incompatible shape",
     "output_type": "error",
     "traceback": [
      "\u001b[0;31m---------------------------------------------------------------------------\u001b[0m",
      "\u001b[0;31mTypeError\u001b[0m                                 Traceback (most recent call last)",
      "\u001b[0;32m<ipython-input-173-7b4e6080076a>\u001b[0m in \u001b[0;36m<module>\u001b[0;34m\u001b[0m\n\u001b[1;32m      1\u001b[0m \u001b[0;32mfor\u001b[0m \u001b[0mi\u001b[0m \u001b[0;32min\u001b[0m \u001b[0mam_data\u001b[0m\u001b[0;34m.\u001b[0m\u001b[0mkeys\u001b[0m\u001b[0;34m(\u001b[0m\u001b[0;34m)\u001b[0m\u001b[0;34m:\u001b[0m\u001b[0;34m\u001b[0m\u001b[0;34m\u001b[0m\u001b[0m\n\u001b[1;32m      2\u001b[0m     \u001b[0mprint\u001b[0m\u001b[0;34m(\u001b[0m\u001b[0mi\u001b[0m\u001b[0;34m)\u001b[0m\u001b[0;34m\u001b[0m\u001b[0;34m\u001b[0m\u001b[0m\n\u001b[0;32m----> 3\u001b[0;31m     \u001b[0mprint\u001b[0m\u001b[0;34m(\u001b[0m\u001b[0mam_data\u001b[0m\u001b[0;34m[\u001b[0m\u001b[0mi\u001b[0m\u001b[0;34m]\u001b[0m\u001b[0;34m[\u001b[0m\u001b[0mmask\u001b[0m\u001b[0;34m]\u001b[0m\u001b[0;34m)\u001b[0m\u001b[0;34m\u001b[0m\u001b[0;34m\u001b[0m\u001b[0m\n\u001b[0m",
      "\u001b[0;32mh5py/_objects.pyx\u001b[0m in \u001b[0;36mh5py._objects.with_phil.wrapper\u001b[0;34m()\u001b[0m\n",
      "\u001b[0;32mh5py/_objects.pyx\u001b[0m in \u001b[0;36mh5py._objects.with_phil.wrapper\u001b[0;34m()\u001b[0m\n",
      "\u001b[0;32m/opt/ohpc/pub/apps/python/3.8.2/lib/python3.8/site-packages/h5py/_hl/dataset.py\u001b[0m in \u001b[0;36m__getitem__\u001b[0;34m(self, args)\u001b[0m\n\u001b[1;32m    551\u001b[0m \u001b[0;34m\u001b[0m\u001b[0m\n\u001b[1;32m    552\u001b[0m         \u001b[0;31m# Perform the dataspace selection.\u001b[0m\u001b[0;34m\u001b[0m\u001b[0;34m\u001b[0m\u001b[0;34m\u001b[0m\u001b[0m\n\u001b[0;32m--> 553\u001b[0;31m         \u001b[0mselection\u001b[0m \u001b[0;34m=\u001b[0m \u001b[0msel\u001b[0m\u001b[0;34m.\u001b[0m\u001b[0mselect\u001b[0m\u001b[0;34m(\u001b[0m\u001b[0mself\u001b[0m\u001b[0;34m.\u001b[0m\u001b[0mshape\u001b[0m\u001b[0;34m,\u001b[0m \u001b[0margs\u001b[0m\u001b[0;34m,\u001b[0m \u001b[0mdsid\u001b[0m\u001b[0;34m=\u001b[0m\u001b[0mself\u001b[0m\u001b[0;34m.\u001b[0m\u001b[0mid\u001b[0m\u001b[0;34m)\u001b[0m\u001b[0;34m\u001b[0m\u001b[0;34m\u001b[0m\u001b[0m\n\u001b[0m\u001b[1;32m    554\u001b[0m \u001b[0;34m\u001b[0m\u001b[0m\n\u001b[1;32m    555\u001b[0m         \u001b[0;32mif\u001b[0m \u001b[0mselection\u001b[0m\u001b[0;34m.\u001b[0m\u001b[0mnselect\u001b[0m \u001b[0;34m==\u001b[0m \u001b[0;36m0\u001b[0m\u001b[0;34m:\u001b[0m\u001b[0;34m\u001b[0m\u001b[0;34m\u001b[0m\u001b[0m\n",
      "\u001b[0;32m/opt/ohpc/pub/apps/python/3.8.2/lib/python3.8/site-packages/h5py/_hl/selections.py\u001b[0m in \u001b[0;36mselect\u001b[0;34m(shape, args, dsid)\u001b[0m\n\u001b[1;32m     70\u001b[0m         \u001b[0;32melif\u001b[0m \u001b[0misinstance\u001b[0m\u001b[0;34m(\u001b[0m\u001b[0marg\u001b[0m\u001b[0;34m,\u001b[0m \u001b[0mnp\u001b[0m\u001b[0;34m.\u001b[0m\u001b[0mndarray\u001b[0m\u001b[0;34m)\u001b[0m \u001b[0;32mand\u001b[0m \u001b[0marg\u001b[0m\u001b[0;34m.\u001b[0m\u001b[0mdtype\u001b[0m\u001b[0;34m.\u001b[0m\u001b[0mkind\u001b[0m \u001b[0;34m==\u001b[0m \u001b[0;34m'b'\u001b[0m\u001b[0;34m:\u001b[0m\u001b[0;34m\u001b[0m\u001b[0;34m\u001b[0m\u001b[0m\n\u001b[1;32m     71\u001b[0m             \u001b[0msel\u001b[0m \u001b[0;34m=\u001b[0m \u001b[0mPointSelection\u001b[0m\u001b[0;34m(\u001b[0m\u001b[0mshape\u001b[0m\u001b[0;34m)\u001b[0m\u001b[0;34m\u001b[0m\u001b[0;34m\u001b[0m\u001b[0m\n\u001b[0;32m---> 72\u001b[0;31m             \u001b[0msel\u001b[0m\u001b[0;34m[\u001b[0m\u001b[0marg\u001b[0m\u001b[0;34m]\u001b[0m\u001b[0;34m\u001b[0m\u001b[0;34m\u001b[0m\u001b[0m\n\u001b[0m\u001b[1;32m     73\u001b[0m             \u001b[0;32mreturn\u001b[0m \u001b[0msel\u001b[0m\u001b[0;34m\u001b[0m\u001b[0;34m\u001b[0m\u001b[0m\n\u001b[1;32m     74\u001b[0m \u001b[0;34m\u001b[0m\u001b[0m\n",
      "\u001b[0;32m/opt/ohpc/pub/apps/python/3.8.2/lib/python3.8/site-packages/h5py/_hl/selections.py\u001b[0m in \u001b[0;36m__getitem__\u001b[0;34m(self, arg)\u001b[0m\n\u001b[1;32m    212\u001b[0m             \u001b[0;32mraise\u001b[0m \u001b[0mTypeError\u001b[0m\u001b[0;34m(\u001b[0m\u001b[0;34m\"PointSelection __getitem__ only works with bool arrays\"\u001b[0m\u001b[0;34m)\u001b[0m\u001b[0;34m\u001b[0m\u001b[0;34m\u001b[0m\u001b[0m\n\u001b[1;32m    213\u001b[0m         \u001b[0;32mif\u001b[0m \u001b[0;32mnot\u001b[0m \u001b[0marg\u001b[0m\u001b[0;34m.\u001b[0m\u001b[0mshape\u001b[0m \u001b[0;34m==\u001b[0m \u001b[0mself\u001b[0m\u001b[0;34m.\u001b[0m\u001b[0mshape\u001b[0m\u001b[0;34m:\u001b[0m\u001b[0;34m\u001b[0m\u001b[0;34m\u001b[0m\u001b[0m\n\u001b[0;32m--> 214\u001b[0;31m             \u001b[0;32mraise\u001b[0m \u001b[0mTypeError\u001b[0m\u001b[0;34m(\u001b[0m\u001b[0;34m\"Boolean indexing array has incompatible shape\"\u001b[0m\u001b[0;34m)\u001b[0m\u001b[0;34m\u001b[0m\u001b[0;34m\u001b[0m\u001b[0m\n\u001b[0m\u001b[1;32m    215\u001b[0m \u001b[0;34m\u001b[0m\u001b[0m\n\u001b[1;32m    216\u001b[0m         \u001b[0mpoints\u001b[0m \u001b[0;34m=\u001b[0m \u001b[0mnp\u001b[0m\u001b[0;34m.\u001b[0m\u001b[0mtranspose\u001b[0m\u001b[0;34m(\u001b[0m\u001b[0marg\u001b[0m\u001b[0;34m.\u001b[0m\u001b[0mnonzero\u001b[0m\u001b[0;34m(\u001b[0m\u001b[0;34m)\u001b[0m\u001b[0;34m)\u001b[0m\u001b[0;34m\u001b[0m\u001b[0;34m\u001b[0m\u001b[0m\n",
      "\u001b[0;31mTypeError\u001b[0m: Boolean indexing array has incompatible shape"
     ]
    }
   ],
   "source": [
    "for i in am_data.keys():\n",
    "    print(i)\n",
    "    print(am_data[i][mask])"
   ]
  },
  {
   "cell_type": "code",
   "execution_count": null,
   "metadata": {},
   "outputs": [],
   "source": []
  },
  {
   "cell_type": "code",
   "execution_count": null,
   "metadata": {},
   "outputs": [],
   "source": []
  },
  {
   "cell_type": "code",
   "execution_count": null,
   "metadata": {},
   "outputs": [],
   "source": []
  },
  {
   "cell_type": "code",
   "execution_count": null,
   "metadata": {},
   "outputs": [],
   "source": []
  },
  {
   "cell_type": "code",
   "execution_count": 8,
   "metadata": {},
   "outputs": [],
   "source": [
    "sim = \"Illustris\"\n",
    "snapshot = 85\n",
    "\n",
    "path = f\"{sim}_{snapshot}_10.hdf5\"\n",
    "data = h5py.File(f\"{paths.path_pairs}{path}\", \"r\")"
   ]
  },
  {
   "cell_type": "code",
   "execution_count": 19,
   "metadata": {},
   "outputs": [
    {
     "data": {
      "text/plain": [
       "0.9972942257819404"
      ]
     },
     "execution_count": 19,
     "metadata": {},
     "output_type": "execute_result"
    }
   ],
   "source": [
    "data['Header'].attrs['Redshift']"
   ]
  },
  {
   "cell_type": "code",
   "execution_count": null,
   "metadata": {},
   "outputs": [],
   "source": [
    "path = f\"{sim}_{snapshot}_10.hdf5\"\n",
    "data = h5py.File(f\"{paths.path_pairs}{path}\", \"r\")"
   ]
  },
  {
   "cell_type": "code",
   "execution_count": 139,
   "metadata": {},
   "outputs": [],
   "source": [
    "sim = \"TNG\"\n",
    "snapshot = 14\n",
    "num_reals = 10\n",
    "\n",
    "## find subhalos for this simulation and snapshot #\n",
    "subhalo_path = f\"{sim}_{snapshot}.hdf5\"\n",
    "subhalo_data = h5py.File(f\"{paths.path_subhalos}{subhalo_path}\", \"r\")\n",
    "\n",
    "savepath = f\"{sim}_{snapshot}_testing.hdf5\"\n",
    "f = h5py.File(f\"{paths.path_pairs}{savepath}\", 'w')\n",
    "\n",
    "redshift = subhalo_data[\"Header\"].attrs[\"Redshift\"]\n",
    "scale = 1 / (1 + redshift)\n",
    "\n",
    "units_dict = {\n",
    "    \"Group ID\":\"Group Number in Subfind Catalogs\", \n",
    "    \"Group Mass\":\"Physical mass from Group_M_TopHat200 -- 1e10 Msun\",\n",
    "    \"Group Radius\":\"Physical radius from Group_R_TopHat200 -- kpc\",\n",
    "    \"Group Nsubs\":\"Number of subhalos in group\",\n",
    "    \"Sub1 ID\":  \"Subhalo ID at current snapshot\",\n",
    "    \"Sub2 ID\":  \"Subhalo ID at current snapshot\",\n",
    "    \"Sub1 Mass\": \"Subhalo mass at current snapshot -- 1e10 Msun\",\n",
    "    \"Sub2 Mass\": \"Subhalo mass at current snapshot -- 1e10 Msun\",\n",
    "    \"Sub1 Stellar Mass\": \"Stellar masses from abundance matching -- 1e10 Msun\",\n",
    "    \"Sub2 Stellar Mass\": \"Stellar masses from abundance matching -- 1e10 Msun\",\n",
    "    \"Sub1 Pos\": \"Subhalo physical position in box x,y,z -- kpc\",\n",
    "    \"Sub2 Pos\": \"Subhalo physical position in box x,y,z -- kpc\",\n",
    "    \"Sub1 Vel\": \"Subhalo velocity in vx, vy, vz -- km/s\",\n",
    "    \"Sub2 Vel\": \"Subhalo velocity in vx, vy, vz -- km/s\",\n",
    "    \"Separation\": \"Physical separation between primary and secondary in kpc\",\n",
    "    \"RelVel\": \"Relative velocity between primary and secondary in km/s\",\n",
    "    \"Stellar Mass Ratio\": \"Stellar mass ratio of secondary over primary\", # in this case- it's by primary subhalo mass\n",
    "    \"Realization\": \"Stellar mass realization (0-1000)\" }\n",
    "\n",
    "#create header with simulation info\n",
    "header_dict = {\"Snapshot\":snapshot,\n",
    "        \"Redshift\":redshift,\n",
    "        \"Simulation\":sim}\n",
    "\n",
    "dset = f.create_group('/Header')\n",
    "for key in header_dict.keys():\n",
    "    dset.attrs[key] = header_dict[key]\n",
    "\n",
    "f.close()\n"
   ]
  },
  {
   "cell_type": "code",
   "execution_count": 140,
   "metadata": {},
   "outputs": [
    {
     "ename": "KeyboardInterrupt",
     "evalue": "",
     "output_type": "error",
     "traceback": [
      "\u001b[0;31m---------------------------------------------------------------------------\u001b[0m",
      "\u001b[0;31mKeyboardInterrupt\u001b[0m                         Traceback (most recent call last)",
      "\u001b[0;32m<ipython-input-140-3ecb67902b56>\u001b[0m in \u001b[0;36m<module>\u001b[0;34m\u001b[0m\n\u001b[1;32m     50\u001b[0m                     \u001b[0mshortlist\u001b[0m \u001b[0;34m=\u001b[0m \u001b[0;34m{\u001b[0m\u001b[0;34m}\u001b[0m \u001b[0;31m# dictionary  of subhalos in group\u001b[0m\u001b[0;34m\u001b[0m\u001b[0;34m\u001b[0m\u001b[0m\n\u001b[1;32m     51\u001b[0m                     \u001b[0;32mfor\u001b[0m \u001b[0mkey\u001b[0m\u001b[0;34m,\u001b[0m \u001b[0mval\u001b[0m \u001b[0;32min\u001b[0m \u001b[0msubhalo_dict\u001b[0m\u001b[0;34m.\u001b[0m\u001b[0mitems\u001b[0m\u001b[0;34m(\u001b[0m\u001b[0;34m)\u001b[0m\u001b[0;34m:\u001b[0m\u001b[0;34m\u001b[0m\u001b[0;34m\u001b[0m\u001b[0m\n\u001b[0;32m---> 52\u001b[0;31m                         \u001b[0mshortlist\u001b[0m\u001b[0;34m[\u001b[0m\u001b[0mkey\u001b[0m\u001b[0;34m]\u001b[0m \u001b[0;34m=\u001b[0m \u001b[0mnp\u001b[0m\u001b[0;34m.\u001b[0m\u001b[0marray\u001b[0m\u001b[0;34m(\u001b[0m\u001b[0mval\u001b[0m\u001b[0;34m[\u001b[0m\u001b[0mmask\u001b[0m\u001b[0;34m]\u001b[0m\u001b[0;34m)\u001b[0m\u001b[0;34m\u001b[0m\u001b[0;34m\u001b[0m\u001b[0m\n\u001b[0m\u001b[1;32m     53\u001b[0m \u001b[0;34m\u001b[0m\u001b[0m\n\u001b[1;32m     54\u001b[0m                     \u001b[0;32mif\u001b[0m \u001b[0mrealization\u001b[0m \u001b[0;34m==\u001b[0m \u001b[0;34m-\u001b[0m\u001b[0;36m1\u001b[0m\u001b[0;34m:\u001b[0m\u001b[0;34m\u001b[0m\u001b[0;34m\u001b[0m\u001b[0m\n",
      "\u001b[0;31mKeyboardInterrupt\u001b[0m: "
     ]
    }
   ],
   "source": [
    "for phys in [\"dark\",\"hydro\"]:\n",
    "    try: \n",
    "        subhalo_data[phys]\n",
    "\n",
    "    except KeyError:\n",
    "        print(f\"{phys} does not exist in this file: {subhalo_path}\")\n",
    "        break\n",
    "\n",
    "    ## need to find pairs for dwarfs and massive\n",
    "    for size in [\"dwarf\",\"massive\"]:\n",
    "        subhalo_dict = {}\n",
    "        pair_data = {}\n",
    "        pair_data = {\"Group ID\": [],\n",
    "                     \"Group Mass\": [],\n",
    "                     \"Group Radius\": [],\n",
    "                     \"Group Nsubs\": [],\n",
    "                     \"Sub1 ID\": [],\n",
    "                     \"Sub2 ID\": [],\n",
    "                     \"Sub1 Mass\": [],\n",
    "                     \"Sub2 Mass\": [],\n",
    "                     \"Sub1 Stellar Mass\": [],\n",
    "                     \"Sub2 Stellar Mass\": [],\n",
    "                     \"Sub1 Pos\": [],\n",
    "                     \"Sub2 Pos\": [],\n",
    "                     \"Sub1 Vel\": [],\n",
    "                     \"Sub2 Vel\": [],\n",
    "                     \"Separation\": [],\n",
    "                     \"RelVel\": [],\n",
    "                     \"Stellar Mass Ratio\": [],\n",
    "                     \"Realization\": []}\n",
    "\n",
    "        ## create dictionary of subhalo info\n",
    "        for key,val in subhalo_data[phys][size].items():\n",
    "            subhalo_dict[key] = np.array(val)\n",
    "                \n",
    "        uniqueGroups = np.unique(subhalo_dict['Group ID'])\n",
    "        \n",
    "        for groupNum in uniqueGroups:\n",
    "            mask = subhalo_dict['Group ID'] == groupNum\n",
    "            numPassingSubs = len(subhalo_dict['Nsubs'][mask])\n",
    "\n",
    "            if numPassingSubs >=2:\n",
    "                ### likely where i have to include the other realizations\n",
    "                realNumbs = np.arange(-1,num_reals+1,1)\n",
    "                \n",
    "                for realization in realNumbs:\n",
    "                    groupmass = subhalo_dict['Group Mass'][mask][0]\n",
    "                    groupradius = subhalo_dict['Group Radius'][mask][0]\n",
    "\n",
    "                    shortlist = {} # dictionary  of subhalos in group\n",
    "                    for key, val in subhalo_dict.items():\n",
    "                        shortlist[key] = np.array(val[mask])\n",
    "                        \n",
    "                    if realization == -1:\n",
    "                        meds = shortlist[\"Subhalo Med Stellar Mass\"]\n",
    "                        primary_loc = np.where(meds==np.max(meds))\n",
    "                        \n",
    "                        meds_sansmax = np.where(meds==np.max(meds), 0, meds)\n",
    "                        secondary_loc = np.where(meds==np.max(meds_sansmax))\n",
    "                        \n",
    "                        if all(meds_sansmax)==0:\n",
    "                            secondary_loc = np.array(primary_loc[0]+1)\n",
    "                        \n",
    "                        stel1 = shortlist['Subhalo Med Stellar Mass'][primary_loc][0]\n",
    "                        stel2 =  shortlist['Subhalo Med Stellar Mass'][secondary_loc][0]\n",
    "                        \n",
    "                    else:\n",
    "                        stells = shortlist[\"Subhalo Stellar Masses\"][:,realization]\n",
    "                        primary_loc = np.where(stells==np.max(stells))\n",
    "\n",
    "                        stells_sansmax = np.where(stells==np.max(stells), 0, stells)\n",
    "                        secondary_loc = np.where(stells==np.max(stells_sansmax))\n",
    "\n",
    "                        stel1 = shortlist['Subhalo Stellar Masses'][primary_loc][0][realization]\n",
    "                        stel2 =  shortlist['Subhalo Stellar Masses'][secondary_loc][0][realization]\n",
    "\n",
    "                    id1 = shortlist['Subhalo ID'][primary_loc][0]\n",
    "                    id2 = shortlist['Subhalo ID'][secondary_loc][0]\n",
    "                    mass1 = shortlist['Subhalo Mass'][primary_loc][0]\n",
    "                    mass2 = shortlist['Subhalo Mass'][secondary_loc][0]\n",
    "                    pos1 = shortlist['Subhalo Pos'][primary_loc][0]\n",
    "                    pos2 = shortlist['Subhalo Pos'][secondary_loc][0]\n",
    "                    vel1 = shortlist['Subhalo Vel'][primary_loc][0]\n",
    "                    vel2 = shortlist['Subhalo Vel'][secondary_loc][0]\n",
    "\n",
    "                    # note: box size is physical units!\n",
    "                    if sim == \"Illustris\":\n",
    "                        boxsize = 106.5 # in Mpc!\n",
    "                    elif sim == \"TNG\":\n",
    "                        boxsize = 110.7 # in Mpc!\n",
    "\n",
    "                    sep = np.linalg.norm( np.array(vector(pos1,pos2,boxsize*1000) ) )\n",
    "                    relvel = np.linalg.norm(vel1-vel2)\n",
    "                    stlrt = stel2/stel1\n",
    "\n",
    "                    pairlist = np.array([groupNum, groupmass, groupradius, numPassingSubs, \n",
    "                                id1, id2, mass1, mass2, stel1, stel2, \n",
    "                                pos1, pos2, vel1, vel2, \n",
    "                                sep, relvel, stlrt, realization])\n",
    "\n",
    "                    for ind, key in enumerate(pair_data.keys()):\n",
    "                        pair_data[key].append(pairlist[ind])\n",
    "        print(f\"going to try and save {size} {phys}\")\n",
    "        \n",
    "#         f = h5py.File(f\"{paths.path_pairs}{savepath}\", 'r+')\n",
    "\n",
    "#         for key, val in pair_data.items():\n",
    "#             val = np.array(val)\n",
    "#             dset = f.create_dataset(f'/{phys}/{size}/{key}', \n",
    "#                                     shape=val.shape,\n",
    "#                                     dtype=val.dtype)\n",
    "#             dset.attrs[key] = units_dict[key]\n",
    "#             dset[:] = val\n",
    "#         f.close()\n",
    "        print(f\"successfully wrote {size} {phys} to {savepath}\")\n"
   ]
  },
  {
   "cell_type": "code",
   "execution_count": 148,
   "metadata": {},
   "outputs": [
    {
     "data": {
      "text/plain": [
       "1606"
      ]
     },
     "execution_count": 148,
     "metadata": {},
     "output_type": "execute_result"
    }
   ],
   "source": [
    "groupNum"
   ]
  },
  {
   "cell_type": "code",
   "execution_count": 144,
   "metadata": {},
   "outputs": [
    {
     "data": {
      "text/plain": [
       "'dark'"
      ]
     },
     "execution_count": 144,
     "metadata": {},
     "output_type": "execute_result"
    }
   ],
   "source": [
    "phys"
   ]
  },
  {
   "cell_type": "code",
   "execution_count": 127,
   "metadata": {},
   "outputs": [
    {
     "data": {
      "text/plain": [
       "3.4924220136527582e-06"
      ]
     },
     "execution_count": 127,
     "metadata": {},
     "output_type": "execute_result"
    }
   ],
   "source": [
    "AbundanceMatching(0.05225592e10, 5.52, 1).stellar_mass(med=True)/1e10"
   ]
  },
  {
   "cell_type": "code",
   "execution_count": 141,
   "metadata": {},
   "outputs": [
    {
     "data": {
      "text/plain": [
       "array([9.30244042, 0.92643559, 0.19219552, 0.10096907])"
      ]
     },
     "execution_count": 141,
     "metadata": {},
     "output_type": "execute_result"
    }
   ],
   "source": [
    "shortlist['Subhalo Mass']"
   ]
  },
  {
   "cell_type": "code",
   "execution_count": null,
   "metadata": {},
   "outputs": [],
   "source": []
  },
  {
   "cell_type": "code",
   "execution_count": 142,
   "metadata": {},
   "outputs": [
    {
     "data": {
      "text/plain": [
       "array([9.302441  , 1.0309474 , 0.22673757, 0.12488281], dtype=float32)"
      ]
     },
     "execution_count": 142,
     "metadata": {},
     "output_type": "execute_result"
    }
   ],
   "source": [
    "shortlist['Subhalo Max Mass']"
   ]
  },
  {
   "cell_type": "code",
   "execution_count": 145,
   "metadata": {},
   "outputs": [
    {
     "data": {
      "text/plain": [
       "array([2.05917313e-02, 5.23335603e-04, 4.16880167e-05, 1.53915354e-05])"
      ]
     },
     "execution_count": 145,
     "metadata": {},
     "output_type": "execute_result"
    }
   ],
   "source": [
    "shortlist['Subhalo Med Stellar Mass']"
   ]
  },
  {
   "cell_type": "code",
   "execution_count": 115,
   "metadata": {},
   "outputs": [
    {
     "data": {
      "text/plain": [
       "5.5297658079491026"
      ]
     },
     "execution_count": 115,
     "metadata": {},
     "output_type": "execute_result"
    }
   ],
   "source": [
    "subhalo_data['Header'].attrs['Redshift']"
   ]
  },
  {
   "cell_type": "code",
   "execution_count": 111,
   "metadata": {},
   "outputs": [
    {
     "data": {
      "text/plain": [
       "(array([6]),)"
      ]
     },
     "execution_count": 111,
     "metadata": {},
     "output_type": "execute_result"
    }
   ],
   "source": [
    "primary_loc"
   ]
  },
  {
   "cell_type": "code",
   "execution_count": 110,
   "metadata": {},
   "outputs": [
    {
     "data": {
      "text/plain": [
       "array([2.06070247e-05])"
      ]
     },
     "execution_count": 110,
     "metadata": {},
     "output_type": "execute_result"
    }
   ],
   "source": [
    "shortlist['Subhalo Med Stellar Mass'][primary_loc[0]]"
   ]
  },
  {
   "cell_type": "code",
   "execution_count": 95,
   "metadata": {},
   "outputs": [
    {
     "data": {
      "text/plain": [
       "{'Group ID': array([2649, 2649], dtype=int32),\n",
       " 'Group Mass': array([8.88531631, 8.88531631]),\n",
       " 'Group Radius': array([22.14270336, 22.14270336]),\n",
       " 'Nsubs': array([4, 4], dtype=int32),\n",
       " 'Subhalo ID': array([41555, 41556]),\n",
       " 'Subhalo Mass': array([8.65646193, 0.10073151]),\n",
       " 'Subhalo Max Mass': array([0.13196836, 0.13196836], dtype=float32),\n",
       " 'Subhalo Max Mass Snap': array([14, 12], dtype=int16),\n",
       " 'Subhalo Med Stellar Mass': array([1.6520189e-05, 1.6520189e-05]),\n",
       " 'Subhalo Pos': array([[14662.45377623, 10186.53578113,  6645.53405133],\n",
       "        [14626.65671173, 10195.99659159,  6634.5154261 ]]),\n",
       " 'Subhalo Stellar Masses': array([[1.66438400e-06, 1.29673115e-03, 5.89320843e-06, ...,\n",
       "         2.06955982e-05, 1.10178784e-04, 5.80531734e-05],\n",
       "        [6.90072529e-07, 4.10808784e-06, 2.37703643e-05, ...,\n",
       "         3.74349809e-05, 1.39082063e-06, 7.14892058e-07]]),\n",
       " 'Subhalo Vel': array([[124.18965912,  73.42002869, -64.13163757],\n",
       "        [223.0753479 ,  14.25303268, -38.42409897]])}"
      ]
     },
     "execution_count": 95,
     "metadata": {},
     "output_type": "execute_result"
    }
   ],
   "source": [
    "shortlist"
   ]
  },
  {
   "cell_type": "code",
   "execution_count": 31,
   "metadata": {},
   "outputs": [
    {
     "data": {
      "text/plain": [
       "14826"
      ]
     },
     "execution_count": 31,
     "metadata": {},
     "output_type": "execute_result"
    }
   ],
   "source": [
    "groupNum\n"
   ]
  },
  {
   "cell_type": "code",
   "execution_count": 87,
   "metadata": {},
   "outputs": [
    {
     "data": {
      "text/plain": [
       "True"
      ]
     },
     "execution_count": 87,
     "metadata": {},
     "output_type": "execute_result"
    }
   ],
   "source": [
    "all(np.array([0,0,0,0,0])==0)"
   ]
  },
  {
   "cell_type": "code",
   "execution_count": 80,
   "metadata": {},
   "outputs": [
    {
     "name": "stdout",
     "output_type": "stream",
     "text": [
      "False\n"
     ]
    }
   ],
   "source": [
    "meds = shortlist[\"Subhalo Med Stellar Mass\"]\n",
    "primary_loc = np.where(meds==np.max(meds))\n",
    "\n",
    "meds_sansmax = np.where(meds==np.max(meds), 0, meds)\n",
    "secondary_loc = np.where(meds==np.max(meds_sansmax))\n",
    "                        \n",
    "if all(meds_sansmax==0):\n",
    "    print(False)\n",
    "\n",
    "# stel1 = shortlist['Subhalo Med Stellar Mass'][primary_loc][0]\n",
    "# stel2 =  shortlist['Subhalo Med Stellar Mass'][secondary_loc][0]"
   ]
  },
  {
   "cell_type": "code",
   "execution_count": 73,
   "metadata": {
    "scrolled": true
   },
   "outputs": [
    {
     "name": "stdout",
     "output_type": "stream",
     "text": [
      "Group ID [14826 14826]\n",
      "Group Mass [12.3220777 12.3220777]\n",
      "Group Radius [78.13954055 78.13954055]\n",
      "Nsubs [4 4]\n",
      "Subhalo ID [656227 656228]\n",
      "Subhalo Mass [10.52836735  0.41439604]\n",
      "Subhalo Max Mass [10.528367 10.528367]\n",
      "Subhalo Max Mass Snap [85 84]\n",
      "Subhalo Med Stellar Mass [0.03586521 0.03586521]\n",
      "Subhalo Pos [[44004.03766665   622.48300485 44285.75202413]\n",
      " [43998.88709943   626.38660314 44300.96203248]]\n",
      "Subhalo Stellar Masses [[0.02706607 0.01434706 0.00951731 ... 0.04569551 0.07696766 0.20124992]\n",
      " [0.00758318 0.07196741 0.00184457 ... 0.05858761 0.05899612 0.01940448]]\n",
      "Subhalo Vel [[  58.45320892  -87.67569733 -296.86483765]\n",
      " [  57.5833168   -69.63285828 -256.28952026]]\n"
     ]
    }
   ],
   "source": [
    "for key in shortlist.keys():\n",
    "    print(key, shortlist[key])"
   ]
  },
  {
   "cell_type": "code",
   "execution_count": 41,
   "metadata": {},
   "outputs": [
    {
     "data": {
      "text/plain": [
       "array([ 1474,  1505,  1522, ..., 22327, 22333, 22442], dtype=int32)"
      ]
     },
     "execution_count": 41,
     "metadata": {},
     "output_type": "execute_result"
    }
   ],
   "source": [
    "uniqueGroups"
   ]
  },
  {
   "cell_type": "code",
   "execution_count": 33,
   "metadata": {},
   "outputs": [
    {
     "data": {
      "text/plain": [
       "array([14825], dtype=int32)"
      ]
     },
     "execution_count": 33,
     "metadata": {},
     "output_type": "execute_result"
    }
   ],
   "source": [
    "uniqueGroups[np.where(uniqueGroups==groupNum)[0]-1]"
   ]
  },
  {
   "cell_type": "code",
   "execution_count": 50,
   "metadata": {},
   "outputs": [
    {
     "data": {
      "text/plain": [
       "array([ True,  True,  True, ..., False, False, False])"
      ]
     },
     "execution_count": 50,
     "metadata": {},
     "output_type": "execute_result"
    }
   ],
   "source": [
    "np.array(subhalo_data['dark']['dwarf']['Group ID'])==1474"
   ]
  },
  {
   "cell_type": "code",
   "execution_count": 48,
   "metadata": {},
   "outputs": [
    {
     "data": {
      "text/plain": [
       "array([1474, 1474, 1474, 1474, 1474, 1474, 1474, 1474, 1474, 1474],\n",
       "      dtype=int32)"
      ]
     },
     "execution_count": 48,
     "metadata": {},
     "output_type": "execute_result"
    }
   ],
   "source": [
    "subhalo_data['dark']['dwarf']['Group ID'][0:10]"
   ]
  },
  {
   "cell_type": "code",
   "execution_count": 69,
   "metadata": {},
   "outputs": [
    {
     "data": {
      "text/plain": [
       "array([4], dtype=int32)"
      ]
     },
     "execution_count": 69,
     "metadata": {},
     "output_type": "execute_result"
    }
   ],
   "source": [
    "mask = np.array(subhalo_data['dark']['dwarf']['Group ID']) == 14825\n",
    "subhalo_data['dark']['dwarf']['Nsubs'][mask]"
   ]
  },
  {
   "cell_type": "code",
   "execution_count": 68,
   "metadata": {},
   "outputs": [
    {
     "data": {
      "text/plain": [
       "array([0.00758318, 0.07196741, 0.00184457, 0.02158741, 0.05653187,\n",
       "       0.05241256, 0.03774799, 0.03577967, 0.01855397, 0.08124634])"
      ]
     },
     "execution_count": 68,
     "metadata": {},
     "output_type": "execute_result"
    }
   ],
   "source": [
    "np.array(shortlist['Subhalo Stellar Masses'])[1,0:10]"
   ]
  },
  {
   "cell_type": "markdown",
   "metadata": {},
   "source": [
    "## negative stellar mass"
   ]
  },
  {
   "cell_type": "code",
   "execution_count": 2,
   "metadata": {},
   "outputs": [],
   "source": [
    "meansneg=[]\n",
    "sumneg=[]"
   ]
  },
  {
   "cell_type": "code",
   "execution_count": 30,
   "metadata": {},
   "outputs": [
    {
     "name": "stdout",
     "output_type": "stream",
     "text": [
      "0.034623132297786324\n",
      "0.025606381226418694\n"
     ]
    }
   ],
   "source": [
    "stellars = inst.stellar_mass(med=True)\n",
    "stellars = inst.stellar_mass()\n",
    "print(np.mean(stellars/1e10))\n",
    "print(np.median(stellars/1e10))"
   ]
  },
  {
   "cell_type": "code",
   "execution_count": 14,
   "metadata": {},
   "outputs": [],
   "source": [
    "halo_maxmass = 9.107498915666389\n",
    "inst= AbundanceMatching(maxmass=halo_maxmass*1e10, \n",
    "                                redshift=1.2,\n",
    "                                samples=10000)\n",
    "stellars = inst.stellar_mass(med=True)\n",
    "meansneg.append(np.mean(stellars/1e10))\n",
    "sumneg.append(np.sum(stellars<0))"
   ]
  },
  {
   "cell_type": "code",
   "execution_count": 15,
   "metadata": {},
   "outputs": [
    {
     "name": "stdout",
     "output_type": "stream",
     "text": [
      "[0.03506980880486948, 0.035397735485087886, 0.034217957415455524, 0.0346020071503516, 0.03535498542398052, 0.034811329022998556, 0.03497295598257415, 0.03500942108397938, 0.035438402765762565, 0.03489371910602665, 0.0349191383890691, 0.034754562238214916]\n",
      "0.03495350190569752\n"
     ]
    }
   ],
   "source": [
    "print(meansneg)\n",
    "print(np.mean(meansneg))"
   ]
  },
  {
   "cell_type": "code",
   "execution_count": 26,
   "metadata": {},
   "outputs": [
    {
     "name": "stdout",
     "output_type": "stream",
     "text": [
      "[0.03566997256504131, 0.03515662182100625, 0.03511675022293628, 0.03504940914283485, 0.03453374712597531, 0.0348563676692634, 0.034534713155894216, 0.03501387785876937, 0.03510706455215177, 0.03552658108218223, 0.035441213347987534, 0.03484466638094478, 0.035285420182061926]\n",
      "0.03508741577746533\n"
     ]
    }
   ],
   "source": [
    "print(meansneg)\n",
    "print(np.mean(meansneg))"
   ]
  },
  {
   "cell_type": "code",
   "execution_count": 27,
   "metadata": {},
   "outputs": [
    {
     "name": "stdout",
     "output_type": "stream",
     "text": [
      "[2, 15, 10, 5, 7, 10, 6, 14, 9, 5, 8, 8, 11]\n"
     ]
    }
   ],
   "source": [
    "print(sumneg)"
   ]
  },
  {
   "cell_type": "code",
   "execution_count": 104,
   "metadata": {},
   "outputs": [
    {
     "data": {
      "text/plain": [
       "1000000"
      ]
     },
     "execution_count": 104,
     "metadata": {},
     "output_type": "execute_result"
    }
   ],
   "source": [
    "inst= AbundanceMatching(maxmass=halo_maxmass*1e10, \n",
    "                                redshift=1.2,\n",
    "                                samples=10000)"
   ]
  },
  {
   "cell_type": "code",
   "execution_count": 5,
   "metadata": {},
   "outputs": [],
   "source": [
    "n10s = inst.getvals(inst.N10vec)\n",
    "n11s = inst.getvals(inst.N11vec)"
   ]
  },
  {
   "cell_type": "code",
   "execution_count": 6,
   "metadata": {},
   "outputs": [
    {
     "data": {
      "text/plain": [
       "835"
      ]
     },
     "execution_count": 6,
     "metadata": {},
     "output_type": "execute_result"
    }
   ],
   "source": [
    "np.sum((n10s+(n11s*(1.2/2.2))) < 0)"
   ]
  },
  {
   "cell_type": "code",
   "execution_count": null,
   "metadata": {},
   "outputs": [],
   "source": [
    "M10 = self.getvals(self.M10vec, med)\n",
    "M11 = self.getvals(self.M11vec, med)\n",
    "N10 = self.getvals(self.N10vec, med)\n",
    "N11 = self.getvals(self.N11vec, med)"
   ]
  },
  {
   "cell_type": "code",
   "execution_count": null,
   "metadata": {},
   "outputs": [],
   "source": []
  },
  {
   "cell_type": "code",
   "execution_count": 16,
   "metadata": {
    "scrolled": true
   },
   "outputs": [
    {
     "name": "stdout",
     "output_type": "stream",
     "text": [
      "successfully wrote dwarf dark to TNG_76_ebug.hdf5\n",
      "successfully wrote massive dark to TNG_76_ebug.hdf5\n"
     ]
    },
    {
     "ename": "IndexError",
     "evalue": "index 0 is out of bounds for axis 0 with size 0",
     "output_type": "error",
     "traceback": [
      "\u001b[0;31m---------------------------------------------------------------------------\u001b[0m",
      "\u001b[0;31mIndexError\u001b[0m                                Traceback (most recent call last)",
      "\u001b[0;32m/xdisk/gbesla/katiechambe/pears/pears/utils/make_pairs.py\u001b[0m in \u001b[0;36m<module>\u001b[0;34m\u001b[0m\n\u001b[1;32m    135\u001b[0m \u001b[0;34m\u001b[0m\u001b[0m\n\u001b[1;32m    136\u001b[0m                         \u001b[0mstel1\u001b[0m \u001b[0;34m=\u001b[0m \u001b[0mshortlist\u001b[0m\u001b[0;34m[\u001b[0m\u001b[0;34m'Subhalo Stellar Masses'\u001b[0m\u001b[0;34m]\u001b[0m\u001b[0;34m[\u001b[0m\u001b[0mprimary_loc\u001b[0m\u001b[0;34m]\u001b[0m\u001b[0;34m[\u001b[0m\u001b[0;36m0\u001b[0m\u001b[0;34m]\u001b[0m\u001b[0;34m[\u001b[0m\u001b[0mrealization\u001b[0m\u001b[0;34m]\u001b[0m\u001b[0;34m\u001b[0m\u001b[0;34m\u001b[0m\u001b[0m\n\u001b[0;32m--> 137\u001b[0;31m                         \u001b[0mstel2\u001b[0m \u001b[0;34m=\u001b[0m  \u001b[0mshortlist\u001b[0m\u001b[0;34m[\u001b[0m\u001b[0;34m'Subhalo Stellar Masses'\u001b[0m\u001b[0;34m]\u001b[0m\u001b[0;34m[\u001b[0m\u001b[0msecondary_loc\u001b[0m\u001b[0;34m]\u001b[0m\u001b[0;34m[\u001b[0m\u001b[0;36m0\u001b[0m\u001b[0;34m]\u001b[0m\u001b[0;34m[\u001b[0m\u001b[0mrealization\u001b[0m\u001b[0;34m]\u001b[0m\u001b[0;34m\u001b[0m\u001b[0;34m\u001b[0m\u001b[0m\n\u001b[0m\u001b[1;32m    138\u001b[0m \u001b[0;34m\u001b[0m\u001b[0m\n\u001b[1;32m    139\u001b[0m                     \u001b[0mid1\u001b[0m \u001b[0;34m=\u001b[0m \u001b[0mshortlist\u001b[0m\u001b[0;34m[\u001b[0m\u001b[0;34m'Subhalo ID'\u001b[0m\u001b[0;34m]\u001b[0m\u001b[0;34m[\u001b[0m\u001b[0mprimary_loc\u001b[0m\u001b[0;34m]\u001b[0m\u001b[0;34m[\u001b[0m\u001b[0;36m0\u001b[0m\u001b[0;34m]\u001b[0m\u001b[0;34m\u001b[0m\u001b[0;34m\u001b[0m\u001b[0m\n",
      "\u001b[0;31mIndexError\u001b[0m: index 0 is out of bounds for axis 0 with size 0"
     ]
    }
   ],
   "source": [
    "run ./utils/make_pairs.py 76 \"TNG\" 10"
   ]
  },
  {
   "cell_type": "code",
   "execution_count": 17,
   "metadata": {},
   "outputs": [
    {
     "data": {
      "text/plain": [
       "18763"
      ]
     },
     "execution_count": 17,
     "metadata": {},
     "output_type": "execute_result"
    }
   ],
   "source": [
    "groupNum"
   ]
  },
  {
   "cell_type": "code",
   "execution_count": 19,
   "metadata": {},
   "outputs": [
    {
     "data": {
      "text/plain": [
       "(array([], dtype=int64),)"
      ]
     },
     "execution_count": 19,
     "metadata": {},
     "output_type": "execute_result"
    }
   ],
   "source": [
    "secondary_loc"
   ]
  },
  {
   "cell_type": "code",
   "execution_count": 42,
   "metadata": {},
   "outputs": [],
   "source": [
    "stells = shortlist[\"Subhalo Stellar Masses\"][0]"
   ]
  },
  {
   "cell_type": "code",
   "execution_count": 44,
   "metadata": {},
   "outputs": [
    {
     "data": {
      "text/plain": [
       "array([ 0.02206067,  0.0813649 ,  0.03132142,  0.04582926,  0.00582495,\n",
       "        0.02034592,  0.01702946,  0.08413784,  0.01306739,  0.05088461,\n",
       "       -0.00656435,  0.04233705,  0.01519518,  0.14778797,  0.09969574,\n",
       "        0.01522282,  0.03599003,  0.01886128,  0.12619719,  0.04769971,\n",
       "        0.03137059,  0.01123722,  0.02765056,  0.02416253,  0.03221308,\n",
       "        0.06273977,  0.01241125,  0.11437126,  0.11670975,  0.05688497,\n",
       "        0.08826006,  0.00803787,  0.02217742,  0.04931391,  0.09071099,\n",
       "        0.07360625,  0.03187605,  0.02034443,  0.07791367,  0.10096392,\n",
       "        0.03310275,  0.0404541 ,  0.03953862,  0.05340454,  0.07213517,\n",
       "        0.06363063,  0.01637233,  0.04055335,  0.07227544,  0.02415962,\n",
       "        0.09713631,  0.03050385,  0.02826478,  0.03045874,  0.08671549,\n",
       "        0.04002967,  0.00983397,  0.12510051,  0.03513089,  0.02296041,\n",
       "        0.0291626 ,  0.03286327,  0.04770342,  0.01386602,  0.04167417,\n",
       "        0.05916269,  0.02197364,  0.02041098,  0.01793047,  0.023101  ,\n",
       "        0.02777054,  0.0462565 ,  0.02591111,  0.03340204,  0.04093948,\n",
       "        0.03052526,  0.03409072,  0.05370947,  0.0132555 ,  0.02671588,\n",
       "        0.03192599,  0.01459209,  0.02476987,  0.06010892,  0.06642149,\n",
       "        0.02147575,  0.04015399,  0.04292247,  0.0600295 ,  0.027131  ,\n",
       "        0.03010909,  0.05785488,  0.04365943,  0.05753692,  0.03429358,\n",
       "        0.0756452 ,  0.01038634,  0.0627068 ,  0.10028475,  0.13827306,\n",
       "        0.02042476,  0.0283803 ,  0.04605033,  0.02889444,  0.07993289,\n",
       "        0.04039743,  0.05878347,  0.06689699,  0.04278093,  0.04562387,\n",
       "        0.07934162,  0.0539274 ,  0.05383795,  0.06470118,  0.09655031,\n",
       "        0.06792353,  0.06975168,  0.1118543 ,  0.02495937,  0.04969264,\n",
       "        0.04095763,  0.03893125,  0.10637497,  0.08259931,  0.01388695,\n",
       "        0.03264543,  0.02255588,  0.03639942,  0.03374854,  0.02555921,\n",
       "        0.00475071,  0.06433139,  0.069408  ,  0.01730254,  0.14769211,\n",
       "        0.08886581,  0.02289415,  0.02795261,  0.05147171,  0.08067349,\n",
       "        0.02993909,  0.04423349,  0.04759099,  0.01087559,  0.05253283,\n",
       "        0.02713683,  0.22924985,  0.02308319,  0.04870941,  0.01487344,\n",
       "        0.04498492,  0.02668013,  0.02360786,  0.02022067,  0.03625323,\n",
       "        0.05522273,  0.0422749 ,  0.01738788,  0.13966773,  0.05968199,\n",
       "        0.06839725,  0.01639778,  0.0876013 ,  0.10690471,  0.05819752,\n",
       "        0.00881772,  0.01537981,  0.05618987,  0.07218857,  0.02710173,\n",
       "        0.06049062,  0.01872212,  0.14452902,  0.02780019,  0.02233849,\n",
       "        0.00817489,  0.00765738,  0.03999861,  0.05885584,  0.03641092,\n",
       "        0.07637967,  0.03565585,  0.04858172,  0.03803835,  0.03347461,\n",
       "        0.03712083,  0.09726606,  0.05383864,  0.06062701,  0.01608148,\n",
       "        0.08771751,  0.06788191,  0.03954861,  0.10707174,  0.02504688,\n",
       "        0.04156452,  0.06988602,  0.05352828,  0.15815845,  0.04061049,\n",
       "        0.03422239,  0.05953661,  0.02149875,  0.06521383,  0.15109657,\n",
       "        0.00250724,  0.1107621 ,  0.04771346,  0.01413683,  0.11580133,\n",
       "        0.0925608 ,  0.18030041,  0.05375819,  0.02299274,  0.10024666,\n",
       "        0.08347783,  0.08789507,  0.07559423,  0.03967868,  0.04389573,\n",
       "        0.0254613 ,  0.09205636,  0.03093277,  0.02642773,  0.10643973,\n",
       "        0.11353703,  0.02053587,  0.05914952,  0.0253907 ,  0.07931686,\n",
       "        0.03396849,  0.01727521,  0.02140863,  0.05326952,  0.02989788,\n",
       "        0.05433623,  0.06120709,  0.02817719,  0.03200236,  0.04511325,\n",
       "        0.02396842,  0.01631511,  0.05752888,  0.04250222,  0.08488875,\n",
       "        0.06165144,  0.02878979,  0.03599005,  0.01506041,  0.0245947 ,\n",
       "        0.05564075,  0.1172724 ,  0.01634947,  0.02148826,  0.0379611 ,\n",
       "        0.13932052,  0.02852906,  0.02036123,  0.08003427,  0.02778409,\n",
       "        0.02186314,  0.047493  ,  0.12350207,  0.05354326,  0.02225685,\n",
       "        0.01217352,  0.03282797,  0.04744042,  0.04237672,  0.04808677,\n",
       "        0.05629157,  0.03952856,  0.09070925,  0.02679212,  0.02407378,\n",
       "        0.12061024,  0.03390425,  0.02344871,  0.02395441,  0.07102452,\n",
       "        0.04919515,  0.07405281,  0.10319254,  0.03730862,  0.03116363,\n",
       "        0.05644785,  0.07237578,  0.04355101,  0.18706828,  0.09060195,\n",
       "        0.01253442,  0.12513458,  0.06078943,  0.03439455,  0.19084735,\n",
       "        0.01168646,  0.03124037,  0.05159649,  0.04121073,  0.04174183,\n",
       "        0.05819374,  0.04478046,  0.06147971,  0.02387686,  0.03365749,\n",
       "        0.04189929,  0.02567009,  0.13179867,  0.03028125,  0.11104365,\n",
       "        0.02586333,  0.10915768,  0.03009805,  0.06508293,  0.02554643,\n",
       "        0.13101931,  0.06358504,  0.04145591,  0.06142536,  0.02601706,\n",
       "        0.03742859,  0.14964721,  0.0355106 ,  0.07308919,  0.14901278,\n",
       "        0.08156898,  0.03778153,  0.07199027,  0.02523275,  0.13121188,\n",
       "        0.01564055,  0.06602199,  0.00921271,  0.03986903,  0.02740813,\n",
       "        0.03696468,  0.04660821,  0.09383502,  0.24819386,  0.04362482,\n",
       "        0.09657135,  0.03560227,  0.02037693,  0.07654175,  0.00846511,\n",
       "        0.04865281,  0.0537163 ,  0.06796999,  0.07195919,  0.23220143,\n",
       "        0.02815707,  0.00588431,  0.07861233,  0.04889172,  0.2014666 ,\n",
       "        0.04808949,  0.03471119,  0.01942837,  0.03246601,  0.08872024,\n",
       "        0.00684929,  0.02377982,  0.0266017 ,  0.05574198,  0.05280286,\n",
       "        0.06349845,  0.2632944 ,  0.00960206,  0.01717747,  0.0392026 ,\n",
       "        0.04044637,  0.00802326,  0.01314362,  0.02291028,  0.05482228,\n",
       "        0.03583438,  0.04944047,  0.02572936,  0.06573957,  0.01481188,\n",
       "        0.07976017,  0.02667545,  0.06958697,  0.05009095,  0.10164843,\n",
       "        0.03302797,  0.01348262,  0.04370454,  0.06700219,  0.02627768,\n",
       "        0.04113726,  0.03344908,  0.09870877,  0.26624956,  0.01152626,\n",
       "        0.03021218,  0.06460009,  0.04453028,  0.00429373,  0.05695886,\n",
       "        0.03814557,  0.08527116,  0.01563257,  0.04389539,  0.05976361,\n",
       "        0.03936746,  0.02036229,  0.05072356,  0.0358311 ,  0.0694199 ,\n",
       "        0.01577767,  0.06334782,  0.03844503,  0.01546588,  0.04556779,\n",
       "        0.00732762,  0.02330449,  0.05972311,  0.08703593,  0.02070665,\n",
       "        0.09432447,  0.02464444,  0.04096996,  0.12508345,  0.09641924,\n",
       "        0.07010266,  0.19730124,  0.02349771,  0.05058598,  0.12596039,\n",
       "        0.11478919,  0.10858461,  0.04825755,  0.01443849,  0.01721508,\n",
       "        0.06525729,  0.0461969 ,  0.04943839,  0.11153054,  0.02586173,\n",
       "        0.05970868,  0.09257135,  0.11353515,  0.05897898,  0.06903617,\n",
       "        0.00772334,  0.02550321,  0.02892563,  0.12193715,  0.02508594,\n",
       "        0.06745353,  0.19203816,  0.11436035,  0.01538835,  0.04717939,\n",
       "        0.08730007,  0.12292689,  0.04413029,  0.0396962 ,  0.102701  ,\n",
       "        0.08565707,  0.04564559,  0.12914297,  0.01825131,  0.02438663,\n",
       "        0.02930479,  0.00934175,  0.01301934,  0.02898549,  0.00721264,\n",
       "        0.05988529,  0.08693302,  0.08511354,  0.01428289,  0.05547228,\n",
       "        0.02859554,  0.14853263,  0.02411536,  0.09409003,  0.04412456,\n",
       "        0.01753094,  0.01237491,  0.02686792,  0.03260906,  0.01408947,\n",
       "        0.05259103,  0.01188139,  0.02315926,  0.06208488,  0.07320278,\n",
       "        0.08935835,  0.03012761,  0.05326066,  0.04522334,  0.01999168,\n",
       "        0.03349945,  0.01058171,  0.05301017,  0.12140649,  0.01859248,\n",
       "        0.04433115,  0.01472958,  0.04877274,  0.01768444,  0.1046038 ,\n",
       "        0.05088716,  0.06646064,  0.078897  ,  0.03562561,  0.08549957,\n",
       "        0.01105573,  0.02612559,  0.05286239,  0.02766901,  0.1277077 ,\n",
       "        0.01641372,  0.05580411,  0.10869419,  0.05852443,  0.0769335 ,\n",
       "        0.02864109,  0.02688356,  0.13351403,  0.03903251,  0.01183737,\n",
       "        0.09119012,  0.03692257,  0.07035917,  0.03382166,  0.12357851,\n",
       "        0.04638349,  0.02891413,  0.08513263,  0.02963369,  0.01995793,\n",
       "        0.08051136,  0.06214037,  0.04242145,  0.07864982,  0.05395644,\n",
       "        0.03738287,  0.07539955,  0.04916797,  0.21237779,  0.02015218,\n",
       "        0.12679108,  0.02590768,  0.06084728,  0.05209113,  0.03725683,\n",
       "        0.00921643,  0.00790654,  0.04642317,  0.0278041 ,  0.1515563 ,\n",
       "        0.22134134,  0.12798235,  0.02519975,  0.03613727,  0.0315583 ,\n",
       "        0.02633005,  0.04073955,  0.03654725,  0.01940224,  0.03186893,\n",
       "        0.04572977,  0.00859521,  0.02757079,  0.05159343,  0.0200958 ,\n",
       "        0.05228658,  0.08427599,  0.10944369,  0.0305832 ,  0.06446755,\n",
       "        0.01684999,  0.01064757,  0.08339684,  0.0398264 ,  0.00631129,\n",
       "        0.01395555,  0.04448842,  0.03242378,  0.10424774,  0.03170162,\n",
       "        0.0497013 ,  0.16069956,  0.1666874 ,  0.02561667,  0.09116951,\n",
       "        0.14859571,  0.03112693,  0.05102451,  0.0097923 ,  0.07390867,\n",
       "        0.05531265,  0.09175322,  0.04905833,  0.16033644,  0.02286053,\n",
       "        0.03235596,  0.04033947,  0.00691947,  0.05352447,  0.03687908,\n",
       "        0.05126616,  0.01782942,  0.01895625,  0.02291477,  0.03949069,\n",
       "        0.0996432 ,  0.06592314,  0.06347716,  0.04291556,  0.03130256,\n",
       "        0.04174421,  0.01829479,  0.09243817,  0.09874991,  0.05706101,\n",
       "        0.00811904,  0.10530911,  0.07492946,  0.03704672,  0.02495204,\n",
       "        0.03424166,  0.0659092 ,  0.22222784,  0.01578027,  0.00508077,\n",
       "        0.03421547,  0.07732407,  0.02372587,  0.09708704,  0.0202456 ,\n",
       "        0.02844608,  0.15757826,  0.0359496 ,  0.03205393,  0.01331583,\n",
       "        0.06160611,  0.01133433,  0.01612516,  0.02974244,  0.00556347,\n",
       "        0.12464704,  0.03077445,  0.0836159 ,  0.02157263,  0.03022806,\n",
       "        0.01702304,  0.04518993,  0.0700036 ,  0.03131167,  0.0264597 ,\n",
       "        0.02846968,  0.02251822,  0.14908263,  0.01595231,  0.02041777,\n",
       "        0.01319287,  0.04221008,  0.0391515 ,  0.0483203 ,  0.00725466,\n",
       "        0.03879273,  0.0915255 ,  0.12479445,  0.03368707,  0.02981407,\n",
       "        0.02883432,  0.02962104,  0.19401329,  0.03632652,  0.0692673 ,\n",
       "        0.03433002,  0.10006861,  0.09912797,  0.09602217,  0.01676613,\n",
       "        0.14207537,  0.06662515,  0.03018334,  0.10505221,  0.05896107,\n",
       "        0.02839243,  0.0542018 ,  0.0348509 ,  0.07613256,  0.02280855,\n",
       "        0.05890074,  0.07857848,  0.01042152,  0.02018748,  0.10455593,\n",
       "        0.03709693,  0.03382734,  0.02337382,  0.0042484 ,  0.01234234,\n",
       "        0.05392133,  0.0394274 ,  0.11650548,  0.26908133,  0.02367373,\n",
       "        0.01930379,  0.10539139,  0.02630033,  0.09083585,  0.00459346,\n",
       "        0.06780856,  0.03683796,  0.04397997,  0.01064083,  0.06655626,\n",
       "        0.01642863,  0.06668839,  0.06433858,  0.1354448 ,  0.01485752,\n",
       "        0.04708132,  0.08240806,  0.04115741,  0.01346353,  0.03418975,\n",
       "        0.02828249,  0.01327269,  0.07092249,  0.09672854,  0.05749756,\n",
       "        0.0561099 ,  0.06995404,  0.05084782,  0.02365224,  0.07193383,\n",
       "        0.08573286,  0.120382  ,  0.02912874,  0.0593361 ,  0.00458129,\n",
       "        0.04105792,  0.01558839,  0.01809038,  0.10758061,  0.07716747,\n",
       "        0.03644809,  0.07599999,  0.07379485,  0.01650254,  0.0252682 ,\n",
       "        0.02816548,  0.08212198,  0.01668256,  0.0492999 ,  0.15095339,\n",
       "        0.00997383,  0.09888282,  0.13610525,  0.0635892 ,  0.04226256,\n",
       "        0.12407115,  0.02712355,  0.06210211,  0.01972073,  0.05980857,\n",
       "        0.03948337,  0.05739293,  0.04772215,  0.06199736,  0.01213378,\n",
       "        0.0349191 ,  0.02972829,  0.03859615,  0.02215826,  0.06214285,\n",
       "        0.02675878,  0.07888217,  0.04773919,  0.08897598,  0.02578497,\n",
       "        0.02964413,  0.0847578 ,  0.06497796,  0.01486443,  0.03202523,\n",
       "        0.10099787,  0.08817074,  0.08922845,  0.09342848,  0.07666015,\n",
       "        0.01436681,  0.08464856,  0.02130327,  0.02644834,  0.20789954,\n",
       "        0.15887852,  0.10913913,  0.01595794,  0.05034881,  0.11549317,\n",
       "        0.02673498,  0.07539712,  0.07333935,  0.06672116,  0.0373659 ,\n",
       "        0.0119073 ,  0.09740525,  0.03895917,  0.02592804,  0.01263086,\n",
       "        0.04655606,  0.12295694,  0.01865728,  0.02952808,  0.02096771,\n",
       "        0.03182226,  0.039977  ,  0.04976397,  0.05686153,  0.04390908,\n",
       "        0.00486289,  0.10538179,  0.04729718,  0.02881912,  0.06112365,\n",
       "        0.09952741,  0.06316441,  0.09222671,  0.22181497,  0.01838122,\n",
       "        0.06236403,  0.01590213,  0.06341865,  0.07818911,  0.08871404,\n",
       "        0.01160318,  0.01629145,  0.04189245,  0.03946921,  0.0383751 ,\n",
       "        0.05964023,  0.00684489,  0.01792796,  0.14584964,  0.08347823,\n",
       "        0.01555138,  0.07207083,  0.08897616,  0.0515198 ,  0.05008305,\n",
       "        0.09104964,  0.00891285,  0.02354647,  0.0337378 ,  0.02853158,\n",
       "        0.07182307,  0.27844493,  0.01932908,  0.01076017,  0.01183611,\n",
       "        0.02002206,  0.13521229,  0.07156372,  0.2905714 ,  0.02480866,\n",
       "        0.01463293,  0.09609782,  0.07129694,  0.04239442,  0.05151604,\n",
       "        0.0236771 ,  0.06497507,  0.04072933,  0.02587799,  0.03391095,\n",
       "        0.03756589,  0.06962724,  0.00695544,  0.05004142,  0.01247406,\n",
       "        0.07032994,  0.06900658,  0.17948088,  0.04913336,  0.02009139,\n",
       "        0.02385103,  0.06839952,  0.07974321,  0.01963082,  0.02280621,\n",
       "        0.05651184,  0.01714819,  0.02597584,  0.00853969,  0.01072303,\n",
       "        0.02722248,  0.04933004,  0.10303514,  0.03941011,  0.07695399,\n",
       "        0.15864896,  0.01700149,  0.02805372,  0.01640524,  0.00905032,\n",
       "        0.06228766,  0.04819916,  0.0496427 ,  0.03183246,  0.0599905 ,\n",
       "        0.03642468,  0.04171082,  0.01088211,  0.03631771,  0.03151965,\n",
       "        0.01308576,  0.00785161,  0.04629835,  0.04284894,  0.08676766,\n",
       "        0.0381826 ,  0.09236909,  0.12081046,  0.01935768,  0.06938034,\n",
       "        0.05280553,  0.076955  ,  0.07387928,  0.03114767,  0.01734839,\n",
       "        0.10718833,  0.11618725,  0.0888179 ,  0.13796171,  0.13019877,\n",
       "        0.03685182,  0.06120237,  0.0453556 ,  0.02308197,  0.05458635,\n",
       "        0.03406221,  0.03958578,  0.10239454,  0.01645824,  0.2225279 ,\n",
       "        0.04210537,  0.07027686,  0.06095421,  0.02161708,  0.07407843,\n",
       "        0.02802541,  0.04168123,  0.08295885,  0.03063448,  0.04753738,\n",
       "        0.02734112,  0.02802002,  0.03221052,  0.01609868,  0.01095509,\n",
       "        0.08963207,  0.01658018,  0.01269548,  0.07515186,  0.03095903,\n",
       "        0.0611116 ,  0.07189158,  0.03490452,  0.02991921,  0.01232189,\n",
       "        0.09000324,  0.03018623,  0.07614959,  0.02487742,  0.06123747,\n",
       "        0.01543472,  0.05775327,  0.12642027,  0.07254238,  0.0868439 ,\n",
       "        0.0199558 ,  0.04500714,  0.07373883,  0.03828258,  0.03138354,\n",
       "        0.02828961,  0.03749124,  0.0253808 ,  0.11282748,  0.03546298,\n",
       "        0.02981128,  0.06230885,  0.11284524,  0.05240715,  0.01398181,\n",
       "        0.00592704,  0.10293143,  0.05042392,  0.18852083,  0.04230457])"
      ]
     },
     "execution_count": 44,
     "metadata": {},
     "output_type": "execute_result"
    }
   ],
   "source": [
    "shortlist[\"Subhalo Stellar Masses\"][0]"
   ]
  },
  {
   "cell_type": "code",
   "execution_count": 45,
   "metadata": {},
   "outputs": [
    {
     "data": {
      "text/plain": [
       "array([1.22180466e-04, 6.87337424e-05, 2.06330971e-05, 9.64207322e-05,\n",
       "       2.75274477e-04, 5.33524431e-05, 9.53245106e-05, 9.81155203e-05,\n",
       "       2.96421024e-05, 3.29676080e-04, 1.57598270e-05, 3.26523865e-04,\n",
       "       6.46872118e-04, 4.28075809e-05, 6.51167638e-05, 8.32595071e-05,\n",
       "       2.28142646e-05, 5.05201511e-04, 8.85445653e-05, 1.73260210e-05,\n",
       "       6.74900391e-05, 3.06146232e-05, 1.18255766e-04, 5.40138274e-05,\n",
       "       6.50755116e-05, 2.57713699e-04, 1.62115232e-04, 3.55622776e-05,\n",
       "       7.88958828e-05, 2.55357655e-04, 1.08744370e-04, 2.39888714e-05,\n",
       "       3.74967386e-06, 6.37648292e-05, 1.68671171e-04, 3.31104546e-04,\n",
       "       1.32374843e-05, 6.74091765e-05, 9.17350533e-05, 5.45043765e-05,\n",
       "       1.37839121e-05, 1.29138237e-04, 1.03555889e-04, 3.48429413e-06,\n",
       "       5.22703067e-05, 3.57078387e-05, 1.41441900e-05, 7.34175011e-06,\n",
       "       6.99965155e-06, 2.66328893e-05, 2.59862536e-05, 4.62697003e-05,\n",
       "       8.55774104e-06, 1.15658849e-04, 6.71581902e-04, 1.08117757e-05,\n",
       "       4.01559260e-05, 9.76178423e-05, 1.61078450e-05, 7.69625079e-05,\n",
       "       3.98242880e-05, 5.04465297e-05, 2.90556495e-05, 1.89999542e-05,\n",
       "       1.24815069e-05, 3.45348176e-05, 1.38870859e-04, 1.23613660e-05,\n",
       "       1.22176868e-04, 5.71484925e-06, 4.09014052e-04, 4.09807336e-05,\n",
       "       1.66835037e-04, 3.73430195e-05, 1.90328944e-04, 6.11299841e-05,\n",
       "       9.36715909e-05, 4.55843592e-06, 7.47216075e-05, 1.79967763e-04,\n",
       "       7.91135492e-05, 1.36511692e-04, 1.71393268e-05, 7.44795261e-05,\n",
       "       1.41471982e-04, 1.40305593e-05, 9.43602396e-04, 2.11467944e-05,\n",
       "       2.45634212e-04, 2.19332091e-05, 2.00413296e-04, 2.81718601e-04,\n",
       "       3.10512976e-05, 3.13634308e-05, 2.87493368e-05, 7.62166192e-06,\n",
       "       7.64604439e-05, 8.36783648e-05, 1.55700606e-04, 4.89567350e-05,\n",
       "       1.19036837e-04, 7.15730791e-05, 2.08828784e-05, 3.52324173e-05,\n",
       "       2.08402666e-05, 6.33500334e-06, 1.38022931e-05, 2.78552421e-05,\n",
       "       5.84383940e-06, 1.03186284e-04, 4.25519357e-05, 8.86081094e-05,\n",
       "       1.81562756e-04, 1.60088746e-05, 4.32566898e-05, 1.67560321e-05,\n",
       "       3.25122428e-05, 1.74058432e-04, 1.04783881e-04, 7.08564779e-06,\n",
       "       1.28013265e-05, 4.19185050e-05, 3.45769472e-05, 2.74247338e-04,\n",
       "       2.14929345e-04, 9.22326819e-05, 2.81236128e-04, 7.86270182e-05,\n",
       "       1.96660250e-05, 8.28740012e-04, 2.26767559e-05, 1.52817305e-05,\n",
       "       9.10938887e-06, 5.84891182e-05, 4.21687777e-04, 1.44262533e-05,\n",
       "       1.52594553e-05, 1.77173690e-05, 5.04292353e-05, 6.50241616e-05,\n",
       "       8.66430216e-05, 4.67740033e-05, 3.43040915e-05, 1.01879807e-04,\n",
       "       2.60614165e-04, 9.67237787e-05, 2.92251559e-05, 6.88220079e-05,\n",
       "       2.15624970e-04, 8.81782687e-05, 1.49950774e-04, 4.00451482e-04,\n",
       "       1.85815897e-05, 6.54878869e-05, 1.36093009e-04, 2.24471789e-05,\n",
       "       4.65996045e-05, 1.70909157e-05, 1.04581501e-04, 5.96905957e-05,\n",
       "       2.00793942e-04, 2.98064888e-05, 1.23781098e-05, 2.50762219e-05,\n",
       "       4.23452471e-05, 2.77586299e-04, 4.34122742e-05, 1.21512852e-04,\n",
       "       4.36014538e-05, 2.54407303e-04, 8.05082543e-05, 2.89195199e-06,\n",
       "       6.47574636e-05, 6.00600168e-06, 1.07215051e-04, 1.22576346e-04,\n",
       "       1.97170596e-04, 7.89181826e-05, 7.01487288e-05, 1.83413741e-05,\n",
       "       4.57700230e-05, 1.48382240e-04, 4.54439925e-05, 8.49072305e-05,\n",
       "       3.75978438e-04, 6.90237802e-06, 1.54957472e-05, 5.26976717e-05,\n",
       "       2.86281609e-05, 1.73154190e-05, 1.85357181e-05, 6.93560780e-05,\n",
       "       1.90503213e-05, 2.68446919e-05, 6.63923214e-05, 1.22859979e-05,\n",
       "       1.01575691e-05, 5.01191988e-05, 1.44198428e-05, 1.86686529e-04,\n",
       "       1.20034172e-05, 3.22738064e-06, 1.03819750e-04, 1.51335851e-05,\n",
       "       3.40910853e-05, 6.52931964e-05, 2.26844877e-04, 4.05619282e-05,\n",
       "       4.24223183e-05, 3.56752658e-05, 8.29687678e-06, 5.69446267e-05,\n",
       "       1.75649839e-04, 5.42377494e-04, 1.97957981e-05, 1.35900430e-05,\n",
       "       1.44730433e-04, 8.45703505e-05, 8.27811019e-05, 3.29345969e-04,\n",
       "       7.86883472e-05, 3.20820850e-05, 8.47875293e-05, 5.32603959e-05,\n",
       "       1.92732366e-04, 2.27459630e-05, 1.05189178e-04, 1.76504512e-04,\n",
       "       1.17786757e-05, 1.27378640e-04, 6.97481549e-05, 4.13301097e-05,\n",
       "       2.93726700e-05, 2.32169964e-05, 1.60142192e-04, 1.46566821e-04,\n",
       "       3.01094272e-05, 3.42637749e-04, 1.47830492e-04, 1.30659397e-04,\n",
       "       7.31465164e-05, 6.37921054e-05, 1.50116419e-05, 7.49217076e-06,\n",
       "       1.78273286e-04, 7.24263177e-05, 1.92785194e-04, 2.48957348e-04,\n",
       "       2.50949834e-05, 7.19699581e-05, 6.70231852e-05, 3.82073469e-04,\n",
       "       1.32917612e-04, 4.85803199e-05, 3.58625933e-05, 1.49409925e-05,\n",
       "       1.79293206e-05, 2.34092304e-05, 7.58848484e-05, 2.05279336e-05,\n",
       "       7.86675650e-06, 1.39909942e-04, 9.07598868e-05, 2.37050113e-04,\n",
       "       2.73054095e-05, 1.08163352e-05, 5.08750361e-05, 8.31976885e-05,\n",
       "       1.88687912e-04, 1.37335681e-04, 2.97031692e-05, 1.25019995e-04,\n",
       "       5.28887779e-05, 1.23640504e-05, 1.40257229e-04, 5.34428981e-05,\n",
       "       1.60297483e-05, 3.92469513e-05, 3.23587734e-06, 2.90181440e-04,\n",
       "       1.15864597e-04, 5.50011024e-05, 9.41791879e-05, 2.47421351e-04,\n",
       "       4.32385176e-05, 4.16997321e-05, 6.03913461e-05, 1.74546547e-05,\n",
       "       5.29642316e-05, 4.14717406e-05, 2.03246471e-05, 3.78061009e-06,\n",
       "       1.26412781e-04, 8.77765138e-05, 1.45504750e-04, 2.69703494e-05,\n",
       "       1.40796258e-04, 2.74365939e-04, 3.48047056e-05, 4.48360307e-05,\n",
       "       1.36381928e-05, 1.18269315e-05, 2.32363395e-05, 4.44022505e-05,\n",
       "       7.96306050e-05, 7.12383328e-06, 2.51963287e-05, 2.39266373e-04,\n",
       "       5.83157852e-05, 1.32020932e-04, 3.82678146e-05, 1.56993426e-04,\n",
       "       2.90823300e-05, 4.09720369e-05, 2.11746277e-04, 1.22021019e-04,\n",
       "       2.19430525e-04, 2.48435761e-04, 1.18636679e-05, 2.59576825e-05,\n",
       "       7.70736276e-05, 5.76848811e-05, 4.64587054e-05, 3.76240805e-04,\n",
       "       2.25833983e-05, 1.56312633e-04, 3.73180145e-05, 1.64368498e-04,\n",
       "       6.81631107e-04, 4.34137499e-05, 6.04046292e-05, 1.44037560e-05,\n",
       "       6.27153870e-05, 1.60055702e-05, 5.21664330e-05, 9.16109359e-05,\n",
       "       1.35697369e-04, 7.12210942e-05, 5.04992458e-05, 9.44507891e-06,\n",
       "       7.24793835e-05, 1.34180313e-04, 1.01991042e-04, 8.99159635e-06,\n",
       "       1.78785988e-04, 4.91221373e-05, 1.37395361e-05, 1.81258869e-04,\n",
       "       1.24058478e-04, 4.93674499e-05, 9.83787505e-05, 1.66818332e-04,\n",
       "       3.47963034e-04, 7.39915944e-05, 5.91903033e-05, 3.57220636e-05,\n",
       "       1.44301700e-04, 4.53886039e-05, 1.26931264e-04, 5.92473566e-05,\n",
       "       1.27723869e-05, 2.33379984e-04, 6.86762128e-06, 3.17778057e-04,\n",
       "       1.53478562e-05, 2.23517747e-04, 1.78465089e-05, 7.29124374e-06,\n",
       "       1.19658815e-05, 6.16878139e-05, 6.49283486e-04, 9.55647808e-05,\n",
       "       1.95451084e-05, 5.34214673e-06, 7.53872280e-05, 1.00271840e-05,\n",
       "       1.01787833e-04, 8.11898721e-06, 6.51411629e-05, 7.09118862e-05,\n",
       "       1.34104011e-04, 2.39890860e-04, 2.62871114e-05, 3.52922363e-05,\n",
       "       2.56859257e-04, 1.04466467e-04, 1.72984475e-04, 2.04346107e-04,\n",
       "       7.15200167e-05, 4.77267228e-05, 5.50199362e-05, 4.01394916e-04,\n",
       "       8.92547969e-05, 1.13652609e-05, 2.66026200e-05, 9.85713875e-05,\n",
       "       4.13043682e-05, 1.73093088e-05, 5.30638098e-06, 6.87085673e-05,\n",
       "       2.15245492e-05, 2.73205020e-05, 7.38420269e-06, 9.28806978e-05,\n",
       "       2.09857352e-05, 8.87667846e-05, 3.08970424e-05, 4.39545324e-06,\n",
       "       1.96550170e-04, 1.10031333e-04, 6.58651377e-05, 6.93093262e-06,\n",
       "       1.77034146e-05, 1.75474191e-04, 2.27048919e-04, 6.30314814e-05,\n",
       "       1.88300684e-05, 2.00690432e-04, 6.98610193e-05, 7.52211762e-05,\n",
       "       1.95190303e-04, 1.34690113e-04, 1.98756119e-05, 9.80821329e-05,\n",
       "       2.81837853e-05, 1.32444020e-04, 8.79317278e-04, 4.68734555e-04,\n",
       "       7.47034031e-05, 7.99455059e-05, 1.15239182e-04, 6.22061902e-05,\n",
       "       1.82576150e-04, 1.11395215e-04, 1.78031932e-04, 1.70069025e-04,\n",
       "       2.53536887e-04, 4.88463606e-05, 1.37821892e-05, 8.76030015e-05,\n",
       "       3.96993468e-05, 1.05364460e-05, 8.94526635e-06, 1.24399140e-04,\n",
       "       5.47382285e-05, 9.07669793e-05, 1.56088048e-04, 1.56769537e-04,\n",
       "       1.78896962e-05, 1.02568867e-05, 4.16090831e-05, 5.78137142e-04,\n",
       "       4.39371359e-05, 2.31735269e-05, 6.90175371e-05, 2.05563960e-04,\n",
       "       2.28869526e-04, 5.38481572e-05, 8.94081963e-05, 1.32769265e-04,\n",
       "       6.61347778e-05, 5.29603613e-05, 2.13631442e-04, 1.49584665e-05,\n",
       "       3.49209116e-04, 2.19368038e-05, 2.01324590e-05, 1.65128093e-04,\n",
       "       5.76147048e-05, 7.44943488e-05, 1.82586723e-04, 1.13741581e-04,\n",
       "       9.29909718e-05, 1.37191639e-04, 2.42578982e-05, 2.10854150e-06,\n",
       "       1.79065699e-05, 7.96334655e-05, 1.14734519e-04, 2.22950706e-05,\n",
       "       1.93183870e-04, 2.62697554e-05, 2.99589055e-04, 2.11366796e-04,\n",
       "       4.93422201e-04, 1.84841287e-04, 2.01991178e-05, 8.96874128e-05,\n",
       "       2.38841574e-05, 1.53758031e-04, 4.03515122e-05, 2.85675424e-04,\n",
       "       1.45231536e-04, 1.47256844e-04, 1.64914642e-05, 7.16666838e-05,\n",
       "       9.60573626e-05, 4.19851661e-06, 3.05971678e-05, 8.65591442e-05,\n",
       "       6.11695703e-05, 7.38903375e-05, 1.97287625e-05, 1.41091871e-05,\n",
       "       1.66945233e-05, 4.87779261e-04, 1.70180493e-04, 6.45917539e-05,\n",
       "       9.26802559e-05, 1.30836835e-04, 1.28766525e-05, 3.79608129e-05,\n",
       "       5.57098075e-06, 2.51228693e-05, 6.86986708e-04, 6.78611026e-05,\n",
       "       7.02908086e-05, 8.42674585e-05, 6.02857877e-06, 3.65304546e-05,\n",
       "       3.34249865e-05, 2.76977410e-05, 1.65769634e-04, 1.86010185e-04,\n",
       "       5.00723211e-05, 2.68754325e-04, 5.33490529e-05, 8.92408867e-05,\n",
       "       8.09365889e-05, 1.44614673e-04, 4.56690512e-05, 5.28625940e-05,\n",
       "       4.56544078e-05, 5.54598394e-06, 9.61296622e-06, 3.40170760e-04,\n",
       "       2.24312814e-05, 2.36332823e-04, 2.03232991e-05, 1.73639071e-04,\n",
       "       5.60133173e-05, 1.07692810e-04, 1.93334452e-05, 3.40136111e-05,\n",
       "       1.78113078e-05, 3.16951880e-04, 8.14785145e-05, 2.46779317e-05,\n",
       "       6.40218423e-05, 1.13319017e-05, 1.43266483e-04, 2.20992822e-05,\n",
       "       2.40700700e-04, 5.32448504e-05, 2.89120045e-04, 6.45873885e-05,\n",
       "       1.17253201e-04, 1.19678574e-04, 4.22409799e-05, 1.10536052e-04,\n",
       "       2.16460433e-05, 1.31101586e-05, 7.12961498e-05, 9.83601509e-05,\n",
       "       7.83948620e-05, 2.11575924e-05, 1.22900740e-04, 2.38937022e-04,\n",
       "       2.05993060e-05, 1.24841517e-05, 4.44179663e-05, 1.20117906e-05,\n",
       "       9.99693062e-06, 1.97123835e-04, 1.90182735e-04, 1.74817965e-04,\n",
       "       1.24232047e-05, 1.57673428e-04, 1.56981187e-05, 9.28917088e-05,\n",
       "       6.32361740e-06, 4.01683295e-05, 1.25484285e-04, 2.80801229e-05,\n",
       "       1.06785030e-05, 5.36650254e-05, 3.74826994e-05, 2.00441985e-05,\n",
       "       9.50396264e-05, 3.50038960e-05, 1.07966682e-04, 1.27173709e-05,\n",
       "       1.06269790e-04, 4.46857171e-05, 3.30584133e-05, 2.02319639e-05,\n",
       "       4.32232534e-05, 3.00717263e-05, 6.69503578e-05, 2.98382826e-05,\n",
       "       4.52260801e-05, 1.32968043e-04, 1.37054060e-04, 1.78045510e-04,\n",
       "       5.81546821e-05, 7.09405347e-05, 6.00966710e-05, 4.75360281e-05,\n",
       "       5.87156710e-05, 1.14616378e-04, 6.01247192e-05, 5.10859186e-05,\n",
       "       2.20853016e-04, 2.69441676e-05, 4.93034242e-05, 2.56913114e-04,\n",
       "       4.74529920e-05, 7.07051865e-05, 2.58947731e-04, 1.43862324e-05,\n",
       "       2.51185703e-05, 5.51890290e-05, 1.45461363e-05, 2.33231402e-04,\n",
       "       2.97022065e-05, 3.42842572e-05, 7.13181003e-05, 8.36320309e-06,\n",
       "       5.87578368e-06, 9.74458201e-05, 1.77673238e-04, 4.53608718e-05,\n",
       "       2.35699231e-04, 5.46008964e-06, 1.19441893e-04, 2.93595862e-04,\n",
       "       1.66301225e-05, 5.49730484e-06, 6.94215870e-05, 2.10781433e-04,\n",
       "       1.38800690e-04, 8.96773970e-05, 4.14976546e-05, 1.03509447e-04,\n",
       "       2.09046370e-04, 1.61460503e-04, 2.19825446e-05, 2.69835656e-04,\n",
       "       5.43861878e-05, 4.35810185e-04, 3.87744709e-05, 7.12097458e-06,\n",
       "       1.48599165e-04, 2.20788857e-05, 8.84622563e-05, 4.86479110e-05,\n",
       "       1.61189179e-05, 6.41394927e-05, 6.56025077e-06, 2.35158293e-04,\n",
       "       7.88810822e-04, 3.90787197e-04, 2.67942413e-05, 2.36416888e-05,\n",
       "       4.95196195e-04, 2.84494923e-05, 9.88420861e-05, 7.20312258e-05,\n",
       "       4.51105394e-05, 6.75322942e-05, 1.16559325e-04, 5.35022891e-05,\n",
       "       6.00814969e-06, 2.21167389e-05, 2.17876441e-04, 3.29929930e-05,\n",
       "       2.83366052e-05, 5.73384952e-05, 4.08702706e-05, 3.42347522e-05,\n",
       "       7.55088468e-05, 5.08314685e-05, 6.23242871e-06, 1.58665488e-04,\n",
       "       3.77035185e-05, 1.03691409e-04, 2.00300323e-04, 6.56846131e-05,\n",
       "       2.85856635e-05, 4.09729511e-06, 1.46105456e-04, 5.85698616e-05,\n",
       "       2.31365554e-05, 2.58886139e-05, 7.76874890e-05, 1.68695682e-04,\n",
       "       1.70314960e-04, 2.37713235e-05, 6.32734510e-05, 1.57016175e-04,\n",
       "       1.09827786e-04, 8.77260330e-05, 5.08468566e-05, 1.61591992e-04,\n",
       "       1.11313238e-04, 4.02381882e-05, 1.55619867e-05, 1.95150982e-05,\n",
       "       4.61301908e-05, 6.86885695e-06, 1.60425551e-04, 8.95705158e-05,\n",
       "       2.52342646e-05, 3.95629547e-05, 3.68027310e-04, 1.19136259e-04,\n",
       "       1.27899250e-05, 3.79660300e-05, 1.03461975e-05, 8.75437070e-05,\n",
       "       7.87599651e-06, 5.62720101e-05, 1.05660574e-04, 6.45756516e-05,\n",
       "       6.04944027e-05, 2.66480238e-04, 1.07873531e-04, 4.10597223e-05,\n",
       "       1.60886018e-04, 2.26882273e-05, 1.06099183e-04, 5.21625329e-05,\n",
       "       6.98134239e-05, 1.88714071e-04, 1.87004439e-04, 8.61887028e-05,\n",
       "       3.57424922e-05, 1.37952658e-04, 1.30178545e-04, 1.44317749e-04,\n",
       "       5.01187563e-05, 3.85864608e-05, 8.59056433e-05, 3.61723789e-04,\n",
       "       3.55540164e-04, 1.60745752e-04, 3.01152771e-05, 1.79420884e-05,\n",
       "       2.40514780e-05, 6.14917214e-05, 3.09939896e-05, 8.57988899e-05,\n",
       "       7.01633109e-05, 2.64779529e-04, 5.00623427e-05, 4.12722699e-05,\n",
       "       1.87925690e-04, 1.49244812e-04, 2.51240701e-05, 7.35864930e-05,\n",
       "       7.00604276e-04, 2.26984520e-05, 8.22976277e-05, 7.44394455e-05,\n",
       "       2.23302177e-05, 8.75342376e-05, 4.98402760e-05, 3.66989624e-04,\n",
       "       5.62350168e-05, 8.88989839e-05, 1.33977914e-05, 2.88810588e-05,\n",
       "       3.25363356e-05, 9.15986800e-06, 5.11503577e-06, 1.32946812e-04,\n",
       "       2.89799495e-04, 1.24357407e-04, 1.49992919e-04, 8.11900200e-05,\n",
       "       2.47432142e-05, 2.50588779e-04, 2.24154839e-04, 3.00371767e-05,\n",
       "       2.41612093e-05, 7.99575271e-05, 4.83988890e-05, 3.28285678e-04,\n",
       "       6.80605954e-05, 4.59193888e-04, 1.60054692e-05, 1.89776746e-04,\n",
       "       2.13837050e-04, 1.04833720e-03, 4.00564343e-05, 3.71525661e-05,\n",
       "       1.95840882e-04, 3.50798502e-04, 1.33967701e-04, 4.72526477e-05,\n",
       "       1.13921395e-04, 9.75423440e-05, 4.98068743e-05, 2.23266153e-05,\n",
       "       3.82306271e-05, 3.04776941e-04, 1.55861698e-04, 6.15077244e-05,\n",
       "       2.25913427e-04, 2.75907481e-04, 4.38937608e-04, 2.22239666e-04,\n",
       "       1.57482956e-05, 3.21554199e-05, 5.07685662e-05, 8.44530097e-05,\n",
       "       3.63291483e-05, 5.42429943e-05, 9.85346702e-05, 1.59268631e-04,\n",
       "       1.20428200e-04, 2.68138292e-05, 1.14722752e-04, 1.21903019e-04,\n",
       "       3.35826746e-05, 3.67828403e-05, 7.04431424e-05, 1.71273220e-04,\n",
       "       5.94508253e-05, 7.16781807e-05, 2.23849395e-04, 2.97908434e-05,\n",
       "       3.12948056e-05, 2.59949812e-04, 3.71715114e-05, 2.49607388e-05,\n",
       "       3.93984842e-05, 5.23466078e-05, 6.59107063e-05, 1.37345924e-05,\n",
       "       3.10245965e-05, 5.71959413e-05, 1.26273443e-04, 1.15473830e-04,\n",
       "       7.97014110e-04, 1.88622586e-04, 7.79544661e-06, 1.55499777e-04,\n",
       "       7.48936176e-05, 5.04376454e-05, 1.34146811e-05, 2.16260917e-04,\n",
       "       3.23460175e-05, 6.29731460e-05, 1.57081088e-05, 5.49244182e-05,\n",
       "       4.61841477e-05, 1.11969419e-04, 9.30986774e-05, 3.84091577e-04,\n",
       "       1.24151892e-05, 8.34616170e-05, 1.80062921e-05, 1.99588108e-05,\n",
       "       5.09805647e-05, 1.11830100e-04, 5.73287824e-04, 8.98252394e-05,\n",
       "       3.38529365e-04, 1.99081834e-05, 7.03880558e-05, 5.64995999e-05,\n",
       "       7.59593838e-05, 2.12087146e-04, 1.67396521e-04, 2.08119527e-05,\n",
       "       2.84933846e-05, 1.17248820e-04, 1.69947325e-04, 8.45677973e-05,\n",
       "       3.83952671e-05, 1.31546848e-04, 1.77797691e-04, 2.83142155e-04,\n",
       "       2.47442347e-04, 9.28509217e-05, 5.01055501e-05, 7.67262928e-05,\n",
       "       1.91594476e-04, 9.25941254e-05, 2.42437330e-05, 3.23885974e-05,\n",
       "       9.92129614e-05, 3.24828704e-05, 8.22890472e-06, 5.30291633e-05,\n",
       "       4.04648378e-04, 4.30342217e-05, 4.99923535e-05, 2.13810530e-04,\n",
       "       4.25564298e-05, 1.42258514e-04, 1.14574542e-04, 1.16511309e-04,\n",
       "       1.01255356e-04, 9.42892896e-06, 4.83285460e-05, 1.79164779e-04,\n",
       "       2.00382034e-04, 3.54977804e-05, 3.29417207e-05, 2.57456097e-04,\n",
       "       1.18730071e-05, 1.69488143e-04, 4.74196475e-05, 3.09952094e-04,\n",
       "       3.93359165e-05, 3.96986725e-05, 2.91821358e-05, 1.79350453e-04,\n",
       "       1.19100871e-05, 3.70532214e-06, 3.20109904e-05, 4.15689340e-05,\n",
       "       5.39510915e-05, 4.81527496e-05, 4.33875266e-05, 1.78897932e-05,\n",
       "       1.18008457e-05, 1.65922420e-04, 1.57790136e-04, 3.84417788e-05,\n",
       "       2.37286017e-04, 4.72974138e-05, 1.10728759e-04, 3.15641802e-05,\n",
       "       1.40327824e-04, 4.23522164e-04, 4.70176875e-05, 3.31625815e-05,\n",
       "       8.59647484e-05, 3.87743231e-05, 2.83417452e-04, 5.24237950e-05,\n",
       "       1.22934907e-04, 3.87945944e-05, 1.90270844e-04, 2.00965873e-04,\n",
       "       4.41088855e-04, 6.49918366e-05, 2.54222310e-05, 9.48439675e-05,\n",
       "       1.64629305e-04, 9.02813866e-06, 4.11084381e-05, 8.69211985e-05,\n",
       "       2.50676177e-04, 3.57543425e-05, 1.56618104e-04, 3.73657076e-04,\n",
       "       2.06634384e-04, 1.11470974e-04, 3.49539304e-05, 1.90305108e-04,\n",
       "       6.64318881e-05, 1.38064876e-04, 2.26568697e-05, 3.33879198e-05,\n",
       "       1.30208506e-05, 6.12804984e-05, 4.05550679e-04, 6.06524152e-05,\n",
       "       3.69729281e-05, 1.95736162e-04, 3.90180796e-05, 7.29095437e-06,\n",
       "       5.33005980e-05, 3.63326033e-05, 8.75824343e-05, 2.61336606e-04,\n",
       "       1.76488199e-04, 1.55097312e-04, 2.20466120e-05, 1.53607443e-04,\n",
       "       2.19248178e-04, 1.35364878e-04, 2.61330680e-06, 7.35902006e-05,\n",
       "       2.65388309e-04, 9.58553512e-05, 2.69944382e-05, 4.71807552e-05,\n",
       "       1.44812802e-04, 3.08720255e-05, 1.92571330e-05, 1.46165215e-04,\n",
       "       4.41005877e-05, 5.52753022e-05, 3.73128202e-04, 2.94449159e-05])"
      ]
     },
     "execution_count": 45,
     "metadata": {},
     "output_type": "execute_result"
    }
   ],
   "source": [
    "shortlist[\"Subhalo Stellar Masses\"][1]"
   ]
  },
  {
   "cell_type": "code",
   "execution_count": 28,
   "metadata": {},
   "outputs": [
    {
     "data": {
      "text/plain": [
       "-0.006564351513038287"
      ]
     },
     "execution_count": 28,
     "metadata": {},
     "output_type": "execute_result"
    }
   ],
   "source": [
    "shortlist[\"Subhalo Stellar Masses\"][0,10]"
   ]
  },
  {
   "cell_type": "code",
   "execution_count": null,
   "metadata": {},
   "outputs": [],
   "source": []
  },
  {
   "cell_type": "code",
   "execution_count": 32,
   "metadata": {},
   "outputs": [
    {
     "data": {
      "text/plain": [
       "9.107498915666389"
      ]
     },
     "execution_count": 32,
     "metadata": {},
     "output_type": "execute_result"
    }
   ],
   "source": [
    "shortlist[\"Subhalo Mass\"][0]"
   ]
  },
  {
   "cell_type": "code",
   "execution_count": 22,
   "metadata": {},
   "outputs": [
    {
     "data": {
      "text/plain": [
       "array([-6.56435151e-03,  1.57598270e-05])"
      ]
     },
     "execution_count": 22,
     "metadata": {},
     "output_type": "execute_result"
    }
   ],
   "source": [
    "shortlist[\"Subhalo Stellar Masses\"][:,10]"
   ]
  },
  {
   "cell_type": "code",
   "execution_count": null,
   "metadata": {},
   "outputs": [],
   "source": [
    "mask = subhalo_dict['Group ID'] == groupNum\n",
    "numPassingSubs = len(subhalo_dict['Nsubs'][mask])"
   ]
  },
  {
   "cell_type": "code",
   "execution_count": 11,
   "metadata": {},
   "outputs": [],
   "source": [
    "snapshot = 95\n",
    "sim = \"TNG\"\n",
    "num_reals = 3"
   ]
  },
  {
   "cell_type": "code",
   "execution_count": 12,
   "metadata": {},
   "outputs": [],
   "source": [
    "## find subhalos for this simulation and snapshot #\n",
    "subhalo_path = f\"{sim}_{snapshot}.hdf5\"\n",
    "subhalo_data = h5py.File(f\"{paths.path_subhalos}{subhalo_path}\", \"r\")\n",
    "\n",
    "savepath = f\"{sim}_{snapshot}_ebug.hdf5\"\n",
    "f = h5py.File(f\"{paths.path_pairs}{savepath}\", 'w')\n",
    "\n",
    "redshift = subhalo_data[\"Header\"].attrs[\"Redshift\"]\n",
    "scale = 1 / (1 + redshift)\n",
    "\n",
    "units_dict = {\n",
    "    \"Group ID\":\"Group Number in Subfind Catalogs\", \n",
    "    \"Group Mass\":\"Physical mass from Group_M_TopHat200 -- 1e10 Msun\",\n",
    "    \"Group Radius\":\"Physical radius from Group_R_TopHat200 -- kpc\",\n",
    "    \"Group Nsubs\":\"Number of subhalos in group\",\n",
    "    \"Sub1 ID\":  \"Subhalo ID at current snapshot\",\n",
    "    \"Sub2 ID\":  \"Subhalo ID at current snapshot\",\n",
    "    \"Sub1 Mass\": \"Subhalo mass at current snapshot -- 1e10 Msun\",\n",
    "    \"Sub2 Mass\": \"Subhalo mass at current snapshot -- 1e10 Msun\",\n",
    "    \"Sub1 Stellar Mass\": \"Stellar masses from abundance matching -- 1e10 Msun\",\n",
    "    \"Sub2 Stellar Mass\": \"Stellar masses from abundance matching -- 1e10 Msun\",\n",
    "    \"Sub1 Pos\": \"Subhalo physical position in box x,y,z -- kpc\",\n",
    "    \"Sub2 Pos\": \"Subhalo physical position in box x,y,z -- kpc\",\n",
    "    \"Sub1 Vel\": \"Subhalo velocity in vx, vy, vz -- km/s\",\n",
    "    \"Sub2 Vel\": \"Subhalo velocity in vx, vy, vz -- km/s\",\n",
    "    \"Separation\": \"Physical separation between primary and secondary in kpc\",\n",
    "    \"RelVel\": \"Relative velocity between primary and secondary in km/s\",\n",
    "    \"Stellar Mass Ratio\": \"Stellar mass ratio of secondary over primary\", # in this case- it's by primary subhalo mass\n",
    "    \"Realization\": \"Stellar mass realization (0-1000)\" }\n",
    "\n",
    "#create header with simulation info\n",
    "header_dict = {\"Snapshot\":snapshot,\n",
    "        \"Redshift\":redshift,\n",
    "        \"Simulation\":sim}\n",
    "\n",
    "dset = f.create_group('/Header')\n",
    "for key in header_dict.keys():\n",
    "    dset.attrs[key] = header_dict[key]\n",
    "\n",
    "f.close()\n"
   ]
  },
  {
   "cell_type": "code",
   "execution_count": 13,
   "metadata": {},
   "outputs": [
    {
     "name": "stdout",
     "output_type": "stream",
     "text": [
      "going to try and save dwarf dark\n",
      "successfully wrote dwarf dark to TNG_95_ebug.hdf5\n",
      "going to try and save massive dark\n",
      "successfully wrote massive dark to TNG_95_ebug.hdf5\n",
      "going to try and save dwarf hydro\n",
      "successfully wrote dwarf hydro to TNG_95_ebug.hdf5\n",
      "going to try and save massive hydro\n",
      "successfully wrote massive hydro to TNG_95_ebug.hdf5\n"
     ]
    }
   ],
   "source": [
    "for phys in [\"dark\",\"hydro\"]:\n",
    "    try: \n",
    "        subhalo_data[phys]\n",
    "\n",
    "    except KeyError:\n",
    "        print(f\"{phys} does not exist in this file: {subhalo_path}\")\n",
    "        break\n",
    "\n",
    "    ## need to find pairs for dwarfs and massive\n",
    "    for size in [\"dwarf\",\"massive\"]:\n",
    "        subhalo_dict = {}\n",
    "        pair_data = {}\n",
    "        pair_data = {\"Group ID\": [],\n",
    "                     \"Group Mass\": [],\n",
    "                     \"Group Radius\": [],\n",
    "                     \"Group Nsubs\": [],\n",
    "                     \"Sub1 ID\": [],\n",
    "                     \"Sub2 ID\": [],\n",
    "                     \"Sub1 Mass\": [],\n",
    "                     \"Sub2 Mass\": [],\n",
    "                     \"Sub1 Stellar Mass\": [],\n",
    "                     \"Sub2 Stellar Mass\": [],\n",
    "                     \"Sub1 Pos\": [],\n",
    "                     \"Sub2 Pos\": [],\n",
    "                     \"Sub1 Vel\": [],\n",
    "                     \"Sub2 Vel\": [],\n",
    "                     \"Separation\": [],\n",
    "                     \"RelVel\": [],\n",
    "                     \"Stellar Mass Ratio\": [],\n",
    "                     \"Realization\": []}\n",
    "\n",
    "        ## create dictionary of subhalo info\n",
    "        for key,val in subhalo_data[phys][size].items():\n",
    "            subhalo_dict[key] = np.array(val)\n",
    "                \n",
    "        uniqueGroups = np.unique(subhalo_dict['Group ID'])\n",
    "        \n",
    "        for groupNum in uniqueGroups:\n",
    "            mask = subhalo_dict['Group ID'] == groupNum\n",
    "            numPassingSubs = len(subhalo_dict['Nsubs'][mask])\n",
    "\n",
    "            if numPassingSubs >=2:\n",
    "                ### likely where i have to include the other realizations\n",
    "                realNumbs = np.arange(-1,num_reals+1,1)\n",
    "                \n",
    "                for realization in realNumbs:\n",
    "                    groupmass = subhalo_dict['Group Mass'][mask][0]\n",
    "                    groupradius = subhalo_dict['Group Radius'][mask][0]\n",
    "\n",
    "                    shortlist = {} # dictionary  of subhalos in group\n",
    "                    for key, val in subhalo_dict.items():\n",
    "                        shortlist[key] = np.array(val[mask])\n",
    "                        \n",
    "                    if realization == -1:\n",
    "                        meds = shortlist[\"Subhalo Med Stellar Mass\"]\n",
    "                        primary_loc = np.where(meds==np.max(meds))\n",
    "                        \n",
    "                        meds_sansmax = np.where(meds==np.max(meds), 0, meds)\n",
    "                        secondary_loc = np.where(meds==np.max(meds_sansmax))\n",
    "                        \n",
    "                        stel1 = shortlist['Subhalo Med Stellar Mass'][primary_loc][0]\n",
    "                        stel2 =  shortlist['Subhalo Med Stellar Mass'][secondary_loc][0]\n",
    "                        \n",
    "                    else:\n",
    "                        stells = shortlist[\"Subhalo Stellar Masses\"][:,realization]\n",
    "                        primary_loc = np.where(stells==np.max(stells))\n",
    "\n",
    "                        stells_sansmax = np.where(stells==np.max(stells), 0, stells)\n",
    "                        secondary_loc = np.where(stells==np.max(stells_sansmax))\n",
    "\n",
    "                        stel1 = shortlist['Subhalo Stellar Masses'][primary_loc][0][realization]\n",
    "                        stel2 =  shortlist['Subhalo Stellar Masses'][secondary_loc][0][realization]\n",
    "\n",
    "                    id1 = shortlist['Subhalo ID'][primary_loc][0]\n",
    "                    id2 = shortlist['Subhalo ID'][secondary_loc][0]\n",
    "                    mass1 = shortlist['Subhalo Mass'][primary_loc][0]\n",
    "                    mass2 = shortlist['Subhalo Mass'][secondary_loc][0]\n",
    "                    pos1 = shortlist['Subhalo Pos'][primary_loc][0]\n",
    "                    pos2 = shortlist['Subhalo Pos'][secondary_loc][0]\n",
    "                    vel1 = shortlist['Subhalo Vel'][primary_loc][0]\n",
    "                    vel2 = shortlist['Subhalo Vel'][secondary_loc][0]\n",
    "\n",
    "                    # note: box size is physical units!\n",
    "                    if sim == \"Illustris\":\n",
    "                        boxsize = 106.5 # in Mpc!\n",
    "                    elif sim == \"TNG\":\n",
    "                        boxsize = 110.7 # in Mpc!\n",
    "\n",
    "                    sep = np.linalg.norm( np.array(vector(pos1,pos2,boxsize*1000) ) )\n",
    "                    relvel = np.linalg.norm(vel1-vel2)\n",
    "                    stlrt = stel2/stel1\n",
    "\n",
    "                    pairlist = np.array([groupNum, groupmass, groupradius, numPassingSubs, \n",
    "                                id1, id2, mass1, mass2, stel1, stel2, \n",
    "                                pos1, pos2, vel1, vel2, \n",
    "                                sep, relvel, stlrt, realization])\n",
    "\n",
    "                    for ind, key in enumerate(pair_data.keys()):\n",
    "                        pair_data[key].append(pairlist[ind])\n",
    "        print(f\"going to try and save {size} {phys}\")\n",
    "        \n",
    "        f = h5py.File(f\"{paths.path_pairs}{savepath}\", 'r+')\n",
    "\n",
    "        for key, val in pair_data.items():\n",
    "            val = np.array(val)\n",
    "            dset = f.create_dataset(f'/{phys}/{size}/{key}', \n",
    "                                    shape=val.shape,\n",
    "                                    dtype=val.dtype)\n",
    "            dset.attrs[key] = units_dict[key]\n",
    "            dset[:] = val\n",
    "        f.close()\n",
    "        print(f\"successfully wrote {size} {phys} to {savepath}\")\n"
   ]
  },
  {
   "cell_type": "code",
   "execution_count": 7,
   "metadata": {},
   "outputs": [],
   "source": [
    "f.close()"
   ]
  },
  {
   "cell_type": "code",
   "execution_count": null,
   "metadata": {},
   "outputs": [],
   "source": []
  },
  {
   "cell_type": "code",
   "execution_count": null,
   "metadata": {},
   "outputs": [],
   "source": []
  },
  {
   "cell_type": "code",
   "execution_count": null,
   "metadata": {},
   "outputs": [],
   "source": []
  },
  {
   "cell_type": "code",
   "execution_count": 2,
   "metadata": {},
   "outputs": [],
   "source": [
    "f = h5py.File(\"../data/pairs/Illustris_135_z0-test.hdf5\",'r')\n",
    "g = h5py.File(\"../data/pairs/TNG_99_z0-test.hdf5\",'r')"
   ]
  },
  {
   "cell_type": "code",
   "execution_count": 13,
   "metadata": {},
   "outputs": [
    {
     "data": {
      "text/plain": [
       "231.1534051690334"
      ]
     },
     "execution_count": 13,
     "metadata": {},
     "output_type": "execute_result"
    }
   ],
   "source": [
    "truemean = np.mean((g[phys][size]['Separation']))\n",
    "truemean"
   ]
  },
  {
   "cell_type": "code",
   "execution_count": 15,
   "metadata": {},
   "outputs": [
    {
     "name": "stdout",
     "output_type": "stream",
     "text": [
      "TNG dwarf dark -1 -0.47958899545896827\n",
      "TNG dwarf dark 0 0.19279250013789806\n",
      "TNG dwarf dark 1 0.2463613442148187\n",
      "TNG dwarf dark 2 0.2320211316266807\n",
      "TNG dwarf dark 3 0.11424347641950305\n",
      "TNG dwarf dark 4 -0.21466732840835334\n",
      "Illustris dwarf dark -1 120.35043953850247\n",
      "Illustris dwarf dark 0 120.86433903463491\n",
      "Illustris dwarf dark 1 121.13066678521716\n",
      "Illustris dwarf dark 2 120.76639062963197\n",
      "Illustris dwarf dark 3 120.57243257605043\n",
      "Illustris dwarf dark 4 120.72605320820843\n",
      "TNG dwarf hydro -1 -0.394855153184551\n",
      "TNG dwarf hydro 0 0.1893101665228727\n",
      "TNG dwarf hydro 1 -0.09382321087224454\n",
      "TNG dwarf hydro 2 -0.0619396210606169\n",
      "TNG dwarf hydro 3 -0.017350161358081095\n",
      "TNG dwarf hydro 4 -0.22335881963495297\n",
      "Illustris dwarf hydro -1 131.4238345384829\n",
      "Illustris dwarf hydro 0 131.69409747566516\n",
      "Illustris dwarf hydro 1 131.9606134917928\n",
      "Illustris dwarf hydro 2 131.65299210376986\n",
      "Illustris dwarf hydro 3 131.7266236913628\n",
      "Illustris dwarf hydro 4 132.4097774010324\n",
      "TNG massive dark -1 -1.295858589344249\n",
      "TNG massive dark 0 0.6698920841860172\n",
      "TNG massive dark 1 0.926622022516483\n",
      "TNG massive dark 2 -1.508757998826269\n",
      "TNG massive dark 3 2.0358570534303624\n",
      "TNG massive dark 4 -0.24571878415494552\n",
      "Illustris massive dark -1 231.95468818276922\n",
      "Illustris massive dark 0 232.5839652961036\n",
      "Illustris massive dark 1 233.82580231637414\n",
      "Illustris massive dark 2 231.91653010392645\n",
      "Illustris massive dark 3 231.50089854052692\n",
      "Illustris massive dark 4 231.1396942821636\n",
      "TNG massive hydro -1 -1.6641500893555872\n",
      "TNG massive hydro 0 -1.1408787700723622\n",
      "TNG massive hydro 1 -1.6481298725143745\n",
      "TNG massive hydro 2 1.944587708833268\n",
      "TNG massive hydro 3 2.9667051648698077\n",
      "TNG massive hydro 4 -1.3002033154685648\n",
      "Illustris massive hydro -1 259.06973879811363\n",
      "Illustris massive hydro 0 260.72107294687004\n",
      "Illustris massive hydro 1 259.5158811538098\n",
      "Illustris massive hydro 2 257.9025817482255\n",
      "Illustris massive hydro 3 261.8675770404759\n",
      "Illustris massive hydro 4 260.96967272295586\n"
     ]
    }
   ],
   "source": [
    "for size in [\"dwarf\",\"massive\"]:\n",
    "    for phys in [\"dark\",\"hydro\"]:\n",
    "        for real in np.arange(-1,5):\n",
    "            mask = np.array(g[phys][size]['Stellar Mass Realization']) == real\n",
    "            print(\"TNG\",size, phys, real, np.mean((g[phys][size]['Separation'][mask])))\n",
    "        \n",
    "        for real in np.arange(-1,5):\n",
    "            mask = np.array(f[phys][size]['Stellar Mass Realization']) == real\n",
    "            print(\"Illustris\",size, phys, real, np.mean((f[phys][size]['Separation'][mask])))"
   ]
  },
  {
   "cell_type": "code",
   "execution_count": null,
   "metadata": {},
   "outputs": [],
   "source": [
    "%run ./utils/make_pairs_z0.py 99 \"TNG\" 5"
   ]
  },
  {
   "cell_type": "code",
   "execution_count": null,
   "metadata": {},
   "outputs": [],
   "source": [
    "snapshot = int(99)\n",
    "sim = str(\"TNG\")\n",
    "num_reals = 5"
   ]
  },
  {
   "cell_type": "code",
   "execution_count": null,
   "metadata": {},
   "outputs": [],
   "source": [
    "subhalo_data"
   ]
  },
  {
   "cell_type": "code",
   "execution_count": null,
   "metadata": {},
   "outputs": [],
   "source": [
    "## find subhalos for this simulation and snapshot #\n",
    "subhalo_path = f\"{sim}_{snapshot}.hdf5\"\n",
    "subhalo_data = h5py.File(f\"{paths.path_subhalos}{subhalo_path}\", \"r\")\n",
    "\n",
    "savepath = f\"{sim}_{snapshot}_1pair_medstel.hdf5\"\n",
    "\n",
    "redshift = subhalo_data[\"Header\"].attrs[\"Redshift\"]\n",
    "scale = 1 / (1 + redshift)\n",
    "\n",
    "units_dict = {\n",
    "    \"Group ID\":\"Group Number in Subfind Catalogs\", \n",
    "    \"Group Mass\":\"Physical mass from Group_M_TopHat200 -- 1e10 Msun\",\n",
    "    \"Group Radius\":\"Physical radius from Group_R_TopHat200 -- kpc\",\n",
    "    \"Group Nsubs\":\"Number of subhalos in group\",\n",
    "    \"Sub1 ID\":  \"Subhalo ID at current snapshot\",\n",
    "    \"Sub2 ID\":  \"Subhalo ID at current snapshot\",\n",
    "    \"Sub1 Mass\": \"Subhalo mass at current snapshot -- 1e10 Msun\",\n",
    "    \"Sub2 Mass\": \"Subhalo mass at current snapshot -- 1e10 Msun\",\n",
    "    \"Sub1 Stellar Mass\": \"Stellar masses from abundance matching -- 1e10 Msun\",\n",
    "    \"Sub2 Stellar Mass\": \"Stellar masses from abundance matching -- 1e10 Msun\",\n",
    "    \"Sub1 Pos\": \"Subhalo physical position in box x,y,z -- kpc\",\n",
    "    \"Sub2 Pos\": \"Subhalo physical position in box x,y,z -- kpc\",\n",
    "    \"Sub1 Vel\": \"Subhalo velocity in vx, vy, vz -- km/s\",\n",
    "    \"Sub2 Vel\": \"Subhalo velocity in vx, vy, vz -- km/s\",\n",
    "    \"Separation\": \"Physical separation between primary and secondary in kpc\",\n",
    "    \"RelVel\": \"Relative velocity between primary and secondary in km/s\",\n",
    "    \"Stellar Mass Ratio\": \"Stellar mass ratio of secondary over primary\", # in this case- it's by primary subhalo mass\n",
    "    \"Stellar Mass Realization\": \"Stellar mass realization (0-1000)\" }\n",
    "\n",
    "pair_data = {}"
   ]
  },
  {
   "cell_type": "code",
   "execution_count": null,
   "metadata": {},
   "outputs": [],
   "source": [
    "np.unique(np.array(subhalo_data[\"hydro\"][\"dwarf\"][\"Group ID\"]))"
   ]
  },
  {
   "cell_type": "code",
   "execution_count": null,
   "metadata": {},
   "outputs": [],
   "source": [
    "grp = 1245"
   ]
  },
  {
   "cell_type": "code",
   "execution_count": null,
   "metadata": {},
   "outputs": [],
   "source": [
    "grp"
   ]
  },
  {
   "cell_type": "code",
   "execution_count": null,
   "metadata": {},
   "outputs": [],
   "source": [
    "np.unique(np.array(subhalo_data[\"dark\"][\"dwarf\"][\"Group ID\"]))"
   ]
  },
  {
   "cell_type": "code",
   "execution_count": null,
   "metadata": {},
   "outputs": [],
   "source": [
    "## ensure that the dark and/or hydro file exists before operating\n",
    "phys = \"hydro\"\n",
    "size = \"dwarf\"\n",
    "\n",
    "pair_data[phys] = {}\n",
    "\n",
    "subhalo_dict = {}\n",
    "pair_data[phys][size] = {\"Group ID\": [],\n",
    "                         \"Group Mass\": [],\n",
    "                         \"Group Radius\": [],\n",
    "                         \"Group Nsubs\": [],\n",
    "                         \"Sub1 ID\": [],\n",
    "                         \"Sub2 ID\": [],\n",
    "                         \"Sub1 Mass\": [],\n",
    "                         \"Sub2 Mass\": [],\n",
    "                         \"Sub1 Stellar Mass\": [],\n",
    "                         \"Sub2 Stellar Mass\": [],\n",
    "                         \"Sub1 Pos\": [],\n",
    "                         \"Sub2 Pos\": [],\n",
    "                         \"Sub1 Vel\": [],\n",
    "                         \"Sub2 Vel\": [],\n",
    "                         \"Separation\": [],\n",
    "                         \"RelVel\": [],\n",
    "                         \"Stellar Mass Ratio\": [],\n",
    "                         \"Stellar Mass Realization\": []}"
   ]
  },
  {
   "cell_type": "code",
   "execution_count": null,
   "metadata": {},
   "outputs": [],
   "source": [
    "## create dictionary of subhalo info\n",
    "for key,val in subhalo_data[phys][size].items():\n",
    "    subhalo_dict[key] = np.array(val)\n",
    "\n",
    "\n",
    "mask = subhalo_dict['Group ID'] == grp\n",
    "numPassingSubs = len(subhalo_dict['Nsubs'][mask])"
   ]
  },
  {
   "cell_type": "code",
   "execution_count": null,
   "metadata": {},
   "outputs": [],
   "source": [
    "numPassingSubs"
   ]
  },
  {
   "cell_type": "code",
   "execution_count": null,
   "metadata": {},
   "outputs": [],
   "source": [
    "if numPassingSubs >=2:\n",
    "    ### likely where i have to include the other realizations\n",
    "    realNumbs = np.arange(-1,num_reals,1)\n",
    "    \n",
    "    groupmass = subhalo_dict['Group Mass'][mask][0]\n",
    "    groupradius = subhalo_dict['Group Radius'][mask][0]\n",
    "\n",
    "    for realization in realNumbs:\n",
    "\n",
    "        shortlist = {} # dictionary  of subhalos in group\n",
    "        for key, val in subhalo_dict.items():\n",
    "            shortlist[key] = np.array(val[mask])\n",
    "\n",
    "        if realization == -1:\n",
    "            print('completing median step')\n",
    "            meds = shortlist[\"Subhalo Med Stellar Mass\"]\n",
    "            primary_loc = np.where(meds==np.max(meds))\n",
    "\n",
    "            meds_sansmax = np.where(meds==np.max(meds), 0, meds)\n",
    "            secondary_loc = np.where(meds==np.max(meds_sansmax))\n",
    "\n",
    "            stel1 = shortlist['Subhalo Med Stellar Mass'][primary_loc][0]\n",
    "            stel2 =  shortlist['Subhalo Med Stellar Mass'][secondary_loc][0]\n",
    "            print(stel1, stel2)\n",
    "\n",
    "        else:\n",
    "            print(f\"completing real {realization}\")\n",
    "            print(realization)\n",
    "            stells = shortlist[\"Subhalo Stellar Masses\"][:,realization]\n",
    "            primary_loc = np.where(stells==np.max(stells))\n",
    "\n",
    "            stells_sansmax = np.where(stells==np.max(stells), 0, stells)\n",
    "            secondary_loc = np.where(stells==np.max(stells_sansmax))\n",
    "\n",
    "            stel1 = shortlist['Subhalo Stellar Masses'][primary_loc][0][realization]\n",
    "            stel2 =  shortlist['Subhalo Stellar Masses'][secondary_loc][0][realization]\n",
    "            print(f\"finished real {realization}\")\n",
    "            print(stel1,stel2)"
   ]
  },
  {
   "cell_type": "code",
   "execution_count": null,
   "metadata": {},
   "outputs": [],
   "source": [
    "subhalo_data['hydro']['dwarf']['Subhalo Stellar Masses']"
   ]
  },
  {
   "cell_type": "code",
   "execution_count": null,
   "metadata": {},
   "outputs": [],
   "source": [
    "subhalo_data['dark']['dwarf']['Subhalo Stellar Masses']"
   ]
  },
  {
   "cell_type": "code",
   "execution_count": null,
   "metadata": {},
   "outputs": [],
   "source": [
    "subhalo_data['hydro']['massive']['Subhalo Stellar Masses']"
   ]
  },
  {
   "cell_type": "code",
   "execution_count": null,
   "metadata": {},
   "outputs": [],
   "source": [
    "print(sim)\n",
    "print(phys)\n",
    "print(snapshot)"
   ]
  },
  {
   "cell_type": "code",
   "execution_count": null,
   "metadata": {},
   "outputs": [],
   "source": [
    "subhalo_path = f\"{sim}_dark_{snapshot}.hdf5\"\n",
    "\n",
    "fff = h5py.File(f\"{paths.path_am_mass}{subhalo_path}\", \"r\")\n",
    "fff[\"Stellar Masses\"]"
   ]
  },
  {
   "cell_type": "code",
   "execution_count": null,
   "metadata": {},
   "outputs": [],
   "source": [
    "subhalo_path = f\"{sim}_hydro_{snapshot}.hdf5\"\n",
    "\n",
    "fff = h5py.File(f\"{paths.path_am_mass}{subhalo_path}\", \"r\")\n",
    "fff[\"Stellar Masses\"]"
   ]
  },
  {
   "cell_type": "code",
   "execution_count": null,
   "metadata": {},
   "outputs": [],
   "source": []
  },
  {
   "cell_type": "code",
   "execution_count": null,
   "metadata": {},
   "outputs": [],
   "source": [
    "shortlist['Subhalo Stellar Masses'][primary_loc][0][realization]"
   ]
  },
  {
   "cell_type": "code",
   "execution_count": null,
   "metadata": {},
   "outputs": [],
   "source": [
    "stells = shortlist[\"Subhalo Stellar Masses\"][:,realization]\n",
    "stells"
   ]
  },
  {
   "cell_type": "code",
   "execution_count": null,
   "metadata": {},
   "outputs": [],
   "source": [
    "paths = SetupPaths()\n",
    "\n",
    "snaps = {}\n",
    "\n",
    "snaps[\"Illustris\"] = np.arange(0,136,1)\n",
    "snaps[\"TNG\"] = np.arange(0,100)"
   ]
  },
  {
   "cell_type": "markdown",
   "metadata": {},
   "source": [
    "---\n",
    "## Hold up partner\n",
    "the following in works script was to debug the make_1pairs script but turns out there was a bug in the data files for the subhalos, there are more entries for the median stellar mass than the number of subhalos"
   ]
  },
  {
   "cell_type": "code",
   "execution_count": null,
   "metadata": {},
   "outputs": [],
   "source": [
    "key"
   ]
  },
  {
   "cell_type": "code",
   "execution_count": null,
   "metadata": {},
   "outputs": [],
   "source": [
    "val"
   ]
  },
  {
   "cell_type": "code",
   "execution_count": null,
   "metadata": {},
   "outputs": [],
   "source": [
    "run utils/make_1pair.py 135 \"Illustris\""
   ]
  },
  {
   "cell_type": "code",
   "execution_count": null,
   "metadata": {},
   "outputs": [],
   "source": []
  },
  {
   "cell_type": "code",
   "execution_count": null,
   "metadata": {},
   "outputs": [],
   "source": [
    "pair_data['dark']['dwarf'].keys()"
   ]
  },
  {
   "cell_type": "code",
   "execution_count": null,
   "metadata": {},
   "outputs": [],
   "source": [
    "f.close()"
   ]
  },
  {
   "cell_type": "code",
   "execution_count": null,
   "metadata": {},
   "outputs": [],
   "source": [
    "import sys\n",
    "import h5py\n",
    "import numpy as np\n",
    "from utils.get_groups import GetGroups\n",
    "from utils.paths import SetupPaths\n",
    "from vectorCorrection import vectorCorrection as vector\n",
    "\n",
    "# snapshot = int(sys.argv[1])\n",
    "# sim = str(sys.argv[2])\n",
    "snapshot = int(135)\n",
    "sim = str(\"Illustris\")\n",
    "# num_reals = int(sys.argv[4])\n",
    "\n",
    "paths = SetupPaths()\n",
    "\n",
    "## find subhalos for this simulation and snapshot #\n",
    "subhalo_path = f\"{sim}_{snapshot}.hdf5\"\n",
    "subhalo_data = h5py.File(f\"{paths.path_subhalos}{subhalo_path}\", \"r\")\n",
    "\n",
    "savepath = f\"{sim}_{snapshot}_1pair_medstel.hdf5\"\n",
    "f = h5py.File(f\"{paths.path_pairs}{savepath}\", 'w')\n",
    "\n",
    "redshift = subhalo_data[\"Header\"].attrs[\"Redshift\"]\n",
    "scale = 1 / (1 + redshift)\n",
    "\n",
    "units_dict = {\n",
    "    \"Group ID\":\"Group Number in Subfind Catalogs\", \n",
    "    \"Group Mass\":\"Physical mass from Group_M_TopHat200 -- 1e10 Msun\",\n",
    "    \"Group Radius\":\"Physical radius from Group_R_TopHat200 -- kpc\",\n",
    "    \"Group Nsubs\":\"Number of subhalos in group\",\n",
    "    \"Sub1 ID\":  \"Subhalo ID at current snapshot\",\n",
    "    \"Sub2 ID\":  \"Subhalo ID at current snapshot\",\n",
    "    \"Sub1 Mass\": \"Subhalo mass at current snapshot -- 1e10 Msun\",\n",
    "    \"Sub2 Mass\": \"Subhalo mass at current snapshot -- 1e10 Msun\",\n",
    "    \"Sub1 Stellar Mass\": \"Stellar masses from abundance matching -- 1e10 Msun\",\n",
    "    \"Sub2 Stellar Mass\": \"Stellar masses from abundance matching -- 1e10 Msun\",\n",
    "    \"Sub1 Pos\": \"Subhalo physical position in box x,y,z -- kpc\",\n",
    "    \"Sub2 Pos\": \"Subhalo physical position in box x,y,z -- kpc\",\n",
    "    \"Sub1 Vel\": \"Subhalo velocity in vx, vy, vz -- km/s\",\n",
    "    \"Sub2 Vel\": \"Subhalo velocity in vx, vy, vz -- km/s\",\n",
    "    \"Separation\": \"Physical separation between primary and secondary in kpc\",\n",
    "    \"RelVel\": \"Relative velocity between primary and secondary in km/s\",\n",
    "    \"Stellar Mass Ratio\": \"Stellar mass ratio of secondary over primary\", # in this case- it's by primary subhalo mass\n",
    "    \"Stellar Mass Realization\": \"Stellar mass realization (0-1000)\" }\n",
    "\n",
    "pair_data = {}"
   ]
  },
  {
   "cell_type": "code",
   "execution_count": null,
   "metadata": {},
   "outputs": [],
   "source": [
    "f.close()"
   ]
  },
  {
   "cell_type": "code",
   "execution_count": null,
   "metadata": {},
   "outputs": [],
   "source": [
    "## ensure that the dark and/or hydro file exists before operating\n",
    "for phys in [\"dark\",\"hydro\"]:\n",
    "    try: \n",
    "        subhalo_data[phys]\n",
    "\n",
    "    except KeyError:\n",
    "        print(f\"{phys} does not exist in this file: {subhalo_path}\")\n",
    "        break\n",
    "\n",
    "    pair_data[phys] = {}\n",
    "    ## need to find pairs for dwarfs and massive\n",
    "    for size in [\"dwarf\",\"massive\"]:\n",
    "        subhalo_dict = {}\n",
    "        pair_data[phys][size] = {\"Group ID\": [],\n",
    "                                 \"Group Mass\": [],\n",
    "                                 \"Group Radius\": [],\n",
    "                                 \"Group Nsubs\": [],\n",
    "                                 \"Sub1 ID\": [],\n",
    "                                 \"Sub2 ID\": [],\n",
    "                                 \"Sub1 Mass\": [],\n",
    "                                 \"Sub2 Mass\": [],\n",
    "                                 \"Sub1 Stellar Mass\": [],\n",
    "                                 \"Sub2 Stellar Mass\": [],\n",
    "                                 \"Sub1 Pos\": [],\n",
    "                                 \"Sub2 Pos\": [],\n",
    "                                 \"Sub1 Vel\": [],\n",
    "                                 \"Sub2 Vel\": [],\n",
    "                                 \"Separation\": [],\n",
    "                                 \"RelVel\": [],\n",
    "                                 \"Stellar Mass Ratio\": [] }\n",
    "\n",
    "        ## create dictionary of subhalo info\n",
    "        for key,val in subhalo_data[phys][size].items():\n",
    "            subhalo_dict[key] = np.array(val)\n",
    "                \n",
    "        uniqueGroups = np.unique(subhalo_dict['Group ID'])\n",
    "\n",
    "        for groupNum in uniqueGroups:\n",
    "            mask = subhalo_dict['Group ID'] == groupNum\n",
    "            numPassingSubs = len(subhalo_dict['Nsubs'][mask])\n",
    "\n",
    "            if numPassingSubs >=2:\n",
    "                groupmass = subhalo_dict['Group Mass'][mask][0]\n",
    "                groupradius = subhalo_dict['Group Radius'][mask][0]\n",
    "                \n",
    "                shortlist = {} # dictionary  of subhalos in group\n",
    "                for key, val in subhalo_dict.items():\n",
    "                    shortlist[key] = np.array(val[mask])\n",
    "                \n",
    "                # can change these to be by stellar mass instead! \n",
    "                #currently halo mass! \n",
    "                meds = shortlist[\"Subhalo Med Stellar Mass\"]\n",
    "                primary_loc = np.where(meds==np.max(meds))\n",
    "                \n",
    "                meds_sansmax = np.where(meds==np.max(meds), 0, meds)\n",
    "                secondary_loc = np.where(meds==np.max(meds_sansmax))\n",
    "                \n",
    "                print(primary_loc[0][0])\n",
    "                print(secondary_loc[0][0])"
   ]
  },
  {
   "cell_type": "code",
   "execution_count": null,
   "metadata": {},
   "outputs": [],
   "source": []
  }
 ],
 "metadata": {
  "kernelspec": {
   "display_name": "Python 3",
   "language": "python",
   "name": "python3"
  },
  "language_info": {
   "codemirror_mode": {
    "name": "ipython",
    "version": 3
   },
   "file_extension": ".py",
   "mimetype": "text/x-python",
   "name": "python",
   "nbconvert_exporter": "python",
   "pygments_lexer": "ipython3",
   "version": "3.8.13"
  },
  "toc": {
   "base_numbering": 1,
   "nav_menu": {},
   "number_sections": true,
   "sideBar": true,
   "skip_h1_title": false,
   "title_cell": "Table of Contents",
   "title_sidebar": "Contents",
   "toc_cell": false,
   "toc_position": {},
   "toc_section_display": true,
   "toc_window_display": false
  }
 },
 "nbformat": 4,
 "nbformat_minor": 4
}
