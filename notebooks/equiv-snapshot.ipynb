{
 "cells": [
  {
   "cell_type": "code",
   "execution_count": 1,
   "id": "8716aa98",
   "metadata": {},
   "outputs": [],
   "source": [
    "import numpy as np\n",
    "import pandas as pd\n",
    "import h5py"
   ]
  },
  {
   "cell_type": "code",
   "execution_count": 2,
   "id": "bf5a3a37",
   "metadata": {},
   "outputs": [],
   "source": [
    "f = pd.read_csv(\"../data/snapdata/Illustris_snapdata.csv\")\n",
    "g = pd.read_csv(\"../data/snapdata/TNG_snapdata.csv\")"
   ]
  },
  {
   "cell_type": "code",
   "execution_count": 3,
   "id": "55654fe3",
   "metadata": {},
   "outputs": [],
   "source": [
    "reds_ill = f['redshift']\n",
    "reds_tng = g['redshift']"
   ]
  },
  {
   "cell_type": "code",
   "execution_count": 8,
   "id": "670c5950",
   "metadata": {},
   "outputs": [
    {
     "data": {
      "text/html": [
       "<div>\n",
       "<style scoped>\n",
       "    .dataframe tbody tr th:only-of-type {\n",
       "        vertical-align: middle;\n",
       "    }\n",
       "\n",
       "    .dataframe tbody tr th {\n",
       "        vertical-align: top;\n",
       "    }\n",
       "\n",
       "    .dataframe thead th {\n",
       "        text-align: right;\n",
       "    }\n",
       "</style>\n",
       "<table border=\"1\" class=\"dataframe\">\n",
       "  <thead>\n",
       "    <tr style=\"text-align: right;\">\n",
       "      <th></th>\n",
       "      <th>snapshot</th>\n",
       "      <th>redshift</th>\n",
       "      <th>scale</th>\n",
       "    </tr>\n",
       "  </thead>\n",
       "  <tbody>\n",
       "    <tr>\n",
       "      <th>10</th>\n",
       "      <td>10</td>\n",
       "      <td>7.236276</td>\n",
       "      <td>0.121414</td>\n",
       "    </tr>\n",
       "    <tr>\n",
       "      <th>11</th>\n",
       "      <td>11</td>\n",
       "      <td>7.005417</td>\n",
       "      <td>0.124915</td>\n",
       "    </tr>\n",
       "    <tr>\n",
       "      <th>12</th>\n",
       "      <td>12</td>\n",
       "      <td>6.491598</td>\n",
       "      <td>0.133483</td>\n",
       "    </tr>\n",
       "    <tr>\n",
       "      <th>13</th>\n",
       "      <td>13</td>\n",
       "      <td>6.010757</td>\n",
       "      <td>0.142638</td>\n",
       "    </tr>\n",
       "    <tr>\n",
       "      <th>14</th>\n",
       "      <td>14</td>\n",
       "      <td>5.846614</td>\n",
       "      <td>0.146058</td>\n",
       "    </tr>\n",
       "    <tr>\n",
       "      <th>15</th>\n",
       "      <td>15</td>\n",
       "      <td>5.529766</td>\n",
       "      <td>0.153145</td>\n",
       "    </tr>\n",
       "    <tr>\n",
       "      <th>16</th>\n",
       "      <td>16</td>\n",
       "      <td>5.227581</td>\n",
       "      <td>0.160576</td>\n",
       "    </tr>\n",
       "    <tr>\n",
       "      <th>17</th>\n",
       "      <td>17</td>\n",
       "      <td>4.995933</td>\n",
       "      <td>0.166780</td>\n",
       "    </tr>\n",
       "    <tr>\n",
       "      <th>18</th>\n",
       "      <td>18</td>\n",
       "      <td>4.664518</td>\n",
       "      <td>0.176538</td>\n",
       "    </tr>\n",
       "    <tr>\n",
       "      <th>19</th>\n",
       "      <td>19</td>\n",
       "      <td>4.428034</td>\n",
       "      <td>0.184229</td>\n",
       "    </tr>\n",
       "    <tr>\n",
       "      <th>20</th>\n",
       "      <td>20</td>\n",
       "      <td>4.176835</td>\n",
       "      <td>0.193168</td>\n",
       "    </tr>\n",
       "    <tr>\n",
       "      <th>21</th>\n",
       "      <td>21</td>\n",
       "      <td>4.007945</td>\n",
       "      <td>0.199683</td>\n",
       "    </tr>\n",
       "  </tbody>\n",
       "</table>\n",
       "</div>"
      ],
      "text/plain": [
       "    snapshot  redshift     scale\n",
       "10        10  7.236276  0.121414\n",
       "11        11  7.005417  0.124915\n",
       "12        12  6.491598  0.133483\n",
       "13        13  6.010757  0.142638\n",
       "14        14  5.846614  0.146058\n",
       "15        15  5.529766  0.153145\n",
       "16        16  5.227581  0.160576\n",
       "17        17  4.995933  0.166780\n",
       "18        18  4.664518  0.176538\n",
       "19        19  4.428034  0.184229\n",
       "20        20  4.176835  0.193168\n",
       "21        21  4.007945  0.199683"
      ]
     },
     "execution_count": 8,
     "metadata": {},
     "output_type": "execute_result"
    }
   ],
   "source": [
    "g[10:22]"
   ]
  },
  {
   "cell_type": "code",
   "execution_count": 4,
   "id": "3e47862f",
   "metadata": {},
   "outputs": [],
   "source": [
    "fi = h5py.File(\"../data/snapdata/snapdata.hdf5\",'w')\n",
    "\n",
    "ill_snap, ill_red, ill_scale, tng_snap, tng_red, tng_scale = [], [], [], [], [], []\n",
    "\n",
    "for i in range(len(reds_tng)):\n",
    "    tng_snap.append(g['snapshot'][i])\n",
    "    tng_red.append(g['redshift'][i])\n",
    "    tng_scale.append(g['scale'][i])\n",
    "    \n",
    "    location = np.argmin(np.abs( reds_ill-reds_tng[i] ))\n",
    "    \n",
    "    ill_snap.append(f['snapshot'][location])\n",
    "    ill_red.append(f['redshift'][location])\n",
    "    ill_scale.append(f['scale'][location])\n",
    "    \n",
    "cols = [ \"TNG snapshot\", \"TNG redshift\", \"TNG scale\", \"Illustris snapshot\", \"Illustris redshift\", \"Illustris scale\"]\n",
    "data = [tng_snap, tng_red, tng_scale, ill_snap, ill_red, ill_scale]\n",
    "\n",
    "\n",
    "for i in range(len(cols)):\n",
    "    dats = data[i]\n",
    "    dset = fi.create_dataset(f'TNG/{cols[i]}', \n",
    "                            shape=np.array(dats).shape,\n",
    "                            dtype=np.array(dats).dtype)\n",
    "    dset[:] = dats\n",
    "    \n",
    "    \n",
    "ill_snap, ill_red, ill_scale, tng_snap, tng_red, tng_scale = [], [], [], [], [], []\n",
    "\n",
    "for i in range(len(reds_ill)):\n",
    "    ill_snap.append(f['snapshot'][i])\n",
    "    ill_red.append(f['redshift'][i])\n",
    "    ill_scale.append(f['scale'][i])\n",
    "    \n",
    "    location = np.argmin(np.abs( reds_tng-reds_ill[i] ))\n",
    "    \n",
    "    tng_snap.append(g['snapshot'][location])\n",
    "    tng_red.append(g['redshift'][location])\n",
    "    tng_scale.append(g['scale'][location])\n",
    "    \n",
    "cols = [\"Illustris snapshot\", \"Illustris redshift\", \"Illustris scale\", \"TNG snapshot\", \"TNG redshift\", \"TNG scale\"]\n",
    "data = [ill_snap, ill_red, ill_scale, tng_snap, tng_red, tng_scale]\n",
    "\n",
    "for i in range(len(cols)):\n",
    "    dats = data[i]\n",
    "    dset = fi.create_dataset(f'Illustris/{cols[i]}', \n",
    "                            shape=np.array(dats).shape,\n",
    "                            dtype=np.array(dats).dtype)\n",
    "    dset[:] = dats\n",
    "\n",
    "    \n",
    "fi.close()\n"
   ]
  },
  {
   "cell_type": "code",
   "execution_count": 6,
   "id": "57d0c0d8",
   "metadata": {},
   "outputs": [],
   "source": [
    "howdy = h5py.File(\"../data/snapdata/snapdata.hdf5\",'r')"
   ]
  },
  {
   "cell_type": "code",
   "execution_count": 7,
   "id": "10d9823c",
   "metadata": {},
   "outputs": [
    {
     "name": "stdout",
     "output_type": "stream",
     "text": [
      "100\n",
      "100\n"
     ]
    }
   ],
   "source": [
    "print(len(howdy[\"TNG\"][\"TNG snapshot\"][:]))\n",
    "print(len(howdy[\"TNG\"][\"Illustris snapshot\"][:]))\n"
   ]
  },
  {
   "cell_type": "code",
   "execution_count": 8,
   "id": "78431967",
   "metadata": {},
   "outputs": [
    {
     "data": {
      "text/plain": [
       "<HDF5 file \"snapdata.hdf5\" (mode r)>"
      ]
     },
     "execution_count": 8,
     "metadata": {},
     "output_type": "execute_result"
    }
   ],
   "source": [
    "howdy"
   ]
  },
  {
   "cell_type": "code",
   "execution_count": 9,
   "id": "5b67cb8f",
   "metadata": {},
   "outputs": [
    {
     "data": {
      "text/plain": [
       "<KeysViewHDF5 ['Illustris redshift', 'Illustris scale', 'Illustris snapshot', 'TNG redshift', 'TNG scale', 'TNG snapshot']>"
      ]
     },
     "execution_count": 9,
     "metadata": {},
     "output_type": "execute_result"
    }
   ],
   "source": [
    "howdy['Illustris'].keys()"
   ]
  },
  {
   "cell_type": "code",
   "execution_count": 10,
   "id": "eacc5c12",
   "metadata": {},
   "outputs": [],
   "source": [
    "illz = np.array(howdy['Illustris']['Illustris redshift'])\n",
    "illsnap = np.array(howdy['Illustris']['Illustris snapshot'])\n",
    "tngsnap = np.array(howdy['Illustris']['TNG snapshot'])"
   ]
  },
  {
   "cell_type": "code",
   "execution_count": 24,
   "id": "2e3524a7",
   "metadata": {},
   "outputs": [
    {
     "name": "stdout",
     "output_type": "stream",
     "text": [
      " z = 2.220446049250313e-16 -- Illustris Snapshot: 135 -- TNG Snapshot: 99\n",
      " z = 0.9972942257819404 -- Illustris Snapshot: 85 -- TNG Snapshot: 50\n",
      " z = 2.002028139252852 -- Illustris Snapshot: 68 -- TNG Snapshot: 33\n",
      " z = 3.0081310716303773 -- Illustris Snapshot: 60 -- TNG Snapshot: 25\n",
      " z = 3.7087742646422353 -- Illustris Snapshot: 56 -- TNG Snapshot: 22\n"
     ]
    }
   ],
   "source": [
    "for it_z in [0,1,2,3,3.78]:\n",
    "    illloc = np.argmin( np.abs( illz - it_z ) )\n",
    "    print(f\" z = {illz[illloc]} -- Illustris Snapshot: {illsnap[illloc]} -- TNG Snapshot: {tngsnap[illloc]}\")\n"
   ]
  },
  {
   "cell_type": "code",
   "execution_count": 24,
   "id": "e3ca53d0",
   "metadata": {},
   "outputs": [
    {
     "data": {
      "text/plain": [
       "68"
      ]
     },
     "execution_count": 24,
     "metadata": {},
     "output_type": "execute_result"
    }
   ],
   "source": [
    "z = 2\n",
    "illloc"
   ]
  },
  {
   "cell_type": "code",
   "execution_count": 10,
   "id": "4ea2ed83",
   "metadata": {},
   "outputs": [
    {
     "data": {
      "text/plain": [
       "<KeysViewHDF5 ['Illustris redshift', 'Illustris scale', 'Illustris snapshot', 'TNG redshift', 'TNG scale', 'TNG snapshot']>"
      ]
     },
     "execution_count": 10,
     "metadata": {},
     "output_type": "execute_result"
    }
   ],
   "source": [
    "howdy['TNG'].keys()"
   ]
  },
  {
   "cell_type": "code",
   "execution_count": null,
   "id": "0b1e0590",
   "metadata": {},
   "outputs": [],
   "source": []
  }
 ],
 "metadata": {
  "kernelspec": {
   "display_name": "Python 3",
   "language": "python",
   "name": "python3"
  },
  "language_info": {
   "codemirror_mode": {
    "name": "ipython",
    "version": 3
   },
   "file_extension": ".py",
   "mimetype": "text/x-python",
   "name": "python",
   "nbconvert_exporter": "python",
   "pygments_lexer": "ipython3",
   "version": "3.8.13"
  },
  "toc": {
   "base_numbering": 1,
   "nav_menu": {},
   "number_sections": true,
   "sideBar": true,
   "skip_h1_title": false,
   "title_cell": "Table of Contents",
   "title_sidebar": "Contents",
   "toc_cell": false,
   "toc_position": {},
   "toc_section_display": true,
   "toc_window_display": false
  }
 },
 "nbformat": 4,
 "nbformat_minor": 5
}
