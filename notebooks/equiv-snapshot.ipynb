{
 "cells": [
  {
   "cell_type": "code",
   "execution_count": 1,
   "id": "85432c02",
   "metadata": {},
   "outputs": [],
   "source": [
    "import numpy as np\n",
    "import pandas as pd\n",
    "import h5py"
   ]
  },
  {
   "cell_type": "code",
   "execution_count": 2,
   "id": "3e6b00ad",
   "metadata": {},
   "outputs": [],
   "source": [
    "f = pd.read_csv(\"../data/snapdata/Illustris_snapdata.csv\")\n",
    "g = pd.read_csv(\"../data/snapdata/TNG_snapdata.csv\")"
   ]
  },
  {
   "cell_type": "code",
   "execution_count": 3,
   "id": "80cb7d59",
   "metadata": {},
   "outputs": [],
   "source": [
    "reds_ill = f['redshift']\n",
    "reds_tng = g['redshift']"
   ]
  },
  {
   "cell_type": "code",
   "execution_count": 4,
   "id": "f2bfedb6",
   "metadata": {},
   "outputs": [],
   "source": [
    "fi = h5py.File(\"../data/snapdata/snapdata.hdf5\",'w')\n",
    "\n",
    "ill_snap, ill_red, ill_scale, tng_snap, tng_red, tng_scale = [], [], [], [], [], []\n",
    "\n",
    "for i in range(len(reds_tng)):\n",
    "    tng_snap.append(g['snapshot'][i])\n",
    "    tng_red.append(g['redshift'][i])\n",
    "    tng_scale.append(g['scale'][i])\n",
    "    \n",
    "    location = np.argmin(np.abs( reds_ill-reds_tng[i] ))\n",
    "    \n",
    "    ill_snap.append(f['snapshot'][location])\n",
    "    ill_red.append(f['redshift'][location])\n",
    "    ill_scale.append(f['scale'][location])\n",
    "    \n",
    "cols = [ \"TNG snapshot\", \"TNG redshift\", \"TNG scale\", \"Illustris snapshot\", \"Illustris redshift\", \"Illustris scale\"]\n",
    "data = [tng_snap, tng_red, tng_scale, ill_snap, ill_red, ill_scale]\n",
    "\n",
    "\n",
    "for i in range(len(cols)):\n",
    "    dats = data[i]\n",
    "    dset = fi.create_dataset(f'TNG/{cols[i]}', \n",
    "                            shape=np.array(dats).shape,\n",
    "                            dtype=np.array(dats).dtype)\n",
    "    dset[:] = dats\n",
    "    \n",
    "    \n",
    "ill_snap, ill_red, ill_scale, tng_snap, tng_red, tng_scale = [], [], [], [], [], []\n",
    "\n",
    "for i in range(len(reds_ill)):\n",
    "    ill_snap.append(f['snapshot'][i])\n",
    "    ill_red.append(f['redshift'][i])\n",
    "    ill_scale.append(f['scale'][i])\n",
    "    \n",
    "    location = np.argmin(np.abs( reds_tng-reds_ill[i] ))\n",
    "    \n",
    "    tng_snap.append(g['snapshot'][location])\n",
    "    tng_red.append(g['redshift'][location])\n",
    "    tng_scale.append(g['scale'][location])\n",
    "    \n",
    "cols = [\"Illustris snapshot\", \"Illustris redshift\", \"Illustris scale\", \"TNG snapshot\", \"TNG redshift\", \"TNG scale\"]\n",
    "data = [ill_snap, ill_red, ill_scale, tng_snap, tng_red, tng_scale]\n",
    "\n",
    "for i in range(len(cols)):\n",
    "    dats = data[i]\n",
    "    dset = fi.create_dataset(f'Illustris/{cols[i]}', \n",
    "                            shape=np.array(dats).shape,\n",
    "                            dtype=np.array(dats).dtype)\n",
    "    dset[:] = dats\n",
    "\n",
    "    \n",
    "fi.close()\n"
   ]
  },
  {
   "cell_type": "code",
   "execution_count": 5,
   "id": "67827595",
   "metadata": {},
   "outputs": [],
   "source": [
    "howdy = h5py.File(\"../data/snapdata/snapdata.hdf5\",'r')"
   ]
  },
  {
   "cell_type": "code",
   "execution_count": 6,
   "id": "f2604a3d",
   "metadata": {},
   "outputs": [
    {
     "name": "stdout",
     "output_type": "stream",
     "text": [
      "100\n",
      "100\n"
     ]
    }
   ],
   "source": [
    "print(len(howdy[\"TNG\"][\"TNG snapshot\"][:]))\n",
    "print(len(howdy[\"TNG\"][\"Illustris snapshot\"][:]))\n"
   ]
  },
  {
   "cell_type": "code",
   "execution_count": 7,
   "id": "005de12b",
   "metadata": {},
   "outputs": [
    {
     "data": {
      "text/plain": [
       "<HDF5 file \"snapdata.hdf5\" (mode r)>"
      ]
     },
     "execution_count": 7,
     "metadata": {},
     "output_type": "execute_result"
    }
   ],
   "source": [
    "howdy"
   ]
  },
  {
   "cell_type": "code",
   "execution_count": 17,
   "id": "431b19a9",
   "metadata": {},
   "outputs": [
    {
     "data": {
      "text/plain": [
       "<KeysViewHDF5 ['Illustris redshift', 'Illustris scale', 'Illustris snapshot', 'TNG redshift', 'TNG scale', 'TNG snapshot']>"
      ]
     },
     "execution_count": 17,
     "metadata": {},
     "output_type": "execute_result"
    }
   ],
   "source": [
    "howdy['Illustris'].keys()"
   ]
  },
  {
   "cell_type": "code",
   "execution_count": 25,
   "id": "c7999d07",
   "metadata": {},
   "outputs": [],
   "source": [
    "illz = np.array(howdy['Illustris']['Illustris redshift'])\n",
    "illsnap = np.array(howdy['Illustris']['Illustris snapshot'])\n",
    "tngsnap = np.array(howdy['Illustris']['TNG snapshot'])"
   ]
  },
  {
   "cell_type": "code",
   "execution_count": 32,
   "id": "5f38f56a",
   "metadata": {},
   "outputs": [
    {
     "name": "stdout",
     "output_type": "stream",
     "text": [
      " z = 2.220446049250313e-16 -- Illustris Snapshot: 135 -- TNG Snapshot: 99\n",
      " z = 0.9972942257819404 -- Illustris Snapshot: 85 -- TNG Snapshot: 50\n",
      " z = 2.002028139252852 -- Illustris Snapshot: 68 -- TNG Snapshot: 33\n",
      " z = 3.0081310716303773 -- Illustris Snapshot: 60 -- TNG Snapshot: 25\n",
      " z = 4.007945111465268 -- Illustris Snapshot: 54 -- TNG Snapshot: 21\n"
     ]
    }
   ],
   "source": [
    "for it_z in [0,1,2,3,4]:\n",
    "    illloc = np.argmin( np.abs( illz - it_z ) )\n",
    "    print(f\" z = {illz[illloc]} -- Illustris Snapshot: {illsnap[illloc]} -- TNG Snapshot: {tngsnap[illloc]}\")\n"
   ]
  },
  {
   "cell_type": "code",
   "execution_count": 24,
   "id": "459bcaec",
   "metadata": {},
   "outputs": [
    {
     "data": {
      "text/plain": [
       "68"
      ]
     },
     "execution_count": 24,
     "metadata": {},
     "output_type": "execute_result"
    }
   ],
   "source": [
    "z = 2\n",
    "illloc"
   ]
  },
  {
   "cell_type": "code",
   "execution_count": 10,
   "id": "944e9bf5",
   "metadata": {},
   "outputs": [
    {
     "data": {
      "text/plain": [
       "<KeysViewHDF5 ['Illustris redshift', 'Illustris scale', 'Illustris snapshot', 'TNG redshift', 'TNG scale', 'TNG snapshot']>"
      ]
     },
     "execution_count": 10,
     "metadata": {},
     "output_type": "execute_result"
    }
   ],
   "source": [
    "howdy['TNG'].keys()"
   ]
  },
  {
   "cell_type": "code",
   "execution_count": null,
   "id": "927dd52b",
   "metadata": {},
   "outputs": [],
   "source": []
  }
 ],
 "metadata": {
  "kernelspec": {
   "display_name": "Python 3",
   "language": "python",
   "name": "python3"
  },
  "language_info": {
   "codemirror_mode": {
    "name": "ipython",
    "version": 3
   },
   "file_extension": ".py",
   "mimetype": "text/x-python",
   "name": "python",
   "nbconvert_exporter": "python",
   "pygments_lexer": "ipython3",
   "version": "3.6.13"
  },
  "toc": {
   "base_numbering": 1,
   "nav_menu": {},
   "number_sections": true,
   "sideBar": true,
   "skip_h1_title": false,
   "title_cell": "Table of Contents",
   "title_sidebar": "Contents",
   "toc_cell": false,
   "toc_position": {},
   "toc_section_display": true,
   "toc_window_display": false
  }
 },
 "nbformat": 4,
 "nbformat_minor": 5
}
