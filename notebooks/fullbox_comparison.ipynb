{
 "cells": [
  {
   "cell_type": "code",
   "execution_count": 6,
   "id": "883d6ed5",
   "metadata": {},
   "outputs": [],
   "source": [
    "import h5py\n",
    "import numpy as np\n",
    "import matplotlib.pyplot as plt\n",
    "import sys\n",
    "import importlib\n",
    "\n",
    "from utils.paths import SetupPaths\n",
    "import utils.readsubfHDF5Py3 as readSub\n",
    "from utils.read_group_cats import ReadCats\n",
    "from utils.merger_trees import TraceMergerTree\n",
    "from utils.vectorCorrection import vectorCorrection as vector\n",
    "\n",
    "paths = SetupPaths()"
   ]
  },
  {
   "cell_type": "code",
   "execution_count": 10,
   "id": "54886a68",
   "metadata": {},
   "outputs": [],
   "source": [
    "catpath = paths.path_tnghydro\n",
    "snap = 99\n",
    "keysel_default =  [\n",
    "            'GroupPos','Group_M_TopHat200', \n",
    "            'Group_R_TopHat200','GroupNsubs',\n",
    "            'GroupFirstSub',\n",
    "            'SubhaloGrNr','SubhaloMass',\n",
    "            'SubhaloPos','SubhaloVel',\n",
    "            'SubhaloMassType']\n",
    "little_h = 0.6774\n",
    "\n",
    "catalog = readSub.subfind_catalog(\n",
    "            basedir=catpath,\n",
    "            snapnum=snap,keysel=keysel_default)"
   ]
  },
  {
   "cell_type": "code",
   "execution_count": null,
   "id": "43d8393b",
   "metadata": {},
   "outputs": [],
   "source": [
    "print(catalog.Sub)\n",
    "print(catalog.Group_M_TopHat200[group])\n",
    "print(catalog.GroupNsubs[group])"
   ]
  },
  {
   "cell_type": "code",
   "execution_count": 17,
   "id": "185acc61",
   "metadata": {},
   "outputs": [],
   "source": [
    "fullcat_stars = catalog.SubhaloMassType[:,4]/little_h "
   ]
  },
  {
   "cell_type": "code",
   "execution_count": 43,
   "id": "583018d6",
   "metadata": {},
   "outputs": [],
   "source": [
    "def get_primmask(primstells, size):\n",
    "    if size == \"dwarf\":\n",
    "        mask = (primstells > 0.01) & (primstells < 0.5)\n",
    "    elif size == \"massive\":\n",
    "        mask = (primstells > 0.5) & (primstells < 10)\n",
    "    return mask\n",
    "\n",
    "def get_groupmask(groupmass, size):\n",
    "    if size == \"dwarf\":\n",
    "        mask = (groupmass > 8) & (groupmass < 50)\n",
    "    elif size == \"massive\":\n",
    "        mask = (groupmass > 100) & (groupmass < 650)\n",
    "    return mask"
   ]
  },
  {
   "cell_type": "code",
   "execution_count": 20,
   "id": "65c21496",
   "metadata": {},
   "outputs": [],
   "source": [
    "fullcat_mask = get_primmask(fullcat_stars,\"massive\")"
   ]
  },
  {
   "cell_type": "code",
   "execution_count": 23,
   "id": "8683605d",
   "metadata": {},
   "outputs": [
    {
     "data": {
      "text/plain": [
       "8987"
      ]
     },
     "execution_count": 23,
     "metadata": {},
     "output_type": "execute_result"
    }
   ],
   "source": [
    "fullcat_passcount = np.count_nonzero(fullcat_mask)\n",
    "fullcat_passcount"
   ]
  },
  {
   "cell_type": "code",
   "execution_count": 35,
   "id": "33250b54",
   "metadata": {},
   "outputs": [
    {
     "data": {
      "text/plain": [
       "<KeysViewHDF5 ['Header', 'pairs', 'unpaired']>"
      ]
     },
     "execution_count": 35,
     "metadata": {},
     "output_type": "execute_result"
    }
   ],
   "source": [
    "f.keys()"
   ]
  },
  {
   "cell_type": "code",
   "execution_count": 39,
   "id": "c26065a0",
   "metadata": {},
   "outputs": [],
   "source": [
    "f = h5py.File(f'{paths.path_pairs}TNG_99_1000.hdf5')\n",
    "\n",
    "paircat = {}\n",
    "unpaircat = {}\n",
    "for key, val in f['pairs']['hydro'].items():\n",
    "    paircat[key] = np.array(val)\n",
    "for key, val in f['unpaired']['hydro'].items():\n",
    "    unpaircat[key] = np.array(val)    \n",
    "f.close()"
   ]
  },
  {
   "cell_type": "code",
   "execution_count": 46,
   "id": "68324da6",
   "metadata": {},
   "outputs": [],
   "source": [
    "pair_realmask = paircat['Realization']==0\n",
    "unpair_realmask = unpaircat['Realization']==0"
   ]
  },
  {
   "cell_type": "code",
   "execution_count": 41,
   "id": "f4357506",
   "metadata": {},
   "outputs": [
    {
     "data": {
      "text/plain": [
       "dict_keys(['Group ID', 'Group Mass', 'Group Nsubs', 'Group Radius', 'Realization', 'Sub1 BHMass', 'Sub1 BHMdot', 'Sub1 GasMetallicity', 'Sub1 ID', 'Sub1 Mass', 'Sub1 MassType', 'Sub1 Pos', 'Sub1 SFR', 'Sub1 SFRinRad', 'Sub1 Stellar Mass', 'Sub1 Vel'])"
      ]
     },
     "execution_count": 41,
     "metadata": {},
     "output_type": "execute_result"
    }
   ],
   "source": [
    "unpaircat.keys()"
   ]
  },
  {
   "cell_type": "code",
   "execution_count": 69,
   "id": "461af268",
   "metadata": {},
   "outputs": [
    {
     "name": "stdout",
     "output_type": "stream",
     "text": [
      "581473\n",
      "0\n",
      "7345591\n",
      "1855854\n",
      "0\n",
      "1800\n"
     ]
    }
   ],
   "source": [
    "## get all unpaired primaries\n",
    "unpair_stell = get_primmask(unpaircat['Sub1 Stellar Mass'], \"massive\")\n",
    "unpair_group = get_groupmask(unpaircat['Group Mass'], \"massive\")                \n",
    "print(np.count_nonzero(unpair_stell))\n",
    "print(np.count_nonzero(unpair_group))\n",
    "\n",
    "## get all paired primaries \n",
    "pair_stell = get_primmask(paircat['Sub1 Stellar Mass'], \"massive\")\n",
    "pair_group = get_groupmask(paircat['Group Mass'], \"massive\")\n",
    "print(np.count_nonzero(pair_stell))\n",
    "print(np.count_nonzero(pair_group))\n",
    "\n",
    "unpair_prims = unpair_stell & unpair_group & unpair_realmask\n",
    "pair_prims = pair_stell & pair_group & pair_realmask\n",
    "print(np.count_nonzero(unpair_prims))\n",
    "print(np.count_nonzero(pair_prims))\n",
    "paircat_passcount = np.count_nonzero(unpair_prims)+np.count_nonzero(pair_prims)"
   ]
  },
  {
   "cell_type": "code",
   "execution_count": 48,
   "id": "87fbddb9",
   "metadata": {},
   "outputs": [
    {
     "data": {
      "text/plain": [
       "array([], dtype=float64)"
      ]
     },
     "execution_count": 48,
     "metadata": {},
     "output_type": "execute_result"
    }
   ],
   "source": [
    "## all primaries in one realization\n",
    "unpaircat['Sub1 Stellar Mass'][unpair_prims]"
   ]
  },
  {
   "cell_type": "markdown",
   "id": "ae91767e",
   "metadata": {},
   "source": [
    "identifying the % of my sample in the full volume sample"
   ]
  },
  {
   "cell_type": "code",
   "execution_count": 54,
   "id": "53443a87",
   "metadata": {},
   "outputs": [
    {
     "data": {
      "text/plain": [
       "4371211"
      ]
     },
     "execution_count": 54,
     "metadata": {},
     "output_type": "execute_result"
    }
   ],
   "source": [
    "len(fullcat_mask)"
   ]
  },
  {
   "cell_type": "code",
   "execution_count": null,
   "id": "d6a55513",
   "metadata": {},
   "outputs": [],
   "source": []
  },
  {
   "cell_type": "code",
   "execution_count": 58,
   "id": "496aee7a",
   "metadata": {},
   "outputs": [],
   "source": [
    "fullcat_subIDs = np.arange(0,len(fullcat_mask),1)[fullcat_mask]"
   ]
  },
  {
   "cell_type": "code",
   "execution_count": 63,
   "id": "4e0ab57c",
   "metadata": {},
   "outputs": [],
   "source": [
    "paircat_subIDs = paircat['Sub1 ID'][pair_prims]"
   ]
  },
  {
   "cell_type": "code",
   "execution_count": 67,
   "id": "e5ac481f",
   "metadata": {},
   "outputs": [],
   "source": [
    "overlap = np.count_nonzero(np.isin(paircat_subIDs, fullcat_subIDs))"
   ]
  },
  {
   "cell_type": "markdown",
   "id": "26fb0c3e",
   "metadata": {},
   "source": [
    "# Summary"
   ]
  },
  {
   "cell_type": "code",
   "execution_count": 70,
   "id": "27252016",
   "metadata": {},
   "outputs": [
    {
     "name": "stdout",
     "output_type": "stream",
     "text": [
      "Number of subhalos in full volume that pass simulation stellar mass criteria: 8987\n",
      "Number of primary subhalos in my sample: 1800\n",
      "Number of sample primaries in full volume selection: 1659\n",
      "Ratio of number in my sample to full volume selection: 0.20028930677645487\n",
      "Ratio of my sample captured from full volume selection: 0.9216666666666666\n",
      "Ratio of my sample captured compared to full volume: 0.18459997774563258\n"
     ]
    }
   ],
   "source": [
    "print(f'Number of subhalos in full volume that pass simulation stellar mass criteria: {fullcat_passcount}')\n",
    "print(f'Number of primary subhalos in my sample: {paircat_passcount}')\n",
    "print(f'Number of sample primaries in full volume selection: {overlap}')\n",
    "\n",
    "print(f'Ratio of number in my sample to full volume selection: {paircat_passcount/fullcat_passcount}')\n",
    "print(f'Ratio of my sample captured from full volume selection: {overlap/paircat_passcount}')\n",
    "print(f'Ratio of my sample captured compared to full volume: {overlap/fullcat_passcount}')\n",
    "\n"
   ]
  },
  {
   "cell_type": "code",
   "execution_count": 73,
   "id": "07ddb918",
   "metadata": {},
   "outputs": [],
   "source": [
    "def get_summary_stats(snapshot, size):\n",
    "    catpath = paths.path_tnghydro\n",
    "    snap = snapshot\n",
    "    little_h = 0.6774\n",
    "    keysel_default =  [\n",
    "                'GroupPos','Group_M_TopHat200', \n",
    "                'Group_R_TopHat200','GroupNsubs',\n",
    "                'GroupFirstSub',\n",
    "                'SubhaloGrNr','SubhaloMass',\n",
    "                'SubhaloPos','SubhaloVel',\n",
    "                'SubhaloMassType']\n",
    "\n",
    "    catalog = readSub.subfind_catalog(\n",
    "                basedir=catpath,\n",
    "                snapnum=snap,keysel=keysel_default)\n",
    "    fullcat_stars = catalog.SubhaloMassType[:,4]/little_h \n",
    "    fullcat_mask = get_primmask(fullcat_stars,size)\n",
    "    fullcat_passcount = np.count_nonzero(fullcat_mask)\n",
    "\n",
    "    ## unpacking data\n",
    "    f = h5py.File(f'{paths.path_pairs}TNG_{snapshot}_10.hdf5')\n",
    "    paircat = {}\n",
    "    unpaircat = {}\n",
    "    for key, val in f['pairs']['hydro'].items():\n",
    "        paircat[key] = np.array(val)\n",
    "    for key, val in f['unpaired']['hydro'].items():\n",
    "        unpaircat[key] = np.array(val)    \n",
    "    f.close()\n",
    "    \n",
    "    pair_realmask = paircat['Realization']==0\n",
    "    unpair_realmask = unpaircat['Realization']==0\n",
    "    \n",
    "    ## get all unpaired primaries\n",
    "    unpair_stell = get_primmask(unpaircat['Sub1 Stellar Mass'], size)\n",
    "    unpair_group = get_groupmask(unpaircat['Group Mass'], size)                \n",
    "\n",
    "    ## get all paired primaries \n",
    "    pair_stell = get_primmask(paircat['Sub1 Stellar Mass'], size)\n",
    "    pair_group = get_groupmask(paircat['Group Mass'], size)\n",
    "\n",
    "    unpair_prims = unpair_stell & unpair_group & unpair_realmask\n",
    "    pair_prims = pair_stell & pair_group & pair_realmask\n",
    "    paircat_passcount = np.count_nonzero(unpair_prims)+np.count_nonzero(pair_prims)\n",
    "    \n",
    "    fullcat_subIDs = np.arange(0,len(fullcat_mask),1)[fullcat_mask]\n",
    "    paircat_subIDs = paircat['Sub1 ID'][pair_prims]\n",
    "    overlap = np.count_nonzero(np.isin(paircat_subIDs, fullcat_subIDs))\n",
    "    \n",
    "    print(f'Number of subhalos in full volume that pass simulation stellar mass criteria: {fullcat_passcount}')\n",
    "    print(f'Number of primary subhalos in my sample: {paircat_passcount}')\n",
    "    print(f'Number of sample primaries in full volume selection: {overlap}')\n",
    "\n",
    "    print(f'Ratio of number in my sample to full volume selection: {paircat_passcount/fullcat_passcount}')\n",
    "    print(f'Ratio of my sample captured from full volume selection: {overlap/paircat_passcount}')\n",
    "    print(f'Ratio of my sample captured compared to full volume: {overlap/fullcat_passcount}')\n",
    "    \n",
    "    return fullcat_passcount, paircat_passcount, overlap\n",
    "\n"
   ]
  },
  {
   "cell_type": "code",
   "execution_count": 74,
   "id": "cd4180cf",
   "metadata": {},
   "outputs": [
    {
     "name": "stdout",
     "output_type": "stream",
     "text": [
      "Number of subhalos in full volume that pass simulation stellar mass criteria: 8987\n",
      "Number of primary subhalos in my sample: 1800\n",
      "Number of sample primaries in full volume selection: 1659\n",
      "Ratio of number in my sample to full volume selection: 0.20028930677645487\n",
      "Ratio of my sample captured from full volume selection: 0.9216666666666666\n",
      "Ratio of my sample captured compared to full volume: 0.18459997774563258\n"
     ]
    },
    {
     "data": {
      "text/plain": [
       "(8987, 1800, 1659)"
      ]
     },
     "execution_count": 74,
     "metadata": {},
     "output_type": "execute_result"
    }
   ],
   "source": [
    "get_summary_stats(99,\"massive\")"
   ]
  },
  {
   "cell_type": "code",
   "execution_count": 75,
   "id": "e3082161",
   "metadata": {},
   "outputs": [
    {
     "name": "stdout",
     "output_type": "stream",
     "text": [
      "Number of subhalos in full volume that pass simulation stellar mass criteria: 44944\n",
      "Number of primary subhalos in my sample: 11982\n",
      "Number of sample primaries in full volume selection: 7503\n",
      "Ratio of number in my sample to full volume selection: 0.26659843360626556\n",
      "Ratio of my sample captured from full volume selection: 0.6261892839258888\n",
      "Ratio of my sample captured compared to full volume: 0.16694108223567106\n"
     ]
    },
    {
     "data": {
      "text/plain": [
       "(44944, 11982, 7503)"
      ]
     },
     "execution_count": 75,
     "metadata": {},
     "output_type": "execute_result"
    }
   ],
   "source": [
    "get_summary_stats(99,\"dwarf\")"
   ]
  },
  {
   "cell_type": "code",
   "execution_count": 76,
   "id": "e225bd5c",
   "metadata": {},
   "outputs": [
    {
     "name": "stdout",
     "output_type": "stream",
     "text": [
      "Number of subhalos in full volume that pass simulation stellar mass criteria: 47050\n",
      "Number of primary subhalos in my sample: 15344\n",
      "Number of sample primaries in full volume selection: 11425\n",
      "Ratio of number in my sample to full volume selection: 0.3261211477151966\n",
      "Ratio of my sample captured from full volume selection: 0.7445907194994786\n",
      "Ratio of my sample captured compared to full volume: 0.242826780021254\n"
     ]
    },
    {
     "data": {
      "text/plain": [
       "(47050, 15344, 11425)"
      ]
     },
     "execution_count": 76,
     "metadata": {},
     "output_type": "execute_result"
    }
   ],
   "source": [
    "get_summary_stats(49,\"dwarf\")"
   ]
  },
  {
   "cell_type": "code",
   "execution_count": 77,
   "id": "ccceb7a6",
   "metadata": {},
   "outputs": [
    {
     "name": "stdout",
     "output_type": "stream",
     "text": [
      "Number of subhalos in full volume that pass simulation stellar mass criteria: 7479\n",
      "Number of primary subhalos in my sample: 1756\n",
      "Number of sample primaries in full volume selection: 1655\n",
      "Ratio of number in my sample to full volume selection: 0.2347907474261265\n",
      "Ratio of my sample captured from full volume selection: 0.9424829157175398\n",
      "Ratio of my sample captured compared to full volume: 0.22128626821767616\n"
     ]
    },
    {
     "data": {
      "text/plain": [
       "(7479, 1756, 1655)"
      ]
     },
     "execution_count": 77,
     "metadata": {},
     "output_type": "execute_result"
    }
   ],
   "source": [
    "get_summary_stats(49,\"massive\")"
   ]
  },
  {
   "cell_type": "code",
   "execution_count": null,
   "id": "9f65c8ce",
   "metadata": {},
   "outputs": [],
   "source": []
  }
 ],
 "metadata": {
  "kernelspec": {
   "display_name": "tart",
   "language": "python",
   "name": "tart"
  },
  "language_info": {
   "codemirror_mode": {
    "name": "ipython",
    "version": 3
   },
   "file_extension": ".py",
   "mimetype": "text/x-python",
   "name": "python",
   "nbconvert_exporter": "python",
   "pygments_lexer": "ipython3",
   "version": "3.8.13"
  },
  "toc": {
   "base_numbering": 1,
   "nav_menu": {},
   "number_sections": true,
   "sideBar": true,
   "skip_h1_title": false,
   "title_cell": "Table of Contents",
   "title_sidebar": "Contents",
   "toc_cell": false,
   "toc_position": {},
   "toc_section_display": true,
   "toc_window_display": false
  }
 },
 "nbformat": 4,
 "nbformat_minor": 5
}
