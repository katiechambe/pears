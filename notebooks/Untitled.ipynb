{
 "cells": [
  {
   "cell_type": "code",
   "execution_count": 23,
   "metadata": {},
   "outputs": [],
   "source": [
    "import h5py\n",
    "import numpy as np\n",
    "import matplotlib.pyplot as plt"
   ]
  },
  {
   "cell_type": "code",
   "execution_count": 25,
   "metadata": {},
   "outputs": [],
   "source": [
    "g = h5py.File(\"../data/pairs/Illustris_z0-io.hdf5\",\"r\")"
   ]
  },
  {
   "cell_type": "code",
   "execution_count": 31,
   "metadata": {},
   "outputs": [
    {
     "data": {
      "text/plain": [
       "3.483414144"
      ]
     },
     "execution_count": 31,
     "metadata": {},
     "output_type": "execute_result"
    }
   ],
   "source": [
    "8*6047594*18*4/1e9"
   ]
  },
  {
   "cell_type": "code",
   "execution_count": 29,
   "metadata": {},
   "outputs": [
    {
     "data": {
      "text/plain": [
       "18"
      ]
     },
     "execution_count": 29,
     "metadata": {},
     "output_type": "execute_result"
    }
   ],
   "source": []
  },
  {
   "cell_type": "code",
   "execution_count": 13,
   "metadata": {},
   "outputs": [],
   "source": [
    "f = h5py.File(\"../data/subhalos/Illustris_135.hdf5\",\"r\")"
   ]
  },
  {
   "cell_type": "code",
   "execution_count": 20,
   "metadata": {},
   "outputs": [
    {
     "data": {
      "text/plain": [
       "<KeysViewHDF5 ['Group ID', 'Group Mass', 'Group Radius', 'Nsubs', 'Subhalo ID', 'Subhalo Mass', 'Subhalo Max Mass', 'Subhalo Max Mass Snap', 'Subhalo Med Stellar Mass', 'Subhalo Pos', 'Subhalo Stellar Masses', 'Subhalo Vel']>"
      ]
     },
     "execution_count": 20,
     "metadata": {},
     "output_type": "execute_result"
    }
   ],
   "source": [
    "len(f['hydro']['dwarf'])"
   ]
  },
  {
   "cell_type": "code",
   "execution_count": 22,
   "metadata": {},
   "outputs": [
    {
     "data": {
      "text/plain": [
       "array([87, 87, 87, ...,  4,  3,  3], dtype=int32)"
      ]
     },
     "execution_count": 22,
     "metadata": {},
     "output_type": "execute_result"
    }
   ],
   "source": [
    "np.array(f['hydro']['dwarf']['Nsubs'])"
   ]
  },
  {
   "cell_type": "code",
   "execution_count": 3,
   "metadata": {},
   "outputs": [
    {
     "data": {
      "text/plain": [
       "<KeysViewHDF5 ['hydro']>"
      ]
     },
     "execution_count": 3,
     "metadata": {},
     "output_type": "execute_result"
    }
   ],
   "source": [
    "f.keys()"
   ]
  },
  {
   "cell_type": "code",
   "execution_count": null,
   "metadata": {},
   "outputs": [],
   "source": []
  },
  {
   "cell_type": "code",
   "execution_count": null,
   "metadata": {},
   "outputs": [],
   "source": []
  },
  {
   "cell_type": "code",
   "execution_count": 8,
   "metadata": {},
   "outputs": [],
   "source": [
    "from utils.get_groups import GetGroups\n",
    "from utils.read_group_cats import ReadCats\n"
   ]
  },
  {
   "cell_type": "code",
   "execution_count": 4,
   "metadata": {},
   "outputs": [
    {
     "ename": "NameError",
     "evalue": "name 'GetGroups' is not defined",
     "output_type": "error",
     "traceback": [
      "\u001b[0;31m---------------------------------------------------------------------------\u001b[0m",
      "\u001b[0;31mNameError\u001b[0m                                 Traceback (most recent call last)",
      "Cell \u001b[0;32mIn [4], line 1\u001b[0m\n\u001b[0;32m----> 1\u001b[0m TNGtest \u001b[38;5;241m=\u001b[39m \u001b[43mGetGroups\u001b[49m(\u001b[38;5;241m99\u001b[39m,\u001b[38;5;124m\"\u001b[39m\u001b[38;5;124mTNG\u001b[39m\u001b[38;5;124m\"\u001b[39m,\u001b[38;5;124m\"\u001b[39m\u001b[38;5;124mdark\u001b[39m\u001b[38;5;124m\"\u001b[39m)\n\u001b[1;32m      2\u001b[0m TNGtestH \u001b[38;5;241m=\u001b[39m GetGroups(\u001b[38;5;241m99\u001b[39m,\u001b[38;5;124m\"\u001b[39m\u001b[38;5;124mTNG\u001b[39m\u001b[38;5;124m\"\u001b[39m,\u001b[38;5;124m\"\u001b[39m\u001b[38;5;124mhydro\u001b[39m\u001b[38;5;124m\"\u001b[39m)\n\u001b[1;32m      4\u001b[0m \u001b[38;5;28;01mdef\u001b[39;00m \u001b[38;5;21mheifd\u001b[39m():\n",
      "\u001b[0;31mNameError\u001b[0m: name 'GetGroups' is not defined"
     ]
    }
   ],
   "source": [
    "TNGtest = GetGroups(99,\"TNG\",\"dark\")\n",
    "TNGtestH = GetGroups(99,\"TNG\",\"hydro\")\n",
    "\n",
    "print(TNGtest.inds[0:10])\n",
    "print(TNGtestH.inds[0:10])"
   ]
  },
  {
   "cell_type": "code",
   "execution_count": 3,
   "metadata": {},
   "outputs": [
    {
     "name": "stdout",
     "output_type": "stream",
     "text": [
      "[     0  19021  37280  52178  65172  75430  84922  95250 103297 113891]\n",
      "[    0 13164 26358 36942 46165 52854 60190 67567 73042 80760]\n"
     ]
    }
   ],
   "source": [
    "TNGtest = GetGroups(90,\"TNG\",\"dark\")\n",
    "TNGtestH = GetGroups(90,\"TNG\",\"hydro\")\n",
    "\n",
    "print(TNGtest.inds[0:10])\n",
    "print(TNGtestH.inds[0:10])"
   ]
  },
  {
   "cell_type": "code",
   "execution_count": 4,
   "metadata": {},
   "outputs": [
    {
     "name": "stdout",
     "output_type": "stream",
     "text": [
      "[     0  18934  37119  51717  65177  74653  84720  94849 105347 114209]\n",
      "[    0 13186 26369 36697 43319 50612 57182 63263 70914 77282]\n"
     ]
    }
   ],
   "source": [
    "TNGtest = GetGroups(89,\"TNG\",\"dark\")\n",
    "TNGtestH = GetGroups(89,\"TNG\",\"hydro\")\n",
    "\n",
    "print(TNGtest.inds[0:10])\n",
    "print(TNGtestH.inds[0:10])"
   ]
  },
  {
   "cell_type": "code",
   "execution_count": 5,
   "metadata": {},
   "outputs": [],
   "source": [
    "darks = ReadCats(snapshot=89, \n",
    "            sim=\"TNG\", \n",
    "            physics=\"dark\"\n",
    "            )\n",
    "hydros = ReadCats(snapshot=89, \n",
    "            sim=\"TNG\", \n",
    "            physics=\"hydro\"\n",
    "            )"
   ]
  },
  {
   "cell_type": "code",
   "execution_count": 6,
   "metadata": {},
   "outputs": [
    {
     "data": {
      "text/plain": [
       "array([2.17676035e+04, 2.89894653e+03, 4.86613159e+02, ...,\n",
       "       1.91990044e-02, 1.91990044e-02, 1.79990660e-02])"
      ]
     },
     "execution_count": 6,
     "metadata": {},
     "output_type": "execute_result"
    }
   ],
   "source": [
    "darks.submass"
   ]
  },
  {
   "cell_type": "code",
   "execution_count": 7,
   "metadata": {},
   "outputs": [
    {
     "data": {
      "text/plain": [
       "array([2.41007285e+04, 6.23312134e+02, 2.74355865e+02, ...,\n",
       "       1.41560799e-02, 1.56728029e-02, 1.56728029e-02])"
      ]
     },
     "execution_count": 7,
     "metadata": {},
     "output_type": "execute_result"
    }
   ],
   "source": [
    "hydros.submass"
   ]
  },
  {
   "cell_type": "code",
   "execution_count": null,
   "metadata": {},
   "outputs": [],
   "source": [
    "darks = ReadCats(snapshot=71, \n",
    "            sim=\"TNG\", \n",
    "            physics=\"dark\"\n",
    "            )\n",
    "hydros = ReadCats(snapshot=71, \n",
    "            sim=\"TNG\", \n",
    "            physics=\"hydro\"\n",
    "            )"
   ]
  }
 ],
 "metadata": {
  "kernelspec": {
   "display_name": "tart",
   "language": "python",
   "name": "tart"
  },
  "language_info": {
   "codemirror_mode": {
    "name": "ipython",
    "version": 3
   },
   "file_extension": ".py",
   "mimetype": "text/x-python",
   "name": "python",
   "nbconvert_exporter": "python",
   "pygments_lexer": "ipython3",
   "version": "3.8.13"
  }
 },
 "nbformat": 4,
 "nbformat_minor": 4
}
