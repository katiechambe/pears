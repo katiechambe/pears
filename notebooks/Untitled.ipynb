{
 "cells": [
  {
   "cell_type": "code",
   "execution_count": 8,
   "metadata": {},
   "outputs": [],
   "source": [
    "import h5py\n",
    "import numpy as np\n",
    "import matplotlib.pyplot as plt"
   ]
  },
  {
   "cell_type": "code",
   "execution_count": 2,
   "metadata": {},
   "outputs": [],
   "source": [
    "z4 = h5py.File(\"../data/pairs/TNG_21_10.hdf5\",\"r\")\n",
    "z1 = h5py.File(\"../data/pairs/TNG_50_10.hdf5\",\"r\")\n",
    "z0 = h5py.File(\"../data/pairs/TNG_99_10.hdf5\",\"r\")"
   ]
  },
  {
   "cell_type": "code",
   "execution_count": 23,
   "metadata": {},
   "outputs": [
    {
     "ename": "TypeError",
     "evalue": "'AttributeManager' object is not callable",
     "output_type": "error",
     "traceback": [
      "\u001b[0;31m---------------------------------------------------------------------------\u001b[0m",
      "\u001b[0;31mTypeError\u001b[0m                                 Traceback (most recent call last)",
      "Cell \u001b[0;32mIn [23], line 1\u001b[0m\n\u001b[0;32m----> 1\u001b[0m \u001b[43mz0\u001b[49m\u001b[43m[\u001b[49m\u001b[38;5;124;43m'\u001b[39;49m\u001b[38;5;124;43mpairs\u001b[39;49m\u001b[38;5;124;43m'\u001b[39;49m\u001b[43m]\u001b[49m\u001b[43m[\u001b[49m\u001b[38;5;124;43m'\u001b[39;49m\u001b[38;5;124;43mhydro\u001b[39;49m\u001b[38;5;124;43m'\u001b[39;49m\u001b[43m]\u001b[49m\u001b[38;5;241;43m.\u001b[39;49m\u001b[43mattrs\u001b[49m\u001b[43m(\u001b[49m\u001b[43m)\u001b[49m\n",
      "\u001b[0;31mTypeError\u001b[0m: 'AttributeManager' object is not callable"
     ]
    }
   ],
   "source": [
    "z0['pairs']['hydro'].attrs()"
   ]
  },
  {
   "cell_type": "code",
   "execution_count": 49,
   "metadata": {},
   "outputs": [
    {
     "name": "stdout",
     "output_type": "stream",
     "text": [
      "For z=0\n",
      "Dwarf -- r: 158.8951721281508  M:21.898167162192124  v:76.98981103965475 \n",
      "Massive -- r: 356.61733991669655  M:247.60480260722292  v:172.8076742505619 \n"
     ]
    }
   ],
   "source": [
    "z = z0\n",
    "print(\"For z=0\")\n",
    "massiveint = 3000\n",
    "dwarfint = 87000 \n",
    "rs = np.array(z['pairs']['hydro']['Group Radius'])\n",
    "Ms = np.array(z['pairs']['hydro']['Group Mass'])\n",
    "vs = np.sqrt(4.301e4*Ms/rs)\n",
    "\n",
    "print(f\"Dwarf -- r: {rs[dwarfint]}  M:{Ms[dwarfint]}  v:{vs[dwarfint]} \")\n",
    "print(f\"Massive -- r: {rs[massiveint]}  M:{Ms[massiveint]}  v:{vs[massiveint]} \")"
   ]
  },
  {
   "cell_type": "code",
   "execution_count": 66,
   "metadata": {},
   "outputs": [
    {
     "name": "stdout",
     "output_type": "stream",
     "text": [
      "For z=1\n",
      "Dwarf -- r: 92.76448252771887  M:21.178437292945397  v:99.09250650012879 \n",
      "Massive -- r: 210.54284479370557  M:247.59135487018378  v:224.89625114101955 \n"
     ]
    }
   ],
   "source": [
    "z = z1\n",
    "print(\"For z=1\")\n",
    "massiveint = 8000\n",
    "dwarfint = 87000 \n",
    "rs = np.array(z['pairs']['hydro']['Group Radius'])\n",
    "Ms = np.array(z['pairs']['hydro']['Group Mass'])\n",
    "vs = np.sqrt(4.301e4*Ms/rs)\n",
    "\n",
    "print(f\"Dwarf -- r: {rs[dwarfint]}  M:{Ms[dwarfint]}  v:{vs[dwarfint]} \")\n",
    "print(f\"Massive -- r: {rs[massiveint]}  M:{Ms[massiveint]}  v:{vs[massiveint]} \")"
   ]
  },
  {
   "cell_type": "code",
   "execution_count": 80,
   "metadata": {},
   "outputs": [
    {
     "name": "stdout",
     "output_type": "stream",
     "text": [
      "For z=4\n",
      "Dwarf -- r: 39.86004193050205  M:23.502310996989003  v:159.24695252220232 \n",
      "Massive -- r: 87.80947993362703  M:251.2479454921275  v:350.80459906271653 \n"
     ]
    }
   ],
   "source": [
    "z = z4\n",
    "print(\"For z=4\")\n",
    "massiveint = 240\n",
    "dwarfint = 6290\n",
    "rs = np.array(z['pairs']['hydro']['Group Radius'])\n",
    "Ms = np.array(z['pairs']['hydro']['Group Mass'])\n",
    "vs = np.sqrt(4.301e4*Ms/rs)\n",
    "\n",
    "print(f\"Dwarf -- r: {rs[dwarfint]}  M:{Ms[dwarfint]}  v:{vs[dwarfint]} \")\n",
    "print(f\"Massive -- r: {rs[massiveint]}  M:{Ms[massiveint]}  v:{vs[massiveint]} \")"
   ]
  },
  {
   "cell_type": "code",
   "execution_count": 72,
   "metadata": {},
   "outputs": [
    {
     "name": "stdout",
     "output_type": "stream",
     "text": [
      "Comoving Separation: 631.4901016222154\n",
      "Group ID: 5\n",
      "Group Mass: 399.42058589136775\n",
      "Group Nsubs: 27\n",
      "Group Radius: 102.48392130360914\n",
      "Realization: 1\n",
      "RelVel: 400.7927634871772\n",
      "Separation: 126.09764835011399\n",
      "Stellar Mass Ratio: 0.061160614550197584\n",
      "Sub1 BHMass: 0.04722262453040367\n",
      "Sub1 BHMdot: 0.11985038965940475\n",
      "Sub1 GasMetallicity: 0.0292160976678133\n",
      "Sub1 ID: 1570\n",
      "Sub1 Mass: 396.44392817147826\n",
      "Sub1 MassType: [4.33933950e+01 3.40276718e+02 0.00000000e+00 0.00000000e+00\n",
      " 1.27265740e+01 4.72447871e-02]\n",
      "Sub1 Pos: [ 3214.955557    8735.2113254  21268.14937304]\n",
      "Sub1 SFR: 281.51666259765625\n",
      "Sub1 SFRinRad: 87.28005981445312\n",
      "Sub1 Stellar Mass: 4.462359565162654\n",
      "Sub1 Vel: [-43.88382339  83.77332306 100.33552551]\n",
      "Sub2 BHMass: 0.004089219992799431\n",
      "Sub2 BHMdot: 0.006178472191095352\n",
      "Sub2 GasMetallicity: 0.032072510570287704\n",
      "Sub2 ID: 1571\n",
      "Sub2 Mass: 23.218585144709724\n",
      "Sub2 MassType: [2.43623453e+00 1.82339615e+01 0.00000000e+00 0.00000000e+00\n",
      " 2.54429985e+00 4.08922137e-03]\n",
      "Sub2 Pos: [ 3186.75559646  8699.38311734 21385.71517866]\n",
      "Sub2 SFR: 31.317373275756836\n",
      "Sub2 SFRinRad: 19.279142379760742\n",
      "Sub2 Stellar Mass: 0.2729206533493004\n",
      "Sub2 Vel: [ -63.41070557  311.04763794 -229.20950317]\n",
      "TripleFlag: 1\n"
     ]
    }
   ],
   "source": [
    "massiveint = 8000\n",
    "dwarfint = 87000 \n",
    "\n",
    "for i in z4['pairs']['hydro'].keys():\n",
    "    print(f\"{i}:\",z4['pairs']['hydro'][i][50])"
   ]
  },
  {
   "cell_type": "code",
   "execution_count": 28,
   "metadata": {},
   "outputs": [
    {
     "name": "stdout",
     "output_type": "stream",
     "text": [
      "For z=0\n",
      "radius vals:  [240.48126374 150.87034205 199.86830949]\n",
      "mass vals:  [75.92568117 18.74709573 43.58911923]\n",
      "velocity vals:  [116.53018797  73.10545464  96.85048469]\n"
     ]
    },
    {
     "data": {
      "image/png": "[encoded data removed]",
      "text/plain": [
       "<Figure size 432x288 with 1 Axes>"
      ]
     },
     "metadata": {
      "needs_background": "light"
     },
     "output_type": "display_data"
    },
    {
     "name": "stdout",
     "output_type": "stream",
     "text": [
      "For z=1\n",
      "radius vals:  [74.55058862 71.56448491 87.12574359]\n",
      "mass vals:  [10.99236778  9.72406471 17.54644032]\n",
      "velocity vals:  [79.63515105 76.44689779 93.06920072]\n"
     ]
    },
    {
     "data": {
      "image/png": "[encoded data removed]",
      "text/plain": [
       "<Figure size 432x288 with 1 Axes>"
      ]
     },
     "metadata": {
      "needs_background": "light"
     },
     "output_type": "display_data"
    },
    {
     "name": "stdout",
     "output_type": "stream",
     "text": [
      "For z=4\n",
      "radius vals:  [29.64051229 48.9537104  34.91038415]\n",
      "mass vals:  [ 9.66436362 43.53783706 15.78994089]\n",
      "velocity vals:  [118.42093876 195.58040403 139.4754141 ]\n"
     ]
    },
    {
     "data": {
      "image/png": "[encoded data removed]",
      "text/plain": [
       "<Figure size 432x288 with 1 Axes>"
      ]
     },
     "metadata": {
      "needs_background": "light"
     },
     "output_type": "display_data"
    }
   ],
   "source": [
    "\n",
    "for dat,z in zip([z0,z1,z4],[0,1,4]):\n",
    "    print(f\"For z={z}\")\n",
    "    doo = dat['pairs']['hydro']\n",
    "    rs = np.array(doo['Group Radius'])\n",
    "    Ms = np.array(doo[\"Group Mass\"])\n",
    "    vs = np.sqrt(4.301e4*Ms/rs)\n",
    "    \n",
    "    randdvals = np.random.randint(0,len(rs),3)\n",
    "    \n",
    "    print(\"radius vals: \",rs[randdvals])\n",
    "    print(\"mass vals: \",Ms[randdvals])\n",
    "    print(\"velocity vals: \",vs[randdvals])\n",
    "    \n",
    "    plt.hist(v\n",
    "             s)\n",
    "    plt.show()\n",
    "\n",
    "    \n"
   ]
  },
  {
   "cell_type": "code",
   "execution_count": 13,
   "metadata": {},
   "outputs": [],
   "source": [
    "f = h5py.File(\"../data/subhalos/Illustris_135.hdf5\",\"r\")"
   ]
  },
  {
   "cell_type": "code",
   "execution_count": 20,
   "metadata": {},
   "outputs": [
    {
     "data": {
      "text/plain": [
       "<KeysViewHDF5 ['Group ID', 'Group Mass', 'Group Radius', 'Nsubs', 'Subhalo ID', 'Subhalo Mass', 'Subhalo Max Mass', 'Subhalo Max Mass Snap', 'Subhalo Med Stellar Mass', 'Subhalo Pos', 'Subhalo Stellar Masses', 'Subhalo Vel']>"
      ]
     },
     "execution_count": 20,
     "metadata": {},
     "output_type": "execute_result"
    }
   ],
   "source": [
    "len(f['hydro']['dwarf'])"
   ]
  },
  {
   "cell_type": "code",
   "execution_count": 22,
   "metadata": {},
   "outputs": [
    {
     "data": {
      "text/plain": [
       "array([87, 87, 87, ...,  4,  3,  3], dtype=int32)"
      ]
     },
     "execution_count": 22,
     "metadata": {},
     "output_type": "execute_result"
    }
   ],
   "source": [
    "np.array(f['hydro']['dwarf']['Nsubs'])"
   ]
  },
  {
   "cell_type": "code",
   "execution_count": 3,
   "metadata": {},
   "outputs": [
    {
     "data": {
      "text/plain": [
       "<KeysViewHDF5 ['hydro']>"
      ]
     },
     "execution_count": 3,
     "metadata": {},
     "output_type": "execute_result"
    }
   ],
   "source": [
    "f.keys()"
   ]
  },
  {
   "cell_type": "code",
   "execution_count": null,
   "metadata": {},
   "outputs": [],
   "source": []
  },
  {
   "cell_type": "code",
   "execution_count": null,
   "metadata": {},
   "outputs": [],
   "source": []
  },
  {
   "cell_type": "code",
   "execution_count": 8,
   "metadata": {},
   "outputs": [],
   "source": [
    "from utils.get_groups import GetGroups\n",
    "from utils.read_group_cats import ReadCats\n"
   ]
  },
  {
   "cell_type": "code",
   "execution_count": 4,
   "metadata": {},
   "outputs": [
    {
     "ename": "NameError",
     "evalue": "name 'GetGroups' is not defined",
     "output_type": "error",
     "traceback": [
      "\u001b[0;31m---------------------------------------------------------------------------\u001b[0m",
      "\u001b[0;31mNameError\u001b[0m                                 Traceback (most recent call last)",
      "Cell \u001b[0;32mIn [4], line 1\u001b[0m\n\u001b[0;32m----> 1\u001b[0m TNGtest \u001b[38;5;241m=\u001b[39m \u001b[43mGetGroups\u001b[49m(\u001b[38;5;241m99\u001b[39m,\u001b[38;5;124m\"\u001b[39m\u001b[38;5;124mTNG\u001b[39m\u001b[38;5;124m\"\u001b[39m,\u001b[38;5;124m\"\u001b[39m\u001b[38;5;124mdark\u001b[39m\u001b[38;5;124m\"\u001b[39m)\n\u001b[1;32m      2\u001b[0m TNGtestH \u001b[38;5;241m=\u001b[39m GetGroups(\u001b[38;5;241m99\u001b[39m,\u001b[38;5;124m\"\u001b[39m\u001b[38;5;124mTNG\u001b[39m\u001b[38;5;124m\"\u001b[39m,\u001b[38;5;124m\"\u001b[39m\u001b[38;5;124mhydro\u001b[39m\u001b[38;5;124m\"\u001b[39m)\n\u001b[1;32m      4\u001b[0m \u001b[38;5;28;01mdef\u001b[39;00m \u001b[38;5;21mheifd\u001b[39m():\n",
      "\u001b[0;31mNameError\u001b[0m: name 'GetGroups' is not defined"
     ]
    }
   ],
   "source": [
    "TNGtest = GetGroups(99,\"TNG\",\"dark\")\n",
    "TNGtestH = GetGroups(99,\"TNG\",\"hydro\")\n",
    "\n",
    "print(TNGtest.inds[0:10])\n",
    "print(TNGtestH.inds[0:10])"
   ]
  },
  {
   "cell_type": "code",
   "execution_count": 3,
   "metadata": {},
   "outputs": [
    {
     "name": "stdout",
     "output_type": "stream",
     "text": [
      "[     0  19021  37280  52178  65172  75430  84922  95250 103297 113891]\n",
      "[    0 13164 26358 36942 46165 52854 60190 67567 73042 80760]\n"
     ]
    }
   ],
   "source": [
    "TNGtest = GetGroups(90,\"TNG\",\"dark\")\n",
    "TNGtestH = GetGroups(90,\"TNG\",\"hydro\")\n",
    "\n",
    "print(TNGtest.inds[0:10])\n",
    "print(TNGtestH.inds[0:10])"
   ]
  },
  {
   "cell_type": "code",
   "execution_count": 4,
   "metadata": {},
   "outputs": [
    {
     "name": "stdout",
     "output_type": "stream",
     "text": [
      "[     0  18934  37119  51717  65177  74653  84720  94849 105347 114209]\n",
      "[    0 13186 26369 36697 43319 50612 57182 63263 70914 77282]\n"
     ]
    }
   ],
   "source": [
    "TNGtest = GetGroups(89,\"TNG\",\"dark\")\n",
    "TNGtestH = GetGroups(89,\"TNG\",\"hydro\")\n",
    "\n",
    "print(TNGtest.inds[0:10])\n",
    "print(TNGtestH.inds[0:10])"
   ]
  },
  {
   "cell_type": "code",
   "execution_count": 5,
   "metadata": {},
   "outputs": [],
   "source": [
    "darks = ReadCats(snapshot=89, \n",
    "            sim=\"TNG\", \n",
    "            physics=\"dark\"\n",
    "            )\n",
    "hydros = ReadCats(snapshot=89, \n",
    "            sim=\"TNG\", \n",
    "            physics=\"hydro\"\n",
    "            )"
   ]
  },
  {
   "cell_type": "code",
   "execution_count": 6,
   "metadata": {},
   "outputs": [
    {
     "data": {
      "text/plain": [
       "array([2.17676035e+04, 2.89894653e+03, 4.86613159e+02, ...,\n",
       "       1.91990044e-02, 1.91990044e-02, 1.79990660e-02])"
      ]
     },
     "execution_count": 6,
     "metadata": {},
     "output_type": "execute_result"
    }
   ],
   "source": [
    "darks.submass"
   ]
  },
  {
   "cell_type": "code",
   "execution_count": 7,
   "metadata": {},
   "outputs": [
    {
     "data": {
      "text/plain": [
       "array([2.41007285e+04, 6.23312134e+02, 2.74355865e+02, ...,\n",
       "       1.41560799e-02, 1.56728029e-02, 1.56728029e-02])"
      ]
     },
     "execution_count": 7,
     "metadata": {},
     "output_type": "execute_result"
    }
   ],
   "source": [
    "hydros.submass"
   ]
  },
  {
   "cell_type": "code",
   "execution_count": null,
   "metadata": {},
   "outputs": [],
   "source": [
    "darks = ReadCats(snapshot=71, \n",
    "            sim=\"TNG\", \n",
    "            physics=\"dark\"\n",
    "            )\n",
    "hydros = ReadCats(snapshot=71, \n",
    "            sim=\"TNG\", \n",
    "            physics=\"hydro\"\n",
    "            )"
   ]
  }
 ],
 "metadata": {
  "kernelspec": {
   "display_name": "tart",
   "language": "python",
   "name": "tart"
  },
  "language_info": {
   "codemirror_mode": {
    "name": "ipython",
    "version": 3
   },
   "file_extension": ".py",
   "mimetype": "text/x-python",
   "name": "python",
   "nbconvert_exporter": "python",
   "pygments_lexer": "ipython3",
   "version": "3.8.13"
  }
 },
 "nbformat": 4,
 "nbformat_minor": 4
}
