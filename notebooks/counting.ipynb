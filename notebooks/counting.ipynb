{
 "cells": [
  {
   "cell_type": "code",
   "execution_count": 1,
   "metadata": {},
   "outputs": [],
   "source": [
    "import h5py\n",
    "import numpy as np\n",
    "import matplotlib.pyplot as plt"
   ]
  },
  {
   "cell_type": "markdown",
   "metadata": {},
   "source": [
    "### Equivalent snapshots"
   ]
  },
  {
   "cell_type": "code",
   "execution_count": 41,
   "metadata": {},
   "outputs": [
    {
     "name": "stdout",
     "output_type": "stream",
     "text": [
      "z= 0\n",
      "Redshift in Illustris: 2.220446049250313e-16 Illustris snapshot: 135\n",
      "Redshift in TNG: 2.220446049250313e-16 TNG snapshot: 99\n",
      "z= 0.5\n",
      "Redshift in Illustris: 0.5030475232448832 Illustris snapshot: 103\n",
      "Redshift in TNG: 0.5030475232448832 TNG snapshot: 67\n",
      "z= 1\n",
      "Redshift in Illustris: 0.9972942257819404 Illustris snapshot: 85\n",
      "Redshift in TNG: 0.9972942257819404 TNG snapshot: 50\n",
      "z= 1.5\n",
      "Redshift in Illustris: 1.4719748452657977 Illustris snapshot: 75\n",
      "Redshift in TNG: 1.4955121664955555 TNG snapshot: 40\n",
      "z= 2\n",
      "Redshift in Illustris: 2.002028139252852 Illustris snapshot: 68\n",
      "Redshift in TNG: 2.002028139252852 TNG snapshot: 33\n",
      "z= 2.5\n",
      "Redshift in Illustris: 2.4442257045541464 Illustris snapshot: 64\n",
      "Redshift in TNG: 2.4442257045541464 TNG snapshot: 29\n",
      "z= 3\n",
      "Redshift in Illustris: 3.0081310716303773 Illustris snapshot: 60\n",
      "Redshift in TNG: 3.0081310716303773 TNG snapshot: 25\n",
      "z= 3.5\n",
      "Redshift in Illustris: 3.4908613692606485 Illustris snapshot: 57\n",
      "Redshift in TNG: 3.4908613692606485 TNG snapshot: 23\n",
      "z= 4\n",
      "Redshift in Illustris: 4.007945111465268 Illustris snapshot: 54\n",
      "Redshift in TNG: 4.007945111465268 TNG snapshot: 21\n"
     ]
    }
   ],
   "source": [
    "snapdata = h5py.File(\"../data/snapdata/snapdata.hdf5\",\"r\")\n",
    "for z in [0,0.5,1,1.5,2,2.5,3,3.5,4]:\n",
    "    print(\"z=\",z)\n",
    "    indIll = np.where(np.min( np.abs(np.array(snapdata[\"Illustris\"]['Illustris redshift'])-z) ) == np.abs(np.array(snapdata[\"Illustris\"]['Illustris redshift'])-z))[0]\n",
    "    indTNG = np.where(np.min( np.abs(np.array(snapdata[\"TNG\"]['TNG redshift'])-z) ) == np.abs(np.array(snapdata[\"TNG\"]['TNG redshift'])-z))[0]\n",
    "    print(\"Redshift in Illustris:\",np.array(snapdata[\"Illustris\"]['Illustris redshift'])[indIll][0],\"Illustris snapshot:\",np.array(snapdata[\"Illustris\"]['Illustris snapshot'])[indIll][0])\n",
    "    print(\"Redshift in TNG:\",np.array(snapdata[\"TNG\"]['TNG redshift'])[indTNG][0],\"TNG snapshot:\",np.array(snapdata[\"TNG\"]['TNG snapshot'])[indTNG][0])\n"
   ]
  },
  {
   "cell_type": "code",
   "execution_count": 53,
   "metadata": {},
   "outputs": [
    {
     "name": "stdout",
     "output_type": "stream",
     "text": [
      "For z=0\n",
      "Illustris (snapshot 135)\n",
      "# groups - dwarf dark 15357\n",
      "# groups - dwarf hydro 16812\n",
      "# groups - massive dark 1366\n",
      "# groups - massive hydro 1254\n",
      "& TNG (snapshot 99)\n",
      "# groups - dwarf dark 17860\n",
      "# groups - dwarf hydro 16231\n",
      "# groups - massive dark 1652\n",
      "# groups - massive hydro 1644\n",
      "\n",
      "For z=1\n",
      "Illustris (snapshot 85)\n",
      "# groups - dwarf dark 16361\n",
      "# groups - dwarf hydro 18416\n",
      "# groups - massive dark 1292\n",
      "# groups - massive hydro 1250\n",
      "& TNG (snapshot 50)\n",
      "# groups - dwarf dark 17531\n",
      "# groups - dwarf hydro 17531\n",
      "# groups - massive dark 1632\n",
      "# groups - massive hydro 1632\n",
      "\n",
      "For z=2\n",
      "Illustris (snapshot 68)\n",
      "# groups - dwarf dark 14311\n",
      "# groups - dwarf hydro 16225\n",
      "# groups - massive dark 855\n",
      "# groups - massive hydro 908\n",
      "& TNG (snapshot 33)\n",
      "# groups - dwarf dark 17375\n",
      "# groups - dwarf hydro 16094\n",
      "# groups - massive dark 1052\n",
      "# groups - massive hydro 1109\n",
      "\n",
      "For z=3\n",
      "Illustris (snapshot 60)\n",
      "# groups - dwarf dark 9901\n",
      "# groups - dwarf hydro 10970\n",
      "# groups - massive dark 345\n",
      "# groups - massive hydro 370\n",
      "& TNG (snapshot 25)\n",
      "# groups - dwarf dark 12492\n",
      "# groups - dwarf hydro 11614\n",
      "# groups - massive dark 478\n",
      "# groups - massive hydro 492\n",
      "\n",
      "For z=4\n",
      "Illustris (snapshot 55)\n",
      "# groups - dwarf dark 5904\n",
      "# groups - dwarf hydro 6403\n",
      "# groups - massive dark 104\n",
      "# groups - massive hydro 113\n",
      "& TNG (snapshot 21)\n",
      "# groups - dwarf dark 7472\n",
      "# groups - dwarf hydro 7033\n",
      "# groups - massive dark 138\n",
      "# groups - massive hydro 139\n",
      "\n"
     ]
    }
   ],
   "source": [
    "z = [0,1,2,3,4]\n",
    "Illustrissnaps = [135, 85, 68, 60, 55]\n",
    "TNGsnaps = [99, 50, 33, 25, 21]\n",
    "\n",
    "\n",
    "for red in z:\n",
    "    illsnap = Illustrissnaps[red]\n",
    "    tngsnap = TNGsnaps[red]\n",
    "    print(f\"For z={red}\")\n",
    "    print(f\"Illustris (snapshot {illsnap})\")\n",
    "    for size in [\"dwarf\",\"massive\"]:\n",
    "        for phys in [\"dark\",\"hydro\"]:\n",
    "            f = h5py.File(f\"../data/groups/Illustris_{illsnap}.hdf5\",\"r\")\n",
    "            print(f\"# groups - {size} {phys}\",len(f[phys][size][\"Group Number\"]))\n",
    "    print(f\"& TNG (snapshot {tngsnap})\")\n",
    "    for size in [\"dwarf\",\"massive\"]:\n",
    "        for phys in [\"dark\",\"hydro\"]:\n",
    "            f = h5py.File(f\"../data/groups/TNG_{tngsnap}.hdf5\",\"r\")\n",
    "            print(f\"# groups - {size} {phys}\",len(f[phys][size][\"Group Number\"]))\n",
    "    print(\"\")"
   ]
  },
  {
   "cell_type": "code",
   "execution_count": 55,
   "metadata": {},
   "outputs": [
    {
     "name": "stdout",
     "output_type": "stream",
     "text": [
      "For z=0\n",
      "Illustris (snapshot 135)\n",
      "# groups - dwarf dark 51192\n",
      "# groups - dwarf hydro 40594\n",
      "# groups - massive dark 31601\n",
      "# groups - massive hydro 21490\n",
      "& TNG (snapshot 99)\n",
      "# groups - dwarf dark 60913\n",
      "# groups - dwarf hydro 44656\n",
      "# groups - massive dark 40190\n",
      "# groups - massive hydro 28467\n",
      "\n",
      "For z=1\n",
      "Illustris (snapshot 85)\n",
      "# groups - dwarf dark 69127\n",
      "# groups - dwarf hydro 51450\n",
      "# groups - massive dark 38636\n",
      "# groups - massive hydro 24270\n",
      "& TNG (snapshot 50)\n",
      "# groups - dwarf dark 59886\n",
      "# groups - dwarf hydro 59886\n",
      "# groups - massive dark 33400\n",
      "# groups - massive hydro 33400\n",
      "\n",
      "For z=2\n",
      "Illustris (snapshot 68)\n",
      "# groups - dwarf dark 69881\n",
      "# groups - dwarf hydro 52430\n",
      "# groups - massive dark 27495\n",
      "# groups - massive hydro 17776\n",
      "& TNG (snapshot 33)\n",
      "# groups - dwarf dark 90957\n",
      "# groups - dwarf hydro 63002\n",
      "# groups - massive dark 37685\n",
      "# groups - massive hydro 24971\n",
      "\n",
      "For z=3\n",
      "Illustris (snapshot 60)\n",
      "# groups - dwarf dark 49235\n",
      "# groups - dwarf hydro 38144\n",
      "# groups - massive dark 10594\n",
      "# groups - massive hydro 6904\n",
      "& TNG (snapshot 25)\n",
      "# groups - dwarf dark 67302\n",
      "# groups - dwarf hydro 46919\n",
      "# groups - massive dark 16037\n",
      "# groups - massive hydro 10199\n",
      "\n",
      "For z=4\n",
      "Illustris (snapshot 55)\n",
      "# groups - dwarf dark 29517\n",
      "# groups - dwarf hydro 23342\n",
      "# groups - massive dark 3344\n",
      "# groups - massive hydro 2288\n",
      "& TNG (snapshot 21)\n",
      "# groups - dwarf dark 40822\n",
      "# groups - dwarf hydro 28471\n",
      "# groups - massive dark 4759\n",
      "# groups - massive hydro 3020\n",
      "\n"
     ]
    }
   ],
   "source": [
    "z = [0,1,2,3,4]\n",
    "Illustrissnaps = [135, 85, 68, 60, 55]\n",
    "TNGsnaps = [99, 50, 33, 25, 21]\n",
    "\n",
    "\n",
    "for red in z:\n",
    "    illsnap = Illustrissnaps[red]\n",
    "    tngsnap = TNGsnaps[red]\n",
    "    print(f\"For z={red}\")\n",
    "    print(f\"Illustris (snapshot {illsnap})\")\n",
    "    for size in [\"dwarf\",\"massive\"]:\n",
    "        for phys in [\"dark\",\"hydro\"]:\n",
    "            f = h5py.File(f\"../data/subhalos/Illustris_{illsnap}.hdf5\",\"r\")\n",
    "            print(f\"# subhalos - {size} {phys}\",len(f[phys][size][\"Group ID\"]))\n",
    "    print(f\"& TNG (snapshot {tngsnap})\")\n",
    "    for size in [\"dwarf\",\"massive\"]:\n",
    "        for phys in [\"dark\",\"hydro\"]:\n",
    "            f = h5py.File(f\"../data/subhalos/TNG_{tngsnap}.hdf5\",\"r\")\n",
    "            print(f\"# subhalos - {size} {phys}\",len(f[phys][size][\"Group ID\"]))\n",
    "    print(\"\")"
   ]
  },
  {
   "cell_type": "code",
   "execution_count": 64,
   "metadata": {},
   "outputs": [
    {
     "name": "stdout",
     "output_type": "stream",
     "text": [
      "For z=0\n",
      "Illustris (snapshot 135)\n",
      "# subhalos - dwarf dark 12047\n",
      "# subhalos - dwarf hydro 10722\n",
      "# subhalos - massive dark 1365\n",
      "# subhalos - massive hydro 1253\n",
      "& TNG (snapshot 99)\n",
      "# subhalos - dwarf dark 14210\n",
      "# subhalos - dwarf hydro 11625\n",
      "# subhalos - massive dark 1652\n",
      "# subhalos - massive hydro 1644\n",
      "\n",
      "For z=1\n",
      "Illustris (snapshot 86)\n",
      "# subhalos - dwarf dark 14315\n",
      "# subhalos - dwarf hydro 13355\n",
      "# subhalos - massive dark 1300\n",
      "# subhalos - massive hydro 1246\n",
      "& TNG (snapshot 52)\n"
     ]
    },
    {
     "ename": "KeyError",
     "evalue": "\"Unable to open object (object 'dark' doesn't exist)\"",
     "output_type": "error",
     "traceback": [
      "\u001b[0;31m---------------------------------------------------------------------------\u001b[0m",
      "\u001b[0;31mKeyError\u001b[0m                                  Traceback (most recent call last)",
      "\u001b[0;32m<ipython-input-64-3e6e20de27fa>\u001b[0m in \u001b[0;36m<module>\u001b[0;34m\u001b[0m\n\u001b[1;32m     17\u001b[0m         \u001b[0;32mfor\u001b[0m \u001b[0mphys\u001b[0m \u001b[0;32min\u001b[0m \u001b[0;34m[\u001b[0m\u001b[0;34m\"dark\"\u001b[0m\u001b[0;34m,\u001b[0m\u001b[0;34m\"hydro\"\u001b[0m\u001b[0;34m]\u001b[0m\u001b[0;34m:\u001b[0m\u001b[0;34m\u001b[0m\u001b[0;34m\u001b[0m\u001b[0m\n\u001b[1;32m     18\u001b[0m             \u001b[0mf\u001b[0m \u001b[0;34m=\u001b[0m \u001b[0mh5py\u001b[0m\u001b[0;34m.\u001b[0m\u001b[0mFile\u001b[0m\u001b[0;34m(\u001b[0m\u001b[0;34mf\"../data/pairs/TNG_{tngsnap}_1pair_medstel.hdf5\"\u001b[0m\u001b[0;34m,\u001b[0m\u001b[0;34m\"r\"\u001b[0m\u001b[0;34m)\u001b[0m\u001b[0;34m\u001b[0m\u001b[0;34m\u001b[0m\u001b[0m\n\u001b[0;32m---> 19\u001b[0;31m             \u001b[0mprint\u001b[0m\u001b[0;34m(\u001b[0m\u001b[0;34mf\"# subhalos - {size} {phys}\"\u001b[0m\u001b[0;34m,\u001b[0m\u001b[0mlen\u001b[0m\u001b[0;34m(\u001b[0m\u001b[0mf\u001b[0m\u001b[0;34m[\u001b[0m\u001b[0mphys\u001b[0m\u001b[0;34m]\u001b[0m\u001b[0;34m[\u001b[0m\u001b[0msize\u001b[0m\u001b[0;34m]\u001b[0m\u001b[0;34m[\u001b[0m\u001b[0;34m\"Group ID\"\u001b[0m\u001b[0;34m]\u001b[0m\u001b[0;34m)\u001b[0m\u001b[0;34m)\u001b[0m\u001b[0;34m\u001b[0m\u001b[0;34m\u001b[0m\u001b[0m\n\u001b[0m\u001b[1;32m     20\u001b[0m     \u001b[0mprint\u001b[0m\u001b[0;34m(\u001b[0m\u001b[0;34m\"\"\u001b[0m\u001b[0;34m)\u001b[0m\u001b[0;34m\u001b[0m\u001b[0;34m\u001b[0m\u001b[0m\n",
      "\u001b[0;32mh5py/_objects.pyx\u001b[0m in \u001b[0;36mh5py._objects.with_phil.wrapper\u001b[0;34m()\u001b[0m\n",
      "\u001b[0;32mh5py/_objects.pyx\u001b[0m in \u001b[0;36mh5py._objects.with_phil.wrapper\u001b[0;34m()\u001b[0m\n",
      "\u001b[0;32m/opt/ohpc/pub/apps/python/3.8.2/lib/python3.8/site-packages/h5py/_hl/group.py\u001b[0m in \u001b[0;36m__getitem__\u001b[0;34m(self, name)\u001b[0m\n\u001b[1;32m    262\u001b[0m                 \u001b[0;32mraise\u001b[0m \u001b[0mValueError\u001b[0m\u001b[0;34m(\u001b[0m\u001b[0;34m\"Invalid HDF5 object reference\"\u001b[0m\u001b[0;34m)\u001b[0m\u001b[0;34m\u001b[0m\u001b[0;34m\u001b[0m\u001b[0m\n\u001b[1;32m    263\u001b[0m         \u001b[0;32melse\u001b[0m\u001b[0;34m:\u001b[0m\u001b[0;34m\u001b[0m\u001b[0;34m\u001b[0m\u001b[0m\n\u001b[0;32m--> 264\u001b[0;31m             \u001b[0moid\u001b[0m \u001b[0;34m=\u001b[0m \u001b[0mh5o\u001b[0m\u001b[0;34m.\u001b[0m\u001b[0mopen\u001b[0m\u001b[0;34m(\u001b[0m\u001b[0mself\u001b[0m\u001b[0;34m.\u001b[0m\u001b[0mid\u001b[0m\u001b[0;34m,\u001b[0m \u001b[0mself\u001b[0m\u001b[0;34m.\u001b[0m\u001b[0m_e\u001b[0m\u001b[0;34m(\u001b[0m\u001b[0mname\u001b[0m\u001b[0;34m)\u001b[0m\u001b[0;34m,\u001b[0m \u001b[0mlapl\u001b[0m\u001b[0;34m=\u001b[0m\u001b[0mself\u001b[0m\u001b[0;34m.\u001b[0m\u001b[0m_lapl\u001b[0m\u001b[0;34m)\u001b[0m\u001b[0;34m\u001b[0m\u001b[0;34m\u001b[0m\u001b[0m\n\u001b[0m\u001b[1;32m    265\u001b[0m \u001b[0;34m\u001b[0m\u001b[0m\n\u001b[1;32m    266\u001b[0m         \u001b[0motype\u001b[0m \u001b[0;34m=\u001b[0m \u001b[0mh5i\u001b[0m\u001b[0;34m.\u001b[0m\u001b[0mget_type\u001b[0m\u001b[0;34m(\u001b[0m\u001b[0moid\u001b[0m\u001b[0;34m)\u001b[0m\u001b[0;34m\u001b[0m\u001b[0;34m\u001b[0m\u001b[0m\n",
      "\u001b[0;32mh5py/_objects.pyx\u001b[0m in \u001b[0;36mh5py._objects.with_phil.wrapper\u001b[0;34m()\u001b[0m\n",
      "\u001b[0;32mh5py/_objects.pyx\u001b[0m in \u001b[0;36mh5py._objects.with_phil.wrapper\u001b[0;34m()\u001b[0m\n",
      "\u001b[0;32mh5py/h5o.pyx\u001b[0m in \u001b[0;36mh5py.h5o.open\u001b[0;34m()\u001b[0m\n",
      "\u001b[0;31mKeyError\u001b[0m: \"Unable to open object (object 'dark' doesn't exist)\""
     ]
    }
   ],
   "source": [
    "z = [0,1,2,3,4]\n",
    "Illustrissnaps = [135, 85, 68, 60, 55]\n",
    "TNGsnaps = [99, 50, 33, 25, 21]\n",
    "\n",
    "\n",
    "for red in z:\n",
    "    illsnap = Illustrissnaps[red]\n",
    "    tngsnap = TNGsnaps[red]\n",
    "    print(f\"For z={red}\")\n",
    "    print(f\"Illustris (snapshot {illsnap})\")\n",
    "    for size in [\"dwarf\",\"massive\"]:\n",
    "        for phys in [\"dark\",\"hydro\"]:\n",
    "            f = h5py.File(f\"../data/pairs/Illustris_{illsnap}_1pair_medstel.hdf5\",\"r\")\n",
    "            print(f\"# subhalos - {size} {phys}\",len(f[phys][size][\"Group ID\"]))\n",
    "    print(f\"& TNG (snapshot {tngsnap})\")\n",
    "    for size in [\"dwarf\",\"massive\"]:\n",
    "        for phys in [\"dark\",\"hydro\"]:\n",
    "            f = h5py.File(f\"../data/pairs/TNG_{tngsnap}_1pair_medstel.hdf5\",\"r\")\n",
    "            print(f\"# subhalos - {size} {phys}\",len(f[phys][size][\"Group ID\"]))\n",
    "    print(\"\")"
   ]
  },
  {
   "cell_type": "code",
   "execution_count": 62,
   "metadata": {},
   "outputs": [
    {
     "data": {
      "text/plain": [
       "<KeysViewHDF5 []>"
      ]
     },
     "execution_count": 62,
     "metadata": {},
     "output_type": "execute_result"
    }
   ],
   "source": [
    "f.keys()"
   ]
  },
  {
   "cell_type": "code",
   "execution_count": null,
   "metadata": {},
   "outputs": [],
   "source": []
  }
 ],
 "metadata": {
  "kernelspec": {
   "display_name": "Python 3",
   "language": "python",
   "name": "python3"
  },
  "language_info": {
   "codemirror_mode": {
    "name": "ipython",
    "version": 3
   },
   "file_extension": ".py",
   "mimetype": "text/x-python",
   "name": "python",
   "nbconvert_exporter": "python",
   "pygments_lexer": "ipython3",
   "version": "3.8.2"
  }
 },
 "nbformat": 4,
 "nbformat_minor": 4
}
