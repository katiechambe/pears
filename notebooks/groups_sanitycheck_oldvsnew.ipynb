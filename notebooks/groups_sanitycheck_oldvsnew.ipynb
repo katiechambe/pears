{
 "cells": [
  {
   "cell_type": "code",
   "execution_count": 1,
   "metadata": {},
   "outputs": [],
   "source": [
    "import numpy as np\n",
    "import h5py\n",
    "import pandas as pd"
   ]
  },
  {
   "cell_type": "code",
   "execution_count": 2,
   "metadata": {},
   "outputs": [
    {
     "data": {
      "text/plain": [
       "'/xdisk/gbesla/katiechambe/pears/notebooks'"
      ]
     },
     "execution_count": 2,
     "metadata": {},
     "output_type": "execute_result"
    }
   ],
   "source": [
    "%pwd"
   ]
  },
  {
   "cell_type": "code",
   "execution_count": 69,
   "metadata": {},
   "outputs": [
    {
     "name": "stdout",
     "output_type": "stream",
     "text": [
      "Old number of groups -- dwarf dark: 13083\n"
     ]
    }
   ],
   "source": [
    "old135D = pd.read_csv(\"dwarfPairsDark/preisolation/data/raw/dwarfGroups_135.csv\")\n",
    "\n",
    "print(\"Old number of groups -- dwarf dark:\",len(old135D))\n"
   ]
  },
  {
   "cell_type": "code",
   "execution_count": 16,
   "metadata": {},
   "outputs": [],
   "source": [
    "old135DD = pd.read_csv(\"dwarfPairsDark/data/raw/dwarfGroups_135.csv\")\n",
    "\n",
    "old135D = pd.read_csv(\"dwarfPairsDark/data/raw/dwarfGroups_Hill_135.csv\")\n",
    "old135H = pd.read_csv(\"dwarfPairsHydro/data/raw/dwarfGroups_Hill_135.csv\")\n",
    "old135DM = pd.read_csv(\"massivePairsDark/data/raw/massiveGroups_Hill_135.csv\")\n",
    "old135HM = pd.read_csv(\"massivePairsHydro/data/raw/massiveGroups_Hill_135.csv\")\n"
   ]
  },
  {
   "cell_type": "code",
   "execution_count": 17,
   "metadata": {},
   "outputs": [
    {
     "name": "stdout",
     "output_type": "stream",
     "text": [
      "Old number of groups -- dwarf dark (non-hill): 13083\n",
      "Old number of groups -- dwarf dark: 0\n",
      "Old number of groups -- dwarf hydro: 14410\n",
      "Old number of groups -- massive dark: 1201\n",
      "Old number of groups -- massive hydro: 1137\n"
     ]
    }
   ],
   "source": [
    "print(\"Old number of groups -- dwarf dark (non-hill):\",len(old135DD))\n",
    "\n",
    "print(\"Old number of groups -- dwarf dark:\",len(old135D))\n",
    "print(\"Old number of groups -- dwarf hydro:\",len(old135H))\n",
    "print(\"Old number of groups -- massive dark:\",len(old135DM))\n",
    "print(\"Old number of groups -- massive hydro:\",len(old135HM))"
   ]
  },
  {
   "cell_type": "code",
   "execution_count": 19,
   "metadata": {},
   "outputs": [],
   "source": [
    "new135 = h5py.File(\"pears/data/groups/Illustris_135.hdf5\",'r')\n"
   ]
  },
  {
   "cell_type": "code",
   "execution_count": 73,
   "metadata": {
    "code_folding": []
   },
   "outputs": [
    {
     "name": "stdout",
     "output_type": "stream",
     "text": [
      "In Illustris:\n",
      "New number of groups -- dwarf dark: 15357\n",
      "New number of groups -- massive dark: 1366\n",
      "New number of groups -- dwarf hydro: 16812\n",
      "New number of groups -- massive hydro: 1254\n",
      "In TNG:\n",
      "New number of groups -- dwarf dark: 17860\n",
      "New number of groups -- massive dark: 1652\n",
      "New number of groups -- dwarf hydro: 16231\n",
      "New number of groups -- massive hydro: 1644\n"
     ]
    }
   ],
   "source": [
    "print(\"In Illustris:\")\n",
    "new135 = h5py.File(\"pears/data/groups/Illustris_135.hdf5\",'r')\n",
    "for phys in [\"dark\",\"hydro\"]:\n",
    "    for size in [\"dwarf\",\"massive\"]:\n",
    "        print(f\"New number of groups -- {size} {phys}:\",len(new135[phys][size]['Group Number']))\n",
    "\n",
    "print(\"In TNG:\")\n",
    "new99 = h5py.File(\"pears/data/groups/TNG_99.hdf5\",'r')\n",
    "for phys in [\"dark\",\"hydro\"]:\n",
    "    for size in [\"dwarf\",\"massive\"]:\n",
    "        print(f\"New number of groups -- {size} {phys}:\",len(new99[phys][size]['Group Number']))"
   ]
  },
  {
   "cell_type": "code",
   "execution_count": 37,
   "metadata": {},
   "outputs": [],
   "source": [
    "new135subs= h5py.File(\"pears/data/subhalos/Illustris_135.hdf5\",'r')\n",
    "subsam = new135subs['dark']['dwarf']"
   ]
  },
  {
   "cell_type": "code",
   "execution_count": 70,
   "metadata": {
    "code_folding": []
   },
   "outputs": [
    {
     "data": {
      "text/plain": [
       "13083"
      ]
     },
     "execution_count": 70,
     "metadata": {},
     "output_type": "execute_result"
    }
   ],
   "source": [
    "uniqueGIDs = np.unique(subsam['Group ID'])\n",
    "n = 0\n",
    "for uni in uniqueGIDs:\n",
    "    groupmask = np.array(subsam['Group ID']) == uni\n",
    "    maxmassmask = (np.array(subsam['Subhalo Max Mass']) > 8) & (32 > np.array(subsam['Subhalo Max Mass']))\n",
    "    halomassmask = np.array(subsam['Subhalo Mass'])>1 \n",
    "    combined = groupmask&halomassmask&maxmassmask\n",
    "    if True in combined:\n",
    "        n+=1\n",
    "n    "
   ]
  },
  {
   "cell_type": "code",
   "execution_count": 63,
   "metadata": {},
   "outputs": [
    {
     "data": {
      "text/plain": [
       "15357"
      ]
     },
     "execution_count": 63,
     "metadata": {},
     "output_type": "execute_result"
    }
   ],
   "source": [
    "len(uniqueGIDs)"
   ]
  },
  {
   "cell_type": "code",
   "execution_count": 41,
   "metadata": {},
   "outputs": [
    {
     "data": {
      "text/plain": [
       "<KeysViewHDF5 ['Group ID', 'Group Mass', 'Group Radius', 'Nsubs', 'Subhalo ID', 'Subhalo Mass', 'Subhalo Max Mass', 'Subhalo Max Mass Snap', 'Subhalo Med Stellar Mass', 'Subhalo Pos', 'Subhalo Stellar Masses', 'Subhalo Vel']>"
      ]
     },
     "execution_count": 41,
     "metadata": {},
     "output_type": "execute_result"
    }
   ],
   "source": [
    "subsam.keys()"
   ]
  },
  {
   "cell_type": "code",
   "execution_count": 48,
   "metadata": {},
   "outputs": [
    {
     "data": {
      "text/plain": [
       "array([44.805916, 18.81328 , 25.6542  , ...,  9.901133, 13.450951,\n",
       "       20.763424], dtype=float32)"
      ]
     },
     "execution_count": 48,
     "metadata": {},
     "output_type": "execute_result"
    }
   ],
   "source": [
    "np.array(subsam['Subhalo Max Mass'])"
   ]
  },
  {
   "cell_type": "code",
   "execution_count": 68,
   "metadata": {},
   "outputs": [
    {
     "name": "stdout",
     "output_type": "stream",
     "text": [
      "loaded catalog\n"
     ]
    },
    {
     "ename": "KeyboardInterrupt",
     "evalue": "",
     "output_type": "error",
     "traceback": [
      "\u001b[0;31m---------------------------------------------------------------------------\u001b[0m",
      "\u001b[0;31mKeyboardInterrupt\u001b[0m                         Traceback (most recent call last)",
      "\u001b[0;32m<ipython-input-68-47601bc9cfa0>\u001b[0m in \u001b[0;36m<module>\u001b[0;34m\u001b[0m\n\u001b[1;32m    132\u001b[0m \u001b[0;34m\u001b[0m\u001b[0m\n\u001b[1;32m    133\u001b[0m     \u001b[0;32mif\u001b[0m \u001b[0mzLo\u001b[0m \u001b[0;34m<\u001b[0m \u001b[0mzHi\u001b[0m\u001b[0;34m:\u001b[0m\u001b[0;34m\u001b[0m\u001b[0;34m\u001b[0m\u001b[0m\n\u001b[0;32m--> 134\u001b[0;31m         \u001b[0mzMask\u001b[0m \u001b[0;34m=\u001b[0m \u001b[0mnp\u001b[0m\u001b[0;34m.\u001b[0m\u001b[0mlogical_and\u001b[0m\u001b[0;34m(\u001b[0m\u001b[0mzGrps\u001b[0m \u001b[0;34m>\u001b[0m \u001b[0mzLo\u001b[0m\u001b[0;34m,\u001b[0m \u001b[0mzGrps\u001b[0m \u001b[0;34m<\u001b[0m \u001b[0mzHi\u001b[0m\u001b[0;34m)\u001b[0m\u001b[0;34m\u001b[0m\u001b[0;34m\u001b[0m\u001b[0m\n\u001b[0m\u001b[1;32m    135\u001b[0m     \u001b[0;32melse\u001b[0m\u001b[0;34m:\u001b[0m\u001b[0;34m\u001b[0m\u001b[0;34m\u001b[0m\u001b[0m\n\u001b[1;32m    136\u001b[0m         \u001b[0mzMask\u001b[0m \u001b[0;34m=\u001b[0m \u001b[0mnp\u001b[0m\u001b[0;34m.\u001b[0m\u001b[0mlogical_or\u001b[0m\u001b[0;34m(\u001b[0m\u001b[0mzGrps\u001b[0m \u001b[0;34m>\u001b[0m \u001b[0mzLo\u001b[0m\u001b[0;34m,\u001b[0m \u001b[0mzGrps\u001b[0m \u001b[0;34m<\u001b[0m \u001b[0mzHi\u001b[0m\u001b[0;34m)\u001b[0m\u001b[0;34m\u001b[0m\u001b[0;34m\u001b[0m\u001b[0m\n",
      "\u001b[0;31mKeyboardInterrupt\u001b[0m: "
     ]
    }
   ],
   "source": [
    "import numpy as np\n",
    "import hdf5libPy3 as hdf5lib\n",
    "import readsubfHDF5Py3 as readsubfHDF5\n",
    "import h5py\n",
    "import pandas as pd\n",
    "import mergerClass\n",
    "import sys\n",
    "from subboxCoordinates import subboxCoordinates as subbox\n",
    "from vectorCorrection import vectorCorrection as vector\n",
    "# from tidalIndex import tidalIndex\n",
    "from hillRadius import hillRadius\n",
    "\n",
    "####################################################################\n",
    "# This script picks out groups that pass a group mass criterion    #\n",
    "# such that the total group mass is between 8e10 < Mh < 5e11       #\n",
    "# and ensures that the group has at least one subhalo that reaches #\n",
    "# a maximum mass of 8e10 < Mh < 3.2e11 and with a current mass     #\n",
    "# greater than 1e10.                                               #\n",
    "# -----------------------------------------------------------------#\n",
    "# Katie Chamberlain - Dec 2020                                     #\n",
    "####################################################################\n",
    "\n",
    "snap = int(135) # reading in the snapshot number\n",
    "\n",
    "#####################################\n",
    "# defining the hardcoded paths, etc #\n",
    "#####################################\n",
    "baseDir      = '/xdisk/gbesla/mig2020/rsgrps/gbeslastudents/katie/dwarfPairsDark/'\n",
    "spacingFile  = baseDir +'data/raw/data_spacing.csv'\n",
    "saveFile     = baseDir + 'data/raw/dwarfGroups_Hill_'+str(snap)+'.csv'\n",
    "illustrisDir = '/xdisk/gbesla/mig2020/rsgrps/gbeslastudents/Illustris/GroupCatalogsDark/'\n",
    "\n",
    "########################################################\n",
    "# defining the cosmology and reading in group catalogs #\n",
    "########################################################\n",
    "h = 0.704 # note that h is NOT a function of z, by definition\n",
    "obj = readsubfHDF5.subfind_catalog(illustrisDir, snap, grpcat=True, keysel=['GroupFirstSub','GroupPos','SubhaloMass','SubhaloPos','SubhaloGrNr', 'Group_M_TopHat200','Group_R_TopHat200','SubhaloVel','GroupNsubs'])\n",
    "print('loaded catalog')\n",
    "\n",
    "#####################################################\n",
    "# defining the snapshots and redshifts in Illustris #\n",
    "#####################################################\n",
    "snapData = pd.read_csv(spacingFile)\n",
    "snapshots = snapData['Snapshot'].values\n",
    "scales = snapData['Scale'].values\n",
    "redshifts = snapData['Redshift'].values\n",
    "\n",
    "###############################################################\n",
    "# determining equivalent redshift and scale for this snapshot #\n",
    "###############################################################\n",
    "red = redshifts[snapshots == snap][0]\n",
    "scale = 1/(1+red)\n",
    "\n",
    "##############################################\n",
    "# defining each column of the data structure #\n",
    "##############################################\n",
    "inds = obj.GroupFirstSub\n",
    "groupPos = obj.GroupPos\n",
    "mvirs = obj.Group_M_TopHat200\n",
    "mvirs = mvirs/h # to get mass in Msun\n",
    "rvirs = obj.Group_R_TopHat200\n",
    "rvirs = rvirs * scale # to get rvir in kpc physical\n",
    "nsubs = obj.GroupNsubs\n",
    "\n",
    "submass = obj.SubhaloMass\n",
    "submass = submass/h # to get mass in Msun\n",
    "subpos = obj.SubhaloPos\n",
    "subvel = obj.SubhaloVel\n",
    "subgr = obj.SubhaloGrNr\n",
    "\n",
    "\n",
    "###################################\n",
    "#####     Group Mass Cuts     #####\n",
    "###################################\n",
    "lowerGroupMass = 8 # 8e10 Msun\n",
    "upperGroupMass = 50 # 5e11 Msun\n",
    "groupMask = np.where((mvirs > lowerGroupMass) & (mvirs < upperGroupMass))  # mask groups that pass the first mass cut\n",
    "groupMasses = mvirs[groupMask] # to get all group masses in Msun instead of Msun/h\n",
    "groupNumbers = subgr[inds[groupMask]]\n",
    "firstSubhaloNumbers = inds[groupMask] \n",
    "\n",
    "#####################################\n",
    "#####     Subhalo Mass Cuts     #####\n",
    "#####################################\n",
    "lowerSubhaloMass = 8 #8e10 Msun\n",
    "upperSubhaloMass = 32 #3.2e11 Msun\n",
    "lowerCurrentMass = 1 # 1e10 Msun\n",
    "\n",
    "groupsList = list(firstSubhaloNumbers)\n",
    "groups           = []\n",
    "groupMasses      = []\n",
    "groupRadii       = []\n",
    "isoFlagHill      = []\n",
    "pertGroupNum     = []\n",
    "pertMassRatio    = []\n",
    "pertSep          = []\n",
    "\n",
    "\n",
    "subhaloMask = mvirs != 0 # to remove all groups with 0 mass\n",
    "\n",
    "for i in firstSubhaloNumbers: \n",
    "    var = min(15, nsubs[subgr[i]]) # allows for groups with <15 subhalos\n",
    "    # for j in range(var):\n",
    "    #     subID = i + j # loops through subhalo IDs\n",
    "    #     currentMass = submass[subID]        \n",
    "    #     if currentMass >= lowerCurrentMass:\n",
    "    #         inst = mergerClass.MergerTree(snap, subID)\n",
    "    #         maxMass = inst.maxMass()[0]/h\n",
    "    #         if maxMass >= lowerSubhaloMass and maxMass <= upperSubhaloMass:\n",
    "    #             groups.append(subgr[i])\n",
    "    #             break\n",
    "\n",
    "    # testing for isolation\n",
    "    groupNum = subgr[i] # finding the group number\n",
    "    xLo, xHi, yLo, yHi, zLo, zHi = subbox(groupPos[groupNum]) # in ckpc/h\n",
    "    xGrps, yGrps, zGrps = groupPos[:,0], groupPos[:,1], groupPos[:,2]\n",
    "    xPos, yPos, zPos = groupPos[groupNum][0], groupPos[groupNum][1], groupPos[groupNum][2]\n",
    "    groupMass = mvirs[groupNum]\n",
    "    groupRadius = rvirs[groupNum]\n",
    "    groupMasses.append(groupMass) \n",
    "    groupRadii.append(groupRadius)   \n",
    "\n",
    "    if xLo < xHi:\n",
    "        xMask = np.logical_and(xGrps > xLo, xGrps < xHi)\n",
    "    else:\n",
    "        xMask = np.logical_or(xGrps > xLo, xGrps < xHi)\n",
    "\n",
    "    if yLo < yHi:\n",
    "        yMask = np.logical_and(yGrps > yLo, yGrps < yHi)\n",
    "    else:\n",
    "        yMask = np.logical_or(yGrps > yLo, yGrps < yHi)\n",
    "\n",
    "    if zLo < zHi:\n",
    "        zMask = np.logical_and(zGrps > zLo, zGrps < zHi)\n",
    "    else: \n",
    "        zMask = np.logical_or(zGrps > zLo, zGrps < zHi)\n",
    "\n",
    "    equivMask = np.logical_and(xGrps == xPos, yGrps == yPos) # to remove the group itself\n",
    "    massMask  = (mvirs > groupMass) # only consider groups with masses higher than the group mass\n",
    "\n",
    "    fullMask = xMask&yMask&zMask&~equivMask&subhaloMask&massMask\n",
    "\n",
    "    if (~fullMask).all():\n",
    "        massMask  = (mvirs > groupMass/10) # only consider groups with masses higher than the group mass\n",
    "        fullMask = xMask&yMask&zMask&~equivMask&subhaloMask&massMask\n",
    "        if (~fullMask).all():\n",
    "            fullMask = xMask&yMask&zMask&~equivMask&subhaloMask\n",
    "\n",
    "\n",
    "\n",
    "    linear = np.arange(0,len(fullMask),1)\n",
    "    \n",
    "print(len(linear))\n",
    "\n"
   ]
  },
  {
   "cell_type": "code",
   "execution_count": null,
   "metadata": {},
   "outputs": [],
   "source": []
  }
 ],
 "metadata": {
  "kernelspec": {
   "display_name": "Python 3",
   "language": "python",
   "name": "python3"
  },
  "language_info": {
   "codemirror_mode": {
    "name": "ipython",
    "version": 3
   },
   "file_extension": ".py",
   "mimetype": "text/x-python",
   "name": "python",
   "nbconvert_exporter": "python",
   "pygments_lexer": "ipython3",
   "version": "3.8.13"
  },
  "toc": {
   "base_numbering": 1,
   "nav_menu": {},
   "number_sections": true,
   "sideBar": true,
   "skip_h1_title": true,
   "title_cell": "Table of Contents",
   "title_sidebar": "Contents",
   "toc_cell": false,
   "toc_position": {},
   "toc_section_display": true,
   "toc_window_display": false
  }
 },
 "nbformat": 4,
 "nbformat_minor": 4
}
