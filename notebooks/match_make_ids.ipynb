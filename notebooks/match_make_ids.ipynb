{
 "cells": [
  {
   "cell_type": "code",
   "execution_count": 1,
   "id": "8dfa2b35",
   "metadata": {},
   "outputs": [],
   "source": [
    "import h5py\n",
    "import numpy as np\n",
    "import matplotlib.pyplot as plt\n",
    "from utils.get_summary_data import compile_summary\n",
    "from utils.paths import SetupPaths"
   ]
  },
  {
   "cell_type": "code",
   "execution_count": 2,
   "id": "5be767c8",
   "metadata": {},
   "outputs": [],
   "source": [
    "plt.rcParams.update({'font.size':22})\n",
    "paths = SetupPaths()\n"
   ]
  },
  {
   "cell_type": "code",
   "execution_count": 3,
   "id": "56e8a142",
   "metadata": {},
   "outputs": [],
   "source": [
    "style = {\"dark\":\"dashed\",\"hydro\":\"solid\"}\n",
    "palette = { \"dark\":\"#044751\",\"hydro\": \"#B6DAFF\", \n",
    "           \"Illustris\":\"#668AFF\",\"TNG\": \"#B6DAFF\", # \"TNG\": \"#7B55F3\"\n",
    "           \"Illustris dark\": \"#009292\", \"Illustris hydro\": \"#B6DAFF\",\n",
    "           \"TNG dark\": \"#930200\", \"TNG hydro\": \"#FFB5DC\",\n",
    "           \"All Pairs\":\"#668AFF\",\"Major Pairs\": \"#7B55F3\",\n",
    "           \"Minor Pairs\":'#FFB201',\"Minor Plus Pairs\":\"#FF6300\",\n",
    "           \"Extra\":\"#DE2280\",\"Stellar\":\"#0A68DD\",\n",
    "           \"Halo\":\"#4B0094\",\"Max Halo\":\"#FF6BB7\"}\n",
    "alphaVal = {\"Major\":0.7,\"Minor\":0.4}"
   ]
  },
  {
   "cell_type": "code",
   "execution_count": 12,
   "id": "ccb5c0b4",
   "metadata": {},
   "outputs": [],
   "source": [
    "savepath = f\"TNG_99_10_matched.hdf5\"\n",
    "f = h5py.File(f\"{paths.path_data}matched/Vicente/{savepath}\", 'r')"
   ]
  },
  {
   "cell_type": "code",
   "execution_count": 13,
   "id": "890fdd7a",
   "metadata": {},
   "outputs": [
    {
     "data": {
      "text/plain": [
       "<KeysViewHDF5 ['Header', 'paired', 'unpaired']>"
      ]
     },
     "execution_count": 13,
     "metadata": {},
     "output_type": "execute_result"
    }
   ],
   "source": [
    "f.keys()"
   ]
  },
  {
   "cell_type": "code",
   "execution_count": 16,
   "id": "5691c128",
   "metadata": {},
   "outputs": [
    {
     "data": {
      "text/plain": [
       "<KeysViewHDF5 ['Comoving Separation', 'Group ID', 'Group Mass', 'Group Nsubs', 'Group Radius', 'Realization', 'RelVel', 'Separation', 'Stellar Mass Ratio', 'Sub1 BHMass', 'Sub1 BHMdot', 'Sub1 GasMetallicity', 'Sub1 ID', 'Sub1 Mass', 'Sub1 MassType', 'Sub1 Pos', 'Sub1 SFR', 'Sub1 SFRinRad', 'Sub1 Stellar Mass', 'Sub1 Vel', 'Sub2 BHMass', 'Sub2 BHMdot', 'Sub2 GasMetallicity', 'Sub2 ID', 'Sub2 Mass', 'Sub2 MassType', 'Sub2 Pos', 'Sub2 SFR', 'Sub2 SFRinRad', 'Sub2 Stellar Mass', 'Sub2 Vel', 'TripleFlag']>"
      ]
     },
     "execution_count": 16,
     "metadata": {},
     "output_type": "execute_result"
    }
   ],
   "source": [
    "f['paired']['hydro']['Separation']\n"
   ]
  },
  {
   "cell_type": "code",
   "execution_count": 19,
   "id": "a0e7f595",
   "metadata": {},
   "outputs": [
    {
     "data": {
      "image/png": "[encoded data removed]",
      "text/plain": [
       "<Figure size 1152x576 with 2 Axes>"
      ]
     },
     "metadata": {
      "needs_background": "light"
     },
     "output_type": "display_data"
    }
   ],
   "source": [
    "fig,ax = plt.subplots(1,2,figsize=(16,8),sharey=False)\n",
    "plt.subplots_adjust(wspace=0.2)\n",
    "\n",
    "ax[0].scatter(np.array(f['paired']['hydro']['Separation']), np.array(f['paired']['dark match']['Separation']))\n",
    "ax[1].hist(np.array(f['paired']['hydro']['Separation'])-np.array(f['paired']['dark match']['Separation']))\n",
    "# ax[1].scatter(np.array(illh[\"Separation\"])[illhmask], np.array(illh[\"RelVel\"])[illhmask])\n",
    "\n",
    "# darkseps = sim['dark']['dwarf'][\"Separation\"]\n",
    "# darkvels = sim['dark']['dwarf'][\"RelVel\"]\n",
    "\n",
    "# hydroseps = sim['hydro']['dwarf'][\"Separation\"]\n",
    "# hydrovels = sim['hydro']['dwarf'][\"RelVel\"]\n",
    "\n",
    "# ax[0].scatter(darkseps, darkvels,label=simNames[ind],color=palette[simNames[ind]])\n",
    "# ax[1].scatter(hydroseps, hydrovels,label=simNames[ind],color=palette[simNames[ind]])\n",
    "\n",
    "# ax[0].scatter(darkseps[darkmask], darkvels[darkmask],color='black')\n",
    "# ax[1].scatter(hydroseps[hydromask], hydrovels[hydromask],color='black')\n",
    "\n",
    "# for i in ax:\n",
    "#     i.set_xlim(0,800)e\n",
    "#     i.set_xlabel(\"Separation [kpc]\")\n",
    "    \n",
    "# ax[0].legend(loc=\"upper right\")\n",
    "# ax[0].set_ylabel(\"Relative velocity [km/s]\")\n",
    "# ax[0].set_xlabel(\"Separation [kpc]\")\n",
    "# ax[1].set_xlabel(\"Separation [kpc]\")\n",
    "\n",
    "plt.show()\n"
   ]
  },
  {
   "cell_type": "code",
   "execution_count": null,
   "id": "c6022c47",
   "metadata": {},
   "outputs": [],
   "source": []
  },
  {
   "cell_type": "code",
   "execution_count": null,
   "id": "83901c78",
   "metadata": {},
   "outputs": [],
   "source": []
  },
  {
   "cell_type": "code",
   "execution_count": 10,
   "id": "82887fd0",
   "metadata": {},
   "outputs": [],
   "source": [
    "snapshot = 99\n",
    "sim = \"TNG\"\n",
    "num_reals = 10\n",
    "\n",
    "paths = SetupPaths()\n",
    "\n",
    "## find subhalos for this simulation and snapshot #\n",
    "pair_path = f\"{sim}_{snapshot}_{num_reals}.hdf5\"\n",
    "pair_data = h5py.File(f\"{paths.path_pairs}{pair_path}\", \"r\")\n",
    "\n",
    "# savepath = f\"{sim}_{snapshot}_{num_reals}_matched.hdf5\"\n",
    "# f = h5py.File(f\"{paths.path_pairs}{savepath}\", 'w')\n",
    "\n",
    "redshift = pair_data[\"Header\"].attrs[\"Redshift\"]\n",
    "scale = 1 / (1 + redshift)\n",
    "\n",
    "units_dict = {\n",
    "      ### Group info\n",
    "    \"Group ID\":\"Group Number in Subfind Catalogs\", \n",
    "    \"Group Mass\":\"Physical mass from Group_M_TopHat200 -- 1e10 Msun\",\n",
    "    \"Group Radius\":\"Physical radius from Group_R_TopHat200 -- kpc\",\n",
    "    \"Group Nsubs\":\"Number of subhalos in group\",\n",
    "      ### Subhalo info\n",
    "    \"Sub1 ID\":  \"Subhalo ID at current snapshot\",\n",
    "    \"Sub2 ID\":  \"Subhalo ID at current snapshot\",\n",
    "    \"Sub1 Mass\": \"Subhalo mass at current snapshot -- 1e10 Msun\",\n",
    "    \"Sub2 Mass\": \"Subhalo mass at current snapshot -- 1e10 Msun\",\n",
    "    \"Sub1 Stellar Mass\": \"Stellar masses from abundance matching -- 1e10 Msun\",\n",
    "    \"Sub2 Stellar Mass\": \"Stellar masses from abundance matching -- 1e10 Msun\",\n",
    "    \"Sub1 Pos\": \"Subhalo physical position in box x,y,z -- kpc\",\n",
    "    \"Sub2 Pos\": \"Subhalo physical position in box x,y,z -- kpc\",\n",
    "    \"Sub1 Vel\": \"Subhalo velocity in vx, vy, vz -- km/s\",\n",
    "    \"Sub2 Vel\": \"Subhalo velocity in vx, vy, vz -- km/s\",\n",
    "    \"Sub1 MassType\": \"Mass of bound particles - gas, DM, empty, tracers, stars, BHs -- in 1e10 Msun\",\n",
    "    \"Sub2 MassType\": \"Mass of bound particles - gas, DM, empty, tracers, stars, BHs -- in 1e10 Msun\",\n",
    "    \"Sub1 BHMass\": \"Sum of the masses of all blackholes -- 1e10 Msun\",\n",
    "    \"Sub2 BHMass\": \"Sum of the masses of all blackholes -- 1e10 Msun\",\n",
    "    \"Sub1 BHMdot\": \"Instantaneous accretion rates of all blackholes -- 1e10 Msun / 0.978Gyr\",\n",
    "    \"Sub2 BHMdot\": \"Instantaneous accretion rates of all blackholes -- 1e10 Msun / 0.978Gyr\",\n",
    "    \"Sub1 SFR\": \"Sum of the individual SFRs of all gas cells in subhalo -- Msun / yr\",\n",
    "    \"Sub2 SFR\": \"Sum of the individual SFRs of all gas cells in subhalo -- Msun / yr\",\n",
    "    \"Sub1 SFRinRad\": \"Sum of SFRs of all gas cells within twice the stellar half mass radius -- Msun / yr\",\n",
    "    \"Sub2 SFRinRad\": \"Sum of SFRs of all gas cells within twice the stellar half mass radius -- Msun / yr\",\n",
    "    \"Sub1 GasMetallicity\": \"Mz/Mtot, where Z = any element above He within 2x stellar half mass radius -- unitless\",\n",
    "    \"Sub2 GasMetallicity\": \"Mz/Mtot, where Z = any element above He within 2x stellar half mass radius -- unitless\",\n",
    "      ### Relative vals\n",
    "    \"Separation\": \"Physical separation between primary and secondary in kpc\",\n",
    "    \"Comoving Separation\":\"Comoving separation between primary and secondary in ckpc\",\n",
    "    \"RelVel\": \"Relative velocity between primary and secondary in km/s\",\n",
    "    \"Stellar Mass Ratio\": \"Stellar mass ratio of secondary over primary\", # in this case- it's by primary subhalo mass\n",
    "    \"Realization\": \"Stellar mass realization (0-1000)\",\n",
    "    \"TripleFlag\": \"0 if no tertiary with mass ratio > 1:10 of secondary, 1 if large tertiary, 2 if other problem occurred\"\n",
    "    }\n",
    "\n",
    "# #create header with simulation info\n",
    "# header_dict = {\"Snapshot\":snapshot,\n",
    "#         \"Redshift\":redshift,\n",
    "#         \"Simulation\":sim}\n",
    "\n",
    "# dset = f.create_group('/Header')\n",
    "# for key in header_dict.keys():\n",
    "#     dset.attrs[key] = header_dict[key]\n",
    "\n",
    "# f.close()\n",
    "\n",
    "#########################\n",
    "# open matched catalogs #\n",
    "#########################\n",
    "\n",
    "match_Npath = h5py.File(f\"{paths.path_tngmatch_N}\", \"r\")\n",
    "matchedN = match_Npath[f'Snapshot_{snapshot}']\n",
    "darkidsN = np.array(matchedN['SubhaloIndexDark_SubLink'])\n",
    "\n",
    "matchedV = h5py.File(f\"{paths.path_tngmatch_V}dm_match_{str(snapshot).zfill(3)}.hdf5\", \"r\")\n",
    "darkidsV = np.array(matchedV[\"IndexTo\"])\n",
    "hydroidsV = np.array(matchedV[\"IndexFrom\"])\n",
    "\n",
    "################################################################\n",
    "# open and create arrays of the subhalo data for fast indexing #\n",
    "################################################################\n",
    "subhalo_path = f\"{sim}_{snapshot}.hdf5\"\n",
    "subhalo_data = h5py.File(f\"{paths.path_subhalos}{subhalo_path}\", \"r\")\n",
    "\n",
    "dark_subhalo_dict = {}\n",
    "for key,val in subhalo_data[\"dark\"].items():\n",
    "    dark_subhalo_dict[key] = np.array(val)\n",
    "\n",
    "\n",
    "##################################\n",
    "# start with the unpaired halos! #\n",
    "##################################\n",
    "\n",
    "unpaired = pair_data['unpaired'][\"hydro\"]\n",
    "\n",
    "unpair_hydro = {}\n",
    "unpair_hydro = {\"Group ID\": [],\n",
    "             \"Group Mass\": [],\n",
    "             \"Group Radius\": [],\n",
    "             \"Group Nsubs\": [],\n",
    "             \"Sub1 ID\": [],\n",
    "             \"Sub1 Mass\": [],\n",
    "             \"Sub1 Stellar Mass\": [],\n",
    "             \"Sub1 Pos\": [],\n",
    "             \"Sub1 Vel\": [],\n",
    "             \"Sub1 MassType\": [],\n",
    "             \"Sub1 BHMass\": [],\n",
    "             \"Sub1 BHMdot\": [],\n",
    "             \"Sub1 SFR\": [],\n",
    "             \"Sub1 SFRinRad\": [],\n",
    "             \"Sub1 GasMetallicity\": [],\n",
    "             \"Realization\":[]}\n",
    "unpair_dark_N = {}\n",
    "unpair_dark_V = {}\n",
    "for key in unpair_hydro.keys():\n",
    "    unpair_dark_N[key] = []\n",
    "    unpair_dark_V[key] = []\n",
    "\n",
    "\n",
    "## create a dictionary of arrays from subhalo data\n",
    "unpair_dictionary = {}\n",
    "for key,val in unpaired.items():\n",
    "    unpair_dictionary[key] = np.array(val)\n",
    "    \n",
    "for index in range(len(unpair_dictionary['Sub1 ID']))[0:10]:\n",
    "    \n",
    "    id_hydro = unpair_dictionary['Sub1 ID'][index]\n",
    "\n",
    "    hydro_single = {}\n",
    "    for key in unpair_hydro.keys():\n",
    "        hydro_single[key] = unpair_dictionary[key][index]\n",
    "\n",
    "    real = hydro_single[\"Realization\"]\n",
    "    \n",
    "        ## check if the hydro subhalo has a match in dark\n",
    "    if id_hydro not in hydroidsV:\n",
    "        print(f\"{id_hydro} not in Vicente catalog\")\n",
    "        continue\n",
    "        \n",
    "    id_dark_V = darkidsV[np.where(hydroidsV == id_hydro)[0][0]]\n",
    "    \n",
    "    if id_dark_V not in dark_subhalo_dict[\"Subhalo ID\"]:\n",
    "        print(f\"{id_dark_V} is not in dark catalog\")\n",
    "        continue\n",
    "        \n",
    "    dark_single_V = {}\n",
    "    index_V = np.where(dark_subhalo_dict['Subhalo ID'] == id_dark_V)[0][0]\n",
    "    \n",
    "    if real == -1:\n",
    "        dark_V_stell = dark_subhalo_dict['Subhalo Med Stellar Mass'][index_V]\n",
    "    else:\n",
    "        dark_V_stell = dark_subhalo_dict['Subhalo Stellar Masses'][index_V][real]\n",
    "    \n",
    "    dark_single_V = {\"Group ID\": dark_subhalo_dict['Group ID'][index_V],\n",
    "                     \"Group Mass\": dark_subhalo_dict['Group Mass'][index_V],\n",
    "                     \"Group Radius\": dark_subhalo_dict[\"Group Radius\"][index_V],\n",
    "                     \"Group Nsubs\": dark_subhalo_dict['Nsubs'][index_V],\n",
    "                     \"Sub1 ID\": dark_subhalo_dict['Subhalo ID'][index_V],\n",
    "                     \"Sub1 Mass\": dark_subhalo_dict['Subhalo Mass'][index_V],\n",
    "                     \"Sub1 Stellar Mass\": dark_V_stell,\n",
    "                     \"Sub1 Pos\": dark_subhalo_dict['Subhalo Pos'][index_V],\n",
    "                     \"Sub1 Vel\": dark_subhalo_dict['Subhalo Vel'][index_V],\n",
    "                     \"Sub1 MassType\": dark_subhalo_dict['SubhaloMassType'][index_V],\n",
    "                     \"Sub1 BHMass\": 0,\n",
    "                     \"Sub1 BHMdot\": 0,\n",
    "                     \"Sub1 SFR\": 0,\n",
    "                     \"Sub1 SFRinRad\": 0,\n",
    "                     \"Sub1 GasMetallicity\": 0,\n",
    "                     \"Realization\":hydro_single[\"Realization\"]}"
   ]
  },
  {
   "cell_type": "code",
   "execution_count": 39,
   "id": "75a36f62",
   "metadata": {},
   "outputs": [
    {
     "data": {
      "text/plain": [
       "{'Group ID': 2925,\n",
       " 'Group Mass': 82.53690518564203,\n",
       " 'Group Radius': 247.27966921287964,\n",
       " 'Group Nsubs': 24,\n",
       " 'Sub1 ID': 756686,\n",
       " 'Sub1 Mass': 79.30235275660499,\n",
       " 'Sub1 Stellar Mass': 3.2509370093257686,\n",
       " 'Sub1 Pos': array([ 4437.15422422, 43882.34195084, 88460.05291371]),\n",
       " 'Sub1 Vel': array([265.91204834, 213.7776947 ,  72.82470703]),\n",
       " 'Sub1 MassType': array([ 0.        , 79.30235276,  0.        ,  0.        ,  0.        ,\n",
       "         0.        ]),\n",
       " 'Sub1 BHMass': 0,\n",
       " 'Sub1 BHMdot': 0,\n",
       " 'Sub1 SFR': 0,\n",
       " 'Sub1 SFRinRad': 0,\n",
       " 'Sub1 GasMetallicity': 0,\n",
       " 'Realization': 8}"
      ]
     },
     "execution_count": 39,
     "metadata": {},
     "output_type": "execute_result"
    }
   ],
   "source": [
    "dark_single_V"
   ]
  },
  {
   "cell_type": "code",
   "execution_count": 11,
   "id": "63f98a5c",
   "metadata": {},
   "outputs": [
    {
     "data": {
      "text/plain": [
       "(array([], dtype=int64),)"
      ]
     },
     "execution_count": 11,
     "metadata": {},
     "output_type": "execute_result"
    }
   ],
   "source": [
    "np.where(hydroidsV == id_hydro)"
   ]
  },
  {
   "cell_type": "code",
   "execution_count": 5,
   "id": "7e37c505",
   "metadata": {},
   "outputs": [],
   "source": [
    "pair_path = f\"TNG_99_10.hdf5\"\n",
    "pair_data = h5py.File(f\"{paths.path_pairs}{pair_path}\", \"r\")\n"
   ]
  },
  {
   "cell_type": "code",
   "execution_count": 6,
   "id": "3c05ed13",
   "metadata": {},
   "outputs": [],
   "source": [
    "unpaired = pair_data['unpaired'][\"hydro\"]\n",
    "snapshot = 99"
   ]
  },
  {
   "cell_type": "code",
   "execution_count": 7,
   "id": "3ba315ee",
   "metadata": {},
   "outputs": [],
   "source": [
    "match_Npath = h5py.File(f\"{paths.path_tngmatch_N}\", \"r\")\n",
    "matchedN = match_Npath[f'Snapshot_{snapshot}']\n",
    "darkidsN = np.array(matchedN['SubhaloIndexDark_SubLink'])\n",
    "\n",
    "matchedV = h5py.File(f\"{paths.path_tngmatch_V}dm_match_{str(snapshot).zfill(3)}.hdf5\", \"r\")\n",
    "darkidsV = np.array(matchedV[\"IndexTo\"])\n",
    "hydroidsV = np.array(matchedV[\"IndexFrom\"])"
   ]
  },
  {
   "cell_type": "code",
   "execution_count": 8,
   "id": "aa99468e",
   "metadata": {},
   "outputs": [],
   "source": [
    "unpaired = pair_data['unpaired'][\"hydro\"]\n",
    "\n",
    "unpair_hydro = {}\n",
    "unpair_hydro = {\"Group ID\": [],\n",
    "             \"Group Mass\": [],\n",
    "             \"Group Radius\": [],\n",
    "             \"Group Nsubs\": [],\n",
    "             \"Sub1 ID\": [],\n",
    "             \"Sub1 Mass\": [],\n",
    "             \"Sub1 Stellar Mass\": [],\n",
    "             \"Sub1 Pos\": [],\n",
    "             \"Sub1 Vel\": [],\n",
    "             \"Sub1 MassType\": [],\n",
    "             \"Sub1 BHMass\": [],\n",
    "             \"Sub1 BHMdot\": [],\n",
    "             \"Sub1 SFR\": [],\n",
    "             \"Sub1 SFRinRad\": [],\n",
    "             \"Sub1 GasMetallicity\": [],\n",
    "             \"Realization\":[]}\n",
    "unpair_dark_N = {}\n",
    "unpair_dark_V = {}\n",
    "for key in unpair_hydro.keys():\n",
    "    unpair_dark_N[key] = []\n",
    "    unpair_dark_V[key] = []"
   ]
  },
  {
   "cell_type": "code",
   "execution_count": 12,
   "id": "21f79764",
   "metadata": {},
   "outputs": [],
   "source": [
    "subhalo_path = f\"TNG_99.hdf5\"\n",
    "subhalo_data = h5py.File(f\"{paths.path_subhalos}{subhalo_path}\", \"r\")\n",
    "\n",
    "subhalo_dictionary = {}\n",
    "for key,val in subhalo_data[\"dark\"].items():\n",
    "    subhalo_dictionary[key] = np.array(val)"
   ]
  },
  {
   "cell_type": "code",
   "execution_count": 13,
   "id": "e8566e2e",
   "metadata": {},
   "outputs": [
    {
     "data": {
      "text/plain": [
       "{'Group ID': array([  242,   242,   242, ..., 24256, 24256, 24469], dtype=int32),\n",
       " 'Group Mass': array([438.93913762, 438.93913762, 438.93913762, ...,   8.02172719,\n",
       "          8.02172719,   8.00224191]),\n",
       " 'Group Radius': array([431.61969428, 431.61969428, 431.61969428, ..., 113.68764196,\n",
       "        113.68764196, 113.59342897]),\n",
       " 'Nsubs': array([595, 595, 595, ...,   5,   5,   1], dtype=int32),\n",
       " 'Subhalo ID': array([468639, 468640, 468641, ..., 991783, 991784, 992862]),\n",
       " 'Subhalo Mass': array([3.54460791e+02, 2.64153696e+02, 6.39470812e+01, ...,\n",
       "        1.89538437e-01, 1.08940324e-01, 7.20334680e+00]),\n",
       " 'Subhalo Max Mass': array([380.49933  , 281.04123  ,  64.37842  , ...,   0.534959 ,\n",
       "          0.4065334,   9.8126   ], dtype=float32),\n",
       " 'Subhalo Max Mass Snap': array([98, 95, 82, ..., 87, 81, 46], dtype=int16),\n",
       " 'Subhalo Med Stellar Mass': array([6.60499138e+00, 5.81391906e+00, 2.43193012e+00, ...,\n",
       "        1.03014584e-04, 5.36609956e-05, 9.71880156e-02]),\n",
       " 'Subhalo Pos': array([[ 1714.24039036, 81114.05396553, 61508.36378063],\n",
       "        [  869.59519005, 80023.11226749, 60788.08334256],\n",
       "        [ 1091.29588936, 80871.5885186 , 61055.02195896],\n",
       "        ...,\n",
       "        [28655.95648343, 44426.41153214, 65256.24746273],\n",
       "        [28659.57210013, 44475.67503045, 65207.23769191],\n",
       "        [45424.93875941, 97492.57270446, 77807.30435304]]),\n",
       " 'Subhalo Stellar Masses': array([[7.02284388e+00, 6.87399173e+00, 5.34913498e+00, ...,\n",
       "         1.60005429e+01, 8.63937577e+00, 6.45832889e+00],\n",
       "        [5.54952052e+00, 3.45660760e+00, 4.48886015e+00, ...,\n",
       "         4.25506891e+00, 4.40621715e+00, 4.51419155e+00],\n",
       "        [1.54801745e+00, 2.01332647e+00, 1.61336904e+00, ...,\n",
       "         2.18947204e+00, 1.88091932e+00, 2.68936434e+00],\n",
       "        ...,\n",
       "        [4.22378352e-04, 2.03929122e-04, 1.53235319e-04, ...,\n",
       "         2.27508982e-04, 3.84843944e-04, 4.25852695e-04],\n",
       "        [6.42753872e-05, 3.89283991e-05, 2.15215209e-05, ...,\n",
       "         2.42736447e-05, 1.64897294e-05, 3.66653251e-05],\n",
       "        [7.88695298e-02, 9.38194940e-02, 1.63834983e-01, ...,\n",
       "         2.55890443e-02, 1.01248345e-01, 2.61718216e-01]]),\n",
       " 'Subhalo Vel': array([[  31.66826057, -194.05180359,  279.99279785],\n",
       "        [  -4.4475832 , -314.88262939,  248.14640808],\n",
       "        [ 118.76712036,   40.66407776,  264.31063843],\n",
       "        ...,\n",
       "        [ 282.69088745,  233.35116577,  -86.99317169],\n",
       "        [ 355.41323853,  178.03935242, -110.53878021],\n",
       "        [   4.12549305, -323.01751709,  -55.1840744 ]]),\n",
       " 'SubhaloMassType': array([[0.00000000e+00, 3.54460791e+02, 0.00000000e+00, 0.00000000e+00,\n",
       "         0.00000000e+00, 0.00000000e+00],\n",
       "        [0.00000000e+00, 2.64153696e+02, 0.00000000e+00, 0.00000000e+00,\n",
       "         0.00000000e+00, 0.00000000e+00],\n",
       "        [0.00000000e+00, 6.39470812e+01, 0.00000000e+00, 0.00000000e+00,\n",
       "         0.00000000e+00, 0.00000000e+00],\n",
       "        ...,\n",
       "        [0.00000000e+00, 1.89538437e-01, 0.00000000e+00, 0.00000000e+00,\n",
       "         0.00000000e+00, 0.00000000e+00],\n",
       "        [0.00000000e+00, 1.08940324e-01, 0.00000000e+00, 0.00000000e+00,\n",
       "         0.00000000e+00, 0.00000000e+00],\n",
       "        [0.00000000e+00, 7.20334680e+00, 0.00000000e+00, 0.00000000e+00,\n",
       "         0.00000000e+00, 0.00000000e+00]])}"
      ]
     },
     "execution_count": 13,
     "metadata": {},
     "output_type": "execute_result"
    }
   ],
   "source": [
    "subhalo_dictionary"
   ]
  },
  {
   "cell_type": "markdown",
   "id": "2f7efead",
   "metadata": {},
   "source": [
    "___"
   ]
  },
  {
   "cell_type": "markdown",
   "id": "6d50bba8",
   "metadata": {},
   "source": [
    "Goal:\n",
    "\n",
    "We have a collection of halo pairs in hydro, in dark, and we'd like to pull out the subsample of hydro that have matches in dark. \n",
    "\n",
    "Want: major and minor pairs, primary data, dwarf, massive, etc."
   ]
  },
  {
   "cell_type": "code",
   "execution_count": 4,
   "id": "bd3e7399",
   "metadata": {},
   "outputs": [],
   "source": [
    "# make functions to get data at the requested snapshot\n",
    "def get_primmask(primstells, size):\n",
    "    if size == \"dwarf\":\n",
    "        mask = (primstells > 0.01) & (primstells < 0.5)\n",
    "    elif size == \"massive\":\n",
    "        mask = (primstells > 0.5) & (primstells < 10)\n",
    "    return mask\n",
    "\n",
    "def get_groupmask(groupmass, size):\n",
    "    if size == \"dwarf\":\n",
    "        mask = (groupmass > 8) & (groupmass < 50)\n",
    "    elif size == \"massive\":\n",
    "        mask = (groupmass > 100) & (groupmass < 650)\n",
    "    return mask"
   ]
  },
  {
   "cell_type": "markdown",
   "id": "6c9af1c2",
   "metadata": {},
   "source": [
    "# Start by getting ids for TNG hydro snap 99 dwarf primaries"
   ]
  },
  {
   "cell_type": "code",
   "execution_count": 5,
   "id": "27e51009",
   "metadata": {},
   "outputs": [],
   "source": [
    "sim = \"TNG\"\n",
    "snap = 99\n",
    "phys = \"hydro\"\n",
    "size = \"dwarf\""
   ]
  },
  {
   "cell_type": "code",
   "execution_count": 6,
   "id": "fbc097ec",
   "metadata": {
    "code_folding": []
   },
   "outputs": [],
   "source": [
    "pair_path = f\"{sim}_{snap}_100.hdf5\"\n",
    "pair_data = h5py.File(f\"{paths.path_pairs}{pair_path}\", \"r\")\n"
   ]
  },
  {
   "cell_type": "markdown",
   "id": "74a14689",
   "metadata": {},
   "source": [
    "make catalog of all unpaired primaries:"
   ]
  },
  {
   "cell_type": "code",
   "execution_count": 7,
   "id": "2ab7d32c",
   "metadata": {},
   "outputs": [
    {
     "data": {
      "text/plain": [
       "<KeysViewHDF5 ['Group ID', 'Group Mass', 'Group Nsubs', 'Group Radius', 'Realization', 'Sub1 BHMass', 'Sub1 BHMdot', 'Sub1 GasMetallicity', 'Sub1 ID', 'Sub1 Mass', 'Sub1 MassType', 'Sub1 Pos', 'Sub1 SFR', 'Sub1 SFRinRad', 'Sub1 Stellar Mass', 'Sub1 Vel']>"
      ]
     },
     "execution_count": 7,
     "metadata": {},
     "output_type": "execute_result"
    }
   ],
   "source": [
    "pair_data['unpaired'][phys].keys()"
   ]
  },
  {
   "cell_type": "code",
   "execution_count": 8,
   "id": "f8f97a35",
   "metadata": {},
   "outputs": [],
   "source": [
    "subids = np.array(pair_data['unpaired'][phys]['Sub1 ID'])\n",
    "grmass = np.array(pair_data['unpaired'][phys]['Group Mass'])\n",
    "stmass = np.array(pair_data['unpaired'][phys]['Sub1 Stellar Mass'])\n"
   ]
  },
  {
   "cell_type": "code",
   "execution_count": 9,
   "id": "5b83d9c4",
   "metadata": {},
   "outputs": [],
   "source": [
    "grmask = get_groupmask(grmass, size)        \n",
    "stmask = get_primmask(stmass, size)\n",
    "\n",
    "totmask = stmask & grmask"
   ]
  },
  {
   "cell_type": "code",
   "execution_count": 10,
   "id": "9d9b10a8",
   "metadata": {},
   "outputs": [],
   "source": [
    "ids_pass = subids[totmask]"
   ]
  },
  {
   "cell_type": "code",
   "execution_count": 11,
   "id": "58b6faf6",
   "metadata": {},
   "outputs": [
    {
     "data": {
      "text/plain": [
       "array([569290, 569827, 571131, ..., 718824, 718824, 718824])"
      ]
     },
     "execution_count": 11,
     "metadata": {},
     "output_type": "execute_result"
    }
   ],
   "source": [
    "ids_pass"
   ]
  },
  {
   "cell_type": "code",
   "execution_count": 12,
   "id": "6a65ce7e",
   "metadata": {},
   "outputs": [],
   "source": [
    "matchedN = h5py.File(f\"../../IllustrisTNG/TNG100-Matched-Nelson/subhalo_matching_to_dark.hdf5\", \"r\")\n",
    "darkidsN = np.array(matchedN['Snapshot_99']['SubhaloIndexDark_SubLink'])\n",
    "dark_ids_passN = darkidsN[ids_pass]"
   ]
  },
  {
   "cell_type": "code",
   "execution_count": 14,
   "id": "7abfd88e",
   "metadata": {},
   "outputs": [
    {
     "data": {
      "text/plain": [
       "<KeysViewHDF5 ['IndexFrom', 'IndexTo']>"
      ]
     },
     "execution_count": 14,
     "metadata": {},
     "output_type": "execute_result"
    }
   ],
   "source": [
    "matchedV = h5py.File(f\"../../IllustrisTNG/TNG100-Matched-V/dm_match_099.hdf5\", \"r\")\n",
    "matchedV.keys()"
   ]
  },
  {
   "cell_type": "markdown",
   "id": "1d82600c",
   "metadata": {},
   "source": [
    "\"IndexTo\" is the DMO subhalo ID\n",
    "\n",
    "\"IndexFrom\" is the hydro ID"
   ]
  },
  {
   "cell_type": "code",
   "execution_count": 57,
   "id": "d23ea117",
   "metadata": {},
   "outputs": [],
   "source": [
    "darkidsV = np.array(matchedV[\"IndexTo\"])\n",
    "hydroidsV = np.array(matchedV[\"IndexFrom\"])\n",
    "\n",
    "# Vicente catalog will skip indices of halos, so IndexFrom will give you the hydro ID, but the hydroID != the index. \n",
    "# I have a list of indices, so I need to find the corresponding index in hydroidsV:\n",
    "hydroidsmask = hydroidsV.searchsorted(ids_pass)\n",
    "\n",
    "dark_ids_passV = darkidsV[hydroidsmask]"
   ]
  },
  {
   "cell_type": "markdown",
   "id": "553e3848",
   "metadata": {},
   "source": [
    "Remember that I should save the fraction of matched halos (len(ids_pass)-np.sum( dark_ids_pass == -1 ))/(len(ids_pass))"
   ]
  },
  {
   "cell_type": "code",
   "execution_count": 69,
   "id": "845387e2",
   "metadata": {},
   "outputs": [
    {
     "data": {
      "text/plain": [
       "array([817812, 809420, 808348, 811542, 811542, 803611, 800305, 805889,\n",
       "       805889, 807630], dtype=int32)"
      ]
     },
     "execution_count": 69,
     "metadata": {},
     "output_type": "execute_result"
    }
   ],
   "source": [
    "dark_ids_passN[0:10]"
   ]
  },
  {
   "cell_type": "code",
   "execution_count": 70,
   "id": "048cdfe9",
   "metadata": {},
   "outputs": [
    {
     "data": {
      "text/plain": [
       "array([817812, 809420, 808348, 811542, 811542, 803611, 800305, 805889,\n",
       "       805889, 807630], dtype=int32)"
      ]
     },
     "execution_count": 70,
     "metadata": {},
     "output_type": "execute_result"
    }
   ],
   "source": [
    "dark_ids_passV[0:10]"
   ]
  },
  {
   "cell_type": "code",
   "execution_count": 63,
   "id": "eb3ea888",
   "metadata": {},
   "outputs": [
    {
     "data": {
      "text/plain": [
       "101"
      ]
     },
     "execution_count": 63,
     "metadata": {},
     "output_type": "execute_result"
    }
   ],
   "source": [
    "sum(dark_ids_passV!=dark_ids_passN)"
   ]
  },
  {
   "cell_type": "markdown",
   "id": "6e510b62",
   "metadata": {},
   "source": [
    "___"
   ]
  },
  {
   "cell_type": "markdown",
   "id": "61f13f0d",
   "metadata": {},
   "source": [
    "___"
   ]
  },
  {
   "cell_type": "code",
   "execution_count": 23,
   "id": "7468ce1d",
   "metadata": {},
   "outputs": [
    {
     "data": {
      "text/plain": [
       "30"
      ]
     },
     "execution_count": 23,
     "metadata": {},
     "output_type": "execute_result"
    }
   ],
   "source": [
    "_"
   ]
  },
  {
   "cell_type": "code",
   "execution_count": 26,
   "id": "ac504914",
   "metadata": {},
   "outputs": [
    {
     "data": {
      "text/plain": [
       "nan"
      ]
     },
     "execution_count": 26,
     "metadata": {},
     "output_type": "execute_result"
    }
   ],
   "source": [
    "sum(np.array([0,1,2,3,np.nan]))"
   ]
  },
  {
   "cell_type": "code",
   "execution_count": 18,
   "id": "ce643f97",
   "metadata": {},
   "outputs": [
    {
     "name": "stdout",
     "output_type": "stream",
     "text": [
      "Please enter a number: 1\n",
      "Please enter a number: 3\n",
      "Please enter a number: x\n",
      "Oops!  That was no valid number.  Try again...\n"
     ]
    },
    {
     "ename": "KeyboardInterrupt",
     "evalue": "Interrupted by user",
     "output_type": "error",
     "traceback": [
      "\u001b[0;31m---------------------------------------------------------------------------\u001b[0m",
      "\u001b[0;31mKeyboardInterrupt\u001b[0m                         Traceback (most recent call last)",
      "Cell \u001b[0;32mIn [18], line 5\u001b[0m\n\u001b[1;32m      1\u001b[0m \u001b[38;5;28;01mwhile\u001b[39;00m \u001b[38;5;28;01mTrue\u001b[39;00m:\n\u001b[1;32m      3\u001b[0m     \u001b[38;5;28;01mtry\u001b[39;00m:\n\u001b[0;32m----> 5\u001b[0m         x \u001b[38;5;241m=\u001b[39m \u001b[38;5;28mint\u001b[39m(\u001b[38;5;28;43minput\u001b[39;49m\u001b[43m(\u001b[49m\u001b[38;5;124;43m\"\u001b[39;49m\u001b[38;5;124;43mPlease enter a number: \u001b[39;49m\u001b[38;5;124;43m\"\u001b[39;49m\u001b[43m)\u001b[49m)\n\u001b[1;32m      7\u001b[0m         \u001b[38;5;28;01mcontinue\u001b[39;00m\n\u001b[1;32m      9\u001b[0m     \u001b[38;5;28;01mexcept\u001b[39;00m \u001b[38;5;167;01mValueError\u001b[39;00m:\n",
      "File \u001b[0;32m~/.conda/envs/tart/lib/python3.8/site-packages/ipykernel/kernelbase.py:848\u001b[0m, in \u001b[0;36mKernel.raw_input\u001b[0;34m(self, prompt)\u001b[0m\n\u001b[1;32m    844\u001b[0m \u001b[38;5;28;01mif\u001b[39;00m \u001b[38;5;129;01mnot\u001b[39;00m \u001b[38;5;28mself\u001b[39m\u001b[38;5;241m.\u001b[39m_allow_stdin:\n\u001b[1;32m    845\u001b[0m     \u001b[38;5;28;01mraise\u001b[39;00m StdinNotImplementedError(\n\u001b[1;32m    846\u001b[0m         \u001b[38;5;124m\"\u001b[39m\u001b[38;5;124mraw_input was called, but this frontend does not support input requests.\u001b[39m\u001b[38;5;124m\"\u001b[39m\n\u001b[1;32m    847\u001b[0m     )\n\u001b[0;32m--> 848\u001b[0m \u001b[38;5;28;01mreturn\u001b[39;00m \u001b[38;5;28;43mself\u001b[39;49m\u001b[38;5;241;43m.\u001b[39;49m\u001b[43m_input_request\u001b[49m\u001b[43m(\u001b[49m\u001b[38;5;28;43mstr\u001b[39;49m\u001b[43m(\u001b[49m\u001b[43mprompt\u001b[49m\u001b[43m)\u001b[49m\u001b[43m,\u001b[49m\n\u001b[1;32m    849\u001b[0m \u001b[43m    \u001b[49m\u001b[38;5;28;43mself\u001b[39;49m\u001b[38;5;241;43m.\u001b[39;49m\u001b[43m_parent_ident\u001b[49m\u001b[43m,\u001b[49m\n\u001b[1;32m    850\u001b[0m \u001b[43m    \u001b[49m\u001b[38;5;28;43mself\u001b[39;49m\u001b[38;5;241;43m.\u001b[39;49m\u001b[43m_parent_header\u001b[49m\u001b[43m,\u001b[49m\n\u001b[1;32m    851\u001b[0m \u001b[43m    \u001b[49m\u001b[43mpassword\u001b[49m\u001b[38;5;241;43m=\u001b[39;49m\u001b[38;5;28;43;01mFalse\u001b[39;49;00m\u001b[43m,\u001b[49m\n\u001b[1;32m    852\u001b[0m \u001b[43m\u001b[49m\u001b[43m)\u001b[49m\n",
      "File \u001b[0;32m~/.conda/envs/tart/lib/python3.8/site-packages/ipykernel/kernelbase.py:892\u001b[0m, in \u001b[0;36mKernel._input_request\u001b[0;34m(self, prompt, ident, parent, password)\u001b[0m\n\u001b[1;32m    889\u001b[0m             \u001b[38;5;28;01mbreak\u001b[39;00m\n\u001b[1;32m    890\u001b[0m \u001b[38;5;28;01mexcept\u001b[39;00m \u001b[38;5;167;01mKeyboardInterrupt\u001b[39;00m:\n\u001b[1;32m    891\u001b[0m     \u001b[38;5;66;03m# re-raise KeyboardInterrupt, to truncate traceback\u001b[39;00m\n\u001b[0;32m--> 892\u001b[0m     \u001b[38;5;28;01mraise\u001b[39;00m \u001b[38;5;167;01mKeyboardInterrupt\u001b[39;00m(\u001b[38;5;124m\"\u001b[39m\u001b[38;5;124mInterrupted by user\u001b[39m\u001b[38;5;124m\"\u001b[39m) \u001b[38;5;28;01mfrom\u001b[39;00m \u001b[38;5;28mNone\u001b[39m\n\u001b[1;32m    893\u001b[0m \u001b[38;5;28;01mexcept\u001b[39;00m \u001b[38;5;167;01mException\u001b[39;00m \u001b[38;5;28;01mas\u001b[39;00m e:\n\u001b[1;32m    894\u001b[0m     \u001b[38;5;28mself\u001b[39m\u001b[38;5;241m.\u001b[39mlog\u001b[38;5;241m.\u001b[39mwarning(\u001b[38;5;124m\"\u001b[39m\u001b[38;5;124mInvalid Message:\u001b[39m\u001b[38;5;124m\"\u001b[39m, exc_info\u001b[38;5;241m=\u001b[39m\u001b[38;5;28;01mTrue\u001b[39;00m)\n",
      "\u001b[0;31mKeyboardInterrupt\u001b[0m: Interrupted by user"
     ]
    }
   ],
   "source": [
    "while True:\n",
    "\n",
    "    try:\n",
    "\n",
    "        x = int(input(\"Please enter a number: \"))\n",
    "\n",
    "        continue\n",
    "\n",
    "    except ValueError:\n",
    "\n",
    "        print(\"Oops!  That was no valid number.  Try again...\")"
   ]
  },
  {
   "cell_type": "code",
   "execution_count": null,
   "id": "d331d518",
   "metadata": {
    "code_folding": [
     157,
     282,
     398
    ]
   },
   "outputs": [],
   "source": [
    " \n",
    "    redshifts, numAll, numPri, numMaj, numMin = [], [], [], [], []\n",
    "    fracAll, fracMaj, fracMin = [], [], []\n",
    "    quartAll, quartPri, quartMaj, quartMin = [], [], [], []\n",
    "    quartfracAll, quartfracMaj, quartfracMin = [], [], []\n",
    "    \n",
    "    sepcut = kwargs.pop('sepcut',None)\n",
    "       \n",
    "    for snap in snapshots:  \n",
    "        try:\n",
    "            \n",
    "            \n",
    "            if np.size(pair_data) == 0:\n",
    "                raise EmptyFile\n",
    "                \n",
    "            redshift = pair_data['Header'].attrs['Redshift']\n",
    "            \n",
    "            if redshiftcutoff & ( redshift > redcutoff) :\n",
    "                raise SkipRedshift\n",
    "                \n",
    "            if (len(pair_data['pairs'][phys]['Group ID']) == 0):    \n",
    "                raise EmptyFile\n",
    "                \n",
    "            unpair = pair_data[\"unpaired\"][phys]\n",
    "            unpairStells = np.array(unpair[\"Sub1 Stellar Mass\"])\n",
    "            unpairGroups = np.array(unpair[\"Group Mass\"])\n",
    "            unpairReals = np.array(unpair['Realization'])\n",
    "            \n",
    "            pair = pair_data[\"pairs\"][phys]\n",
    "            priStell = np.array(pair[\"Sub1 Stellar Mass\"])\n",
    "            secStell = np.array(pair[\"Sub2 Stellar Mass\"])\n",
    "            pairGroups = np.array(pair[\"Group Mass\"])\n",
    "            pairReals = np.array(pair[\"Realization\"])\n",
    "            seps = np.array(pair[\"Separation\"]) \n",
    "            \n",
    "            # subset masks for unpaired\n",
    "            unpair_pri = get_primmask(unpairStells, size)\n",
    "            unpair_group = get_groupmask(unpairGroups, size)                \n",
    "            \n",
    "            pair_pri = get_primmask(priStell, size)\n",
    "            pair_group = get_groupmask(pairGroups, size)\n",
    "\n",
    "            majors = (secStell/priStell > 1/4)\n",
    "            minors = (secStell/priStell > 1/10) & (secStell/priStell < 1/4)\n",
    "            pair_lowsep = (seps > 10) & (seps < 10000)\n",
    "\n",
    "            # defining combined masks \n",
    "            unpair_mask = unpair_pri & unpair_group\n",
    "            pair_mask = pair_pri & pair_group & pair_lowsep\n",
    "                \n",
    "            if sepcut == 'lower':\n",
    "                lower = kwargs.pop(\"lowerthan\",100)\n",
    "                pair_lower = seps < lower\n",
    "                pair_mask = pair_mask & pair_lower\n",
    "            elif sepcut == 'upper':\n",
    "                upper = kwargs.pop(\"higherthan\",100)\n",
    "                pair_higher = seps > upper\n",
    "                pair_mask = pair_mask & pair_higher\n",
    "                               \n",
    "            pri_perreal, all_perreal, maj_perreal, min_perreal = [], [], [], []\n",
    "            fracall_perreal, fracmaj_perreal, fracmin_perreal = [], [], []\n",
    "                \n",
    "            realizations = np.unique( unpairReals )\n",
    "                \n",
    "            for real in realizations:                  \n",
    "                # make realization masks\n",
    "                unpair_real = unpairReals == real\n",
    "                pair_real = pairReals == real\n",
    "\n",
    "                # make copies of masks\n",
    "                unpair_mask_real = unpair_mask & unpair_real\n",
    "                pair_mask_real = pair_mask & pair_real\n",
    "\n",
    "                majormask_real = pair_mask_real & majors & pair_lowsep\n",
    "                minormask_real = pair_mask_real & minors & pair_lowsep\n",
    "\n",
    "                num_unpair_real = np.count_nonzero(unpair_mask_real)\n",
    "                num_pair_real = np.count_nonzero(pair_mask_real)   \n",
    "                num_maj_real = np.count_nonzero(majormask_real)   \n",
    "                num_min_real = np.count_nonzero(minormask_real)  \n",
    "                num_pri_real = num_unpair_real + num_pair_real\n",
    "\n",
    "                pri_perreal.append( num_pri_real )\n",
    "                all_perreal.append( num_pair_real )\n",
    "                maj_perreal.append( num_maj_real )\n",
    "                min_perreal.append( num_min_real )\n",
    "                fracall_perreal.append( num_pair_real / num_pri_real )\n",
    "                fracmaj_perreal.append( num_maj_real / num_pri_real )\n",
    "                fracmin_perreal.append( num_min_real / num_pri_real )\n",
    "\n",
    "            numPri_z = np.median( pri_perreal )\n",
    "            numAll_z = np.median( all_perreal )\n",
    "            numMaj_z = np.median( maj_perreal )\n",
    "            numMin_z = np.median( min_perreal )\n",
    "            fracAll_z = np.median( fracall_perreal )\n",
    "            fracMaj_z = np.median( fracmaj_perreal )\n",
    "            fracMin_z = np.median( fracmin_perreal )\n",
    "\n",
    "            lower, upper = 1, 99\n",
    "\n",
    "            quartPri_z = np.percentile( pri_perreal, [lower,upper])\n",
    "            quartAll_z = np.percentile( all_perreal, [lower,upper])\n",
    "            quartMaj_z = np.percentile( maj_perreal, [lower,upper])\n",
    "            quartMin_z = np.percentile( min_perreal, [lower,upper])\n",
    "            quartfracAll_z = np.percentile( fracall_perreal, [lower,upper])\n",
    "            quartfracMaj_z = np.percentile( fracmaj_perreal, [lower,upper])\n",
    "            quartfracMin_z = np.percentile( fracmin_perreal, [lower,upper])\n",
    "            \n",
    "            redshifts.append( redshift )\n",
    "            numPri.append( numPri_z )\n",
    "            numAll.append( numAll_z )\n",
    "            numMaj.append( numMaj_z )\n",
    "            numMin.append( numMin_z )\n",
    "            fracAll.append( fracAll_z )\n",
    "            fracMaj.append( fracMaj_z )\n",
    "            fracMin.append( fracMin_z )\n",
    "            quartPri.append( quartPri_z )\n",
    "            quartAll.append( quartAll_z )\n",
    "            quartMaj.append( quartMaj_z )\n",
    "            quartMin.append( quartMin_z )\n",
    "            quartfracAll.append( quartfracAll_z )\n",
    "            quartfracMaj.append( quartfracMaj_z )\n",
    "            quartfracMin.append( quartfracMin_z )\n",
    "                       \n",
    "        except KeyError:\n",
    "            if errorprint: print(f'skipping {snap} for KeyError. Please debug')\n",
    "            continue\n",
    "            \n",
    "        except EmptyFile:\n",
    "            if errorprint: print(f\"skipping {snap}, empty file\")\n",
    "            continue\n",
    "            \n",
    "        except SkipRedshift:\n",
    "            if errorprint: print(f\"skipping {snap}, redshift out of range\")\n",
    "                \n",
    "    count_dictionary = {\n",
    "            \"z\": np.array(redshifts),\n",
    "            \"Number Primaries\": np.array(numPri),\n",
    "            \"Number Pairs\": np.array(numAll),\n",
    "            \"Number Majors\": np.array(numMaj),\n",
    "            \"Number Minors\": np.array(numMin),\n",
    "            \"Fraction Pairs\": np.array(fracAll),\n",
    "            \"Fraction Majors\": np.array(fracMaj),\n",
    "            \"Fraction Minors\": np.array(fracMin),\n",
    "            \"Quarts Primaries\": np.array(quartPri),\n",
    "            \"Quarts Pairs\": np.array(quartAll),\n",
    "            \"Quarts Majors\": np.array(quartMaj),\n",
    "            \"Quarts Minors\": np.array(quartMin),\n",
    "            \"Quarts Fraction Pairs\": np.array(quartfracAll),\n",
    "            \"Quarts Fraction Majors\": np.array(quartfracMaj),\n",
    "            \"Quarts Fraction Minors\": np.array(quartfracMin)}\n",
    "            \n",
    "    return count_dictionary\n",
    "\n",
    "def get_paircounts_simstell(sim, size, errorprint=False, redshiftcutoff=True, **kwargs):    \n",
    "    if sim == \"Illustris\":\n",
    "        snapshots = np.arange(0,136,1)\n",
    "        snapshots = np.delete(snapshots, np.where(snapshots==113)[0])\n",
    "        redcutoff = 3.8\n",
    "    elif sim == \"TNG\":\n",
    "        snapshots = np.arange(0,100,1)\n",
    "        snapshots = np.delete(snapshots, np.where(snapshots==48)[0])\n",
    "        redcutoff = 4\n",
    "        \n",
    "    redshifts, numAll, numPri, numMaj, numMin = [], [], [], [], []\n",
    "    fracAll, fracMaj, fracMin = [], [], []\n",
    "\n",
    "    sepcut = kwargs.pop('sepcut',None)\n",
    "       \n",
    "    for snap in snapshots:  \n",
    "        try:\n",
    "            pair_path = f\"{sim}_{snap}_simstars.hdf5\"\n",
    "            pair_data = h5py.File(f\"{paths.path_pairs}{pair_path}\", \"r\")\n",
    "            \n",
    "            if np.size(pair_data) == 0:\n",
    "                raise EmptyFile\n",
    "                \n",
    "            redshift = pair_data['Header'].attrs['Redshift']\n",
    "            \n",
    "            if redshiftcutoff & ( redshift > redcutoff) :\n",
    "                raise SkipRedshift\n",
    "                \n",
    "            if (len(pair_data['paired'][\"hydro\"]['Group ID']) == 0):    \n",
    "                raise EmptyFile\n",
    "                \n",
    "                \n",
    "            unpair = pair_data[\"unpaired\"][\"hydro\"]\n",
    "            unpairStells = np.array(unpair[\"Sub1 Stellar Mass\"])\n",
    "            unpairGroups = np.array(unpair[\"Group Mass\"])\n",
    "            unpairReals = np.array(unpair['Realization'])\n",
    "            \n",
    "            pair = pair_data[\"paired\"][\"hydro\"]\n",
    "            priStell = np.array(pair[\"Sub1 Stellar Mass\"])\n",
    "            secStell = np.array(pair[\"Sub2 Stellar Mass\"])\n",
    "            pairGroups = np.array(pair[\"Group Mass\"])\n",
    "            pairGrRads = np.array(pair[\"Group Radius\"])\n",
    "            pairReals = np.array(pair[\"Realization\"])\n",
    "            seps = np.array(pair[\"Separation\"])   \n",
    "            \n",
    "            # subset masks for unpaired\n",
    "            unpair_pri = get_primmask(unpairStells, size)\n",
    "            unpair_group = get_groupmask(unpairGroups, size)                \n",
    "            unpair_medreal = unpairReals == -1\n",
    "            \n",
    "            pair_pri = get_primmask(priStell, size)\n",
    "            pair_group = get_groupmask(pairGroups, size)\n",
    "            pair_medreal = pairReals == -1\n",
    "\n",
    "            majors = (secStell/priStell > 1/4)\n",
    "            minors = (secStell/priStell > 1/10) & (secStell/priStell < 1/4)\n",
    "            pair_lowsep = (seps > 10) & (seps < 10000)\n",
    "        \n",
    "            # defining combined masks \n",
    "            unpair_mask = unpair_pri & unpair_group\n",
    "            pair_mask = pair_pri & pair_group & pair_lowsep \n",
    "            \n",
    "            if sepcut == 'lower':\n",
    "                lower = kwargs.pop('lowerthan',100)\n",
    "                pair_lower = seps < lower\n",
    "                pair_mask = pair_mask & pair_lower\n",
    "            elif sepcut == 'upper':\n",
    "                upper = kwargs.pop('higherthan',100)\n",
    "                pair_higher = seps > upper\n",
    "                pair_mask = pair_mask & pair_higher\n",
    "                \n",
    "            unpair_mask = unpair_mask & unpair_medreal\n",
    "            pair_mask = pair_mask & pair_medreal\n",
    "            \n",
    "            major_mask = pair_mask & majors \n",
    "            minor_mask = pair_mask & minors\n",
    "            \n",
    "            num_unpair = np.count_nonzero(unpair_mask)\n",
    "            num_pair = np.count_nonzero(pair_mask)   \n",
    "            num_maj = np.count_nonzero(major_mask)   \n",
    "            num_min = np.count_nonzero(minor_mask)   \n",
    "\n",
    "            numPri_z = num_pair + num_unpair\n",
    "            numAll_z = num_pair\n",
    "            numMaj_z = num_maj\n",
    "            numMin_z = num_min\n",
    "            fracAll_z = numAll_z / numPri_z\n",
    "            fracMaj_z = numMaj_z / numPri_z\n",
    "            fracMin_z = numMin_z / numPri_z             \n",
    "           \n",
    "            redshifts.append( redshift )\n",
    "            numPri.append( numPri_z )\n",
    "            numAll.append( numAll_z )\n",
    "            numMaj.append( numMaj_z )\n",
    "            numMin.append( numMin_z )\n",
    "            fracAll.append( fracAll_z )\n",
    "            fracMaj.append( fracMaj_z )\n",
    "            fracMin.append( fracMin_z )\n",
    "                       \n",
    "        \n",
    "        except KeyError:\n",
    "            if errorprint: print(f'skipping {snap} for KeyError. Please debug')\n",
    "            continue\n",
    "            \n",
    "        except EmptyFile:\n",
    "            if errorprint: print(f\"skipping {snap}, empty file\")\n",
    "            continue\n",
    "            \n",
    "        except SkipRedshift:\n",
    "            if errorprint: print(f\"skipping {snap}, redshift out of range\")\n",
    "                \n",
    "    count_dictionary = {\n",
    "            \"z\": np.array(redshifts),\n",
    "            \"Number Primaries\": np.array(numPri),\n",
    "            \"Number Pairs\": np.array(numAll),\n",
    "            \"Number Majors\": np.array(numMaj),\n",
    "            \"Number Minors\": np.array(numMin),\n",
    "            \"Fraction Pairs\": np.array(fracAll),\n",
    "            \"Fraction Majors\": np.array(fracMaj),\n",
    "            \"Fraction Minors\": np.array(fracMin)\n",
    "    }\n",
    "    \n",
    "            \n",
    "    return count_dictionary\n",
    "\n",
    "def get_key(sim, phys, size, key, sepcut, errorprint=False, redshiftcutoff=True):    \n",
    "    if sim == \"Illustris\":\n",
    "        snapshots = np.arange(0,136,1)\n",
    "        snapshots = np.delete(snapshots, np.where(snapshots==113)[0])\n",
    "        redcutoff = 3.8\n",
    "    elif sim == \"TNG\":\n",
    "        snapshots = np.arange(0,100,1)\n",
    "        snapshots = np.delete(snapshots, np.where(snapshots==48)[0])\n",
    "        redcutoff = 4\n",
    "        \n",
    "    redshifts = []  \n",
    "    med_pairs, med_major, med_minor = [], [], []\n",
    "    quart_pairs, quart_major, quart_minor = [], [], []\n",
    "            \n",
    "    for snap in snapshots:  \n",
    "        try:\n",
    "            pair_path = f\"{sim}_{snap}_10.hdf5\"\n",
    "            pair_data = h5py.File(f\"{paths.path_pairs}{pair_path}\", \"r\")\n",
    "            \n",
    "            if np.size(pair_data) == 0:\n",
    "                raise EmptyFile\n",
    "                \n",
    "            redshift = pair_data['Header'].attrs['Redshift']\n",
    "            \n",
    "            if redshiftcutoff & ( redshift > redcutoff) :\n",
    "                raise SkipRedshift\n",
    "                \n",
    "            if (len(pair_data['pairs'][phys]['Group ID']) == 0):    \n",
    "                raise EmptyFile\n",
    "                \n",
    "            pair = pair_data[\"pairs\"][phys]\n",
    "            priStell = np.array(pair[\"Sub1 Stellar Mass\"])\n",
    "            secStell = np.array(pair[\"Sub2 Stellar Mass\"])\n",
    "            pairGroups = np.array(pair[\"Group Mass\"])\n",
    "            pairGrRads = np.array(pair[\"Group Radius\"])\n",
    "            pairReals = np.array(pair[\"Realization\"])\n",
    "            seps = np.array(pair[\"Separation\"]) \n",
    "            keydat = np.array(pair[key])\n",
    "            \n",
    "            # subset masks for unpaired\n",
    "            pair_pri = get_primmask(priStell, size)\n",
    "            pair_group = get_groupmask(pairGroups, size)\n",
    "\n",
    "            majors = (secStell/priStell > 1/4)\n",
    "            minors = (secStell/priStell > 1/10) & (secStell/priStell < 1/4)\n",
    "            pair_lowsep = (seps > 10) & (seps < 10000)\n",
    "\n",
    "            # defining combined masks \n",
    "            pair_mask = pair_pri & pair_group & pair_lowsep\n",
    "        \n",
    "            if sepcut == \"low\":\n",
    "                sep_mask = seps < 0.5*pairGrRads\n",
    "                pair_mask = pair_mask & sep_mask\n",
    "            elif sepcut == \"high\":\n",
    "                sep_mask = seps > 0.5*pairGrRads\n",
    "                pair_mask = pair_mask & sep_mask\n",
    "                               \n",
    "            pair_per_real = []\n",
    "            major_per_real = []\n",
    "            minor_per_real = []\n",
    "                \n",
    "            realizations = np.unique( pairReals )\n",
    "\n",
    "            for real in realizations:\n",
    "                pair_real = pairReals == real\n",
    "\n",
    "                pair_mask_real = pair_mask & pair_real & (majors | minors)\n",
    "                major_mask_real = pair_mask_real & majors\n",
    "                minor_mask_real = pair_mask_real & minors\n",
    "\n",
    "                pair_xx = np.median( keydat[pair_mask_real] )\n",
    "                major_xx = np.median( keydat[major_mask_real] )\n",
    "                minor_xx = np.median( keydat[minor_mask_real] )\n",
    "\n",
    "                pair_per_real.append( pair_xx )\n",
    "                major_per_real.append( major_xx )\n",
    "                minor_per_real.append( minor_xx )\n",
    "\n",
    "            med_pairs_snap = np.median(pair_per_real)\n",
    "            med_major_snap = np.median(major_per_real)\n",
    "            med_minor_snap = np.median(minor_per_real)\n",
    "            quart_pairs_snap = np.percentile( pair_per_real,[16,84] ) \n",
    "            quart_major_snap = np.percentile( major_per_real,[16,84] ) \n",
    "            quart_minor_snap = np.percentile( minor_per_real,[16,84] ) \n",
    "                \n",
    "            redshifts.append( redshift )\n",
    "            med_pairs.append( med_pairs_snap )\n",
    "            med_major.append( med_major_snap )\n",
    "            med_minor.append( med_minor_snap )\n",
    "\n",
    "            quart_pairs.append( quart_pairs_snap )\n",
    "            quart_major.append( quart_major_snap )\n",
    "            quart_minor.append( quart_minor_snap )\n",
    "\n",
    "        except KeyError:\n",
    "            if errorprint: print(f'skipping {snap} for KeyError. Please debug')\n",
    "            continue\n",
    "            \n",
    "        except EmptyFile:\n",
    "            if errorprint: print(f\"skipping {snap}, empty file\")\n",
    "            continue\n",
    "            \n",
    "        except SkipRedshift:\n",
    "            if errorprint: print(f\"skipping {snap}, redshift out of range\")\n",
    "                \n",
    "                \n",
    "    sep_dictionary = {\"z\":np.array(redshifts),\n",
    "                        \"All Median\": np.array(med_pairs),\n",
    "                        \"Major Median\": np.array(med_major),\n",
    "                        \"Minor Median\":np.array(med_minor),\n",
    "                        \"All Quarts\":np.array(quart_pairs),\n",
    "                        \"Major Quarts\":np.array(quart_major),\n",
    "                        \"Minor Quarts\":np.array(quart_minor)}\n",
    "    \n",
    "    return sep_dictionary\n",
    "\n",
    "def get_key_simstell(sim, size, key, sepcut, errorprint=False, redshiftcutoff=True):    \n",
    "    if sim == \"Illustris\":\n",
    "        snapshots = np.arange(0,136,1)\n",
    "        snapshots = np.delete(snapshots, np.where(snapshots==113)[0])\n",
    "        redcutoff = 3.8\n",
    "    elif sim == \"TNG\":\n",
    "        snapshots = np.arange(0,100,1)\n",
    "        snapshots = np.delete(snapshots, np.where(snapshots==48)[0])\n",
    "        redcutoff = 4\n",
    "        \n",
    "    redshifts = []  \n",
    "    med_pairs, med_major, med_minor = [], [], []\n",
    "    quart_pairs, quart_major, quart_minor = [], [], []\n",
    "            \n",
    "    for snap in snapshots:  \n",
    "        try:\n",
    "            pair_path = f\"{sim}_{snap}_simstars.hdf5\"\n",
    "            pair_data = h5py.File(f\"{paths.path_pairs}{pair_path}\", \"r\")\n",
    "            \n",
    "            if np.size(pair_data) == 0:\n",
    "                raise EmptyFile\n",
    "                \n",
    "            redshift = pair_data['Header'].attrs['Redshift']\n",
    "            \n",
    "            if redshiftcutoff & ( redshift > redcutoff) :\n",
    "                raise SkipRedshift\n",
    "                \n",
    "            if (len(pair_data['pairs']['hydro']['Group ID']) == 0):    \n",
    "                raise EmptyFile\n",
    "                \n",
    "            pair = pair_data[\"pairs\"]['hydro']\n",
    "            priStell = np.array(pair[\"Sub1 Stellar Mass\"])\n",
    "            secStell = np.array(pair[\"Sub2 Stellar Mass\"])\n",
    "            pairGroups = np.array(pair[\"Group Mass\"])\n",
    "            pairGrRads = np.array(pair[\"Group Radius\"])\n",
    "            seps = np.array(pair[\"Separation\"]) \n",
    "            keydat = np.array(pair[key])\n",
    "            \n",
    "            # subset masks for unpaired\n",
    "            pair_pri = get_primmask(priStell, size)\n",
    "            pair_group = get_groupmask(pairGroups, size)\n",
    "\n",
    "            majors = (secStell/priStell > 1/4)\n",
    "            minors = (secStell/priStell > 1/10) & (secStell/priStell < 1/4)\n",
    "            pair_lowsep = (seps > 10) & (seps < 10000)\n",
    "\n",
    "            # defining combined masks \n",
    "            pair_mask = pair_pri & pair_group & pair_lowsep\n",
    "        \n",
    "            if sepcut == \"low\":\n",
    "                sep_mask = seps < 0.5*pairGrRads\n",
    "                pair_mask = pair_mask & sep_mask\n",
    "            elif sepcut == \"high\":\n",
    "                sep_mask = seps > 0.5*pairGrRads\n",
    "                pair_mask = pair_mask & sep_mask\n",
    "                               \n",
    "\n",
    "\n",
    "            pair_mask = pair_mask & (majors | minors)\n",
    "            major_mask = pair_mask & majors\n",
    "            minor_mask = pair_mask & minors\n",
    "\n",
    "            pair_dat = keydat[pair_mask]\n",
    "            major_dat = keydat[major_mask]\n",
    "            minor_dat = keydat[minor_mask]\n",
    "\n",
    "            med_pairs_snap = np.median(pair_dat)\n",
    "            med_major_snap = np.median(major_dat)\n",
    "            med_minor_snap = np.median(minor_dat)\n",
    "            quart_pairs_snap = np.percentile( pair_dat,[16,84] ) \n",
    "            quart_major_snap = np.percentile( major_dat,[16,84] ) \n",
    "            quart_minor_snap = np.percentile( minor_dat,[16,84] ) \n",
    "                \n",
    "            redshifts.append( redshift )\n",
    "            med_pairs.append( med_pairs_snap )\n",
    "            med_major.append( med_major_snap )\n",
    "            med_minor.append( med_minor_snap )\n",
    "\n",
    "            quart_pairs.append( quart_pairs_snap )\n",
    "            quart_major.append( quart_major_snap )\n",
    "            quart_minor.append( quart_minor_snap )\n",
    "\n",
    "        except KeyError:\n",
    "            if errorprint: print(f'skipping {snap} for KeyError. Please debug')\n",
    "            continue\n",
    "            \n",
    "        except EmptyFile:\n",
    "            if errorprint: print(f\"skipping {snap}, empty file\")\n",
    "            continue\n",
    "            \n",
    "        except SkipRedshift:\n",
    "            if errorprint: print(f\"skipping {snap}, redshift out of range\")\n",
    "                \n",
    "                \n",
    "    sep_dictionary = {\"z\":np.array(redshifts),\n",
    "                        \"All Median\": np.array(med_pairs),\n",
    "                        \"Major Median\": np.array(med_major),\n",
    "                        \"Minor Median\":np.array(med_minor),\n",
    "                        \"All Quarts\":np.array(quart_pairs),\n",
    "                        \"Major Quarts\":np.array(quart_major),\n",
    "                        \"Minor Quarts\":np.array(quart_minor)}\n",
    "    \n",
    "    return sep_dictionary"
   ]
  },
  {
   "cell_type": "code",
   "execution_count": null,
   "id": "f89c8aac",
   "metadata": {},
   "outputs": [],
   "source": []
  },
  {
   "cell_type": "code",
   "execution_count": null,
   "id": "20440dcc",
   "metadata": {},
   "outputs": [],
   "source": []
  },
  {
   "cell_type": "code",
   "execution_count": null,
   "id": "1170c846",
   "metadata": {},
   "outputs": [],
   "source": [
    "path = f\"Illustris_135_simstars.hdf5\"\n",
    "data = h5py.File(f\"{paths.path_pairs}{path}\", \"r\")"
   ]
  }
 ],
 "metadata": {
  "kernelspec": {
   "display_name": "Python 3",
   "language": "python",
   "name": "python3"
  },
  "language_info": {
   "codemirror_mode": {
    "name": "ipython",
    "version": 3
   },
   "file_extension": ".py",
   "mimetype": "text/x-python",
   "name": "python",
   "nbconvert_exporter": "python",
   "pygments_lexer": "ipython3",
   "version": "3.8.13"
  },
  "toc": {
   "base_numbering": 1,
   "nav_menu": {},
   "number_sections": true,
   "sideBar": true,
   "skip_h1_title": false,
   "title_cell": "Table of Contents",
   "title_sidebar": "Contents",
   "toc_cell": false,
   "toc_position": {},
   "toc_section_display": true,
   "toc_window_display": false
  }
 },
 "nbformat": 4,
 "nbformat_minor": 5
}
